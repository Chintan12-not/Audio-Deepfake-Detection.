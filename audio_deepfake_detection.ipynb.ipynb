{
 "cells": [
  {
   "cell_type": "code",
   "execution_count": 3,
   "id": "f469b4f9-b3a5-407a-865e-1953eb8e761e",
   "metadata": {},
   "outputs": [
    {
     "name": "stdout",
     "output_type": "stream",
     "text": [
      "(182357, 1)\n",
      "                                             0\n",
      "0  T_4850 T_0000000000 F - - - AC3 A05 spoof -\n",
      "1  T_0858 T_0000000001 M - - - AC3 A07 spoof -\n",
      "2  T_4075 T_0000000002 M - - - AC2 A04 spoof -\n",
      "3  T_0938 T_0000000003 M - - - AC2 A08 spoof -\n",
      "4  T_0610 T_0000000004 M - - - AC2 A05 spoof -\n"
     ]
    }
   ],
   "source": [
    "print(df_protocol.shape)\n",
    "print(df_protocol.head())\n"
   ]
  },
  {
   "cell_type": "code",
   "execution_count": 5,
   "id": "4ef87945-f7d0-4843-82bc-d6cc1c9b7e9d",
   "metadata": {},
   "outputs": [
    {
     "name": "stderr",
     "output_type": "stream",
     "text": [
      "<>:1: SyntaxWarning: invalid escape sequence '\\s'\n",
      "<>:1: SyntaxWarning: invalid escape sequence '\\s'\n",
      "C:\\Users\\chint\\AppData\\Local\\Temp\\ipykernel_5456\\1863288290.py:1: SyntaxWarning: invalid escape sequence '\\s'\n",
      "  df_protocol = pd.read_csv(protocol_path, sep='\\s+', header=None, engine=\"python\")\n"
     ]
    },
    {
     "name": "stdout",
     "output_type": "stream",
     "text": [
      "(182357, 10)\n",
      "        0             1  2  3  4  5    6    7      8  9\n",
      "0  T_4850  T_0000000000  F  -  -  -  AC3  A05  spoof  -\n",
      "1  T_0858  T_0000000001  M  -  -  -  AC3  A07  spoof  -\n",
      "2  T_4075  T_0000000002  M  -  -  -  AC2  A04  spoof  -\n",
      "3  T_0938  T_0000000003  M  -  -  -  AC2  A08  spoof  -\n",
      "4  T_0610  T_0000000004  M  -  -  -  AC2  A05  spoof  -\n"
     ]
    }
   ],
   "source": [
    "df_protocol = pd.read_csv(protocol_path, sep='\\s+', header=None, engine=\"python\")\n",
    "print(df_protocol.shape)  # Should now have multiple columns\n",
    "print(df_protocol.head())  # Verify the output\n"
   ]
  },
  {
   "cell_type": "code",
   "execution_count": 9,
   "id": "a54e7b87-51db-46e3-ba9c-a815e1d143c9",
   "metadata": {},
   "outputs": [],
   "source": [
    "df_protocol.columns = ['speaker_id', 'file_name', 'gender', 'unknown1', 'unknown2', 'unknown3', 'codec', 'attack_id', 'label', 'extra']\n"
   ]
  },
  {
   "cell_type": "code",
   "execution_count": 13,
   "id": "75e7897b-6e8f-4221-9eb4-27c53621f6f6",
   "metadata": {},
   "outputs": [
    {
     "name": "stderr",
     "output_type": "stream",
     "text": [
      "<>:1: SyntaxWarning: invalid escape sequence '\\s'\n",
      "<>:1: SyntaxWarning: invalid escape sequence '\\s'\n",
      "C:\\Users\\chint\\AppData\\Local\\Temp\\ipykernel_5456\\3288098021.py:1: SyntaxWarning: invalid escape sequence '\\s'\n",
      "  df_protocol = pd.read_csv(protocol_path, sep='\\s+', header=None)\n"
     ]
    },
    {
     "name": "stdout",
     "output_type": "stream",
     "text": [
      "        0             1  2  3  4  5    6    7      8  9\n",
      "0  T_4850  T_0000000000  F  -  -  -  AC3  A05  spoof  -\n",
      "1  T_0858  T_0000000001  M  -  -  -  AC3  A07  spoof  -\n",
      "2  T_4075  T_0000000002  M  -  -  -  AC2  A04  spoof  -\n",
      "3  T_0938  T_0000000003  M  -  -  -  AC2  A08  spoof  -\n",
      "4  T_0610  T_0000000004  M  -  -  -  AC2  A05  spoof  -\n"
     ]
    }
   ],
   "source": [
    "df_protocol = pd.read_csv(protocol_path, sep='\\s+', header=None)\n",
    "print(df_protocol.head())  # Check if columns are properly separated\n"
   ]
  },
  {
   "cell_type": "code",
   "execution_count": 15,
   "id": "34dbdde6-ae85-44d0-bd85-450a9da6ae4e",
   "metadata": {},
   "outputs": [],
   "source": [
    "df_protocol.columns = ['speaker_id', 'file_name', 'gender', 'unknown1', 'unknown2', 'unknown3', 'codec', 'attack_id', 'label', 'extra']\n"
   ]
  },
  {
   "cell_type": "code",
   "execution_count": 17,
   "id": "76b376d3-41da-4446-9bda-360bb0f7d6a1",
   "metadata": {},
   "outputs": [
    {
     "name": "stdout",
     "output_type": "stream",
     "text": [
      "      file_name  label\n",
      "0  T_0000000000  spoof\n",
      "1  T_0000000001  spoof\n",
      "2  T_0000000002  spoof\n",
      "3  T_0000000003  spoof\n",
      "4  T_0000000004  spoof\n"
     ]
    }
   ],
   "source": [
    "print(df_protocol[['file_name', 'label']].head())\n"
   ]
  },
  {
   "cell_type": "code",
   "execution_count": 19,
   "id": "cf7ee397-7836-4e2e-94d0-89d4506c1438",
   "metadata": {},
   "outputs": [
    {
     "name": "stdout",
     "output_type": "stream",
     "text": [
      "Train Dataset Shape: (0, 15)\n",
      "Test Dataset Shape: (0, 15)\n",
      "Sample Data:\n",
      "Empty DataFrame\n",
      "Columns: [0, 1, 2, 3, 4, 5, 6, 7, 8, 9, 10, 11, 12, file_name, label]\n",
      "Index: []\n"
     ]
    }
   ],
   "source": [
    "# Merge MFCC features with labels\n",
    "df_train = df_mfcc_train.merge(df_protocol[['file_name', 'label']], on='file_name', how='inner')\n",
    "df_test = df_mfcc_test.merge(df_protocol[['file_name', 'label']], on='file_name', how='inner')\n",
    "\n",
    "# Check merged data\n",
    "print(\"Train Dataset Shape:\", df_train.shape)\n",
    "print(\"Test Dataset Shape:\", df_test.shape)\n",
    "print(\"Sample Data:\")\n",
    "print(df_train.head())\n"
   ]
  },
  {
   "cell_type": "code",
   "execution_count": 21,
   "id": "c29baa09-b335-4396-abf0-4d5efde2efa2",
   "metadata": {},
   "outputs": [
    {
     "name": "stdout",
     "output_type": "stream",
     "text": [
      "MFCC Train Sample File Names: ['D_0000000001.wav', 'D_0000000022.wav', 'D_0000000043.wav', 'D_0000000064.wav', 'D_0000000085.wav']\n",
      "MFCC Test Sample File Names: ['E_0000000024.wav', 'E_0000000034.wav', 'E_0000000076.wav', 'E_0000000111.wav', 'E_0000000146.wav']\n",
      "Protocol Sample File Names: ['T_0000000000', 'T_0000000001', 'T_0000000002', 'T_0000000003', 'T_0000000004']\n"
     ]
    }
   ],
   "source": [
    "print(\"MFCC Train Sample File Names:\", df_mfcc_train['file_name'].head().tolist())\n",
    "print(\"MFCC Test Sample File Names:\", df_mfcc_test['file_name'].head().tolist())\n",
    "print(\"Protocol Sample File Names:\", df_protocol['file_name'].head().tolist())\n"
   ]
  },
  {
   "cell_type": "code",
   "execution_count": 23,
   "id": "27beebf4-7c30-4941-a477-fe40e436c61d",
   "metadata": {},
   "outputs": [
    {
     "name": "stdout",
     "output_type": "stream",
     "text": [
      "Train Dataset Shape: (0, 15)\n",
      "Test Dataset Shape: (0, 15)\n",
      "Sample Data:\n",
      "Empty DataFrame\n",
      "Columns: [0, 1, 2, 3, 4, 5, 6, 7, 8, 9, 10, 11, 12, file_name, label]\n",
      "Index: []\n"
     ]
    }
   ],
   "source": [
    "# Remove \".wav\" from file_name in MFCC datasets\n",
    "df_mfcc_train['file_name'] = df_mfcc_train['file_name'].str.replace('.wav', '', regex=False)\n",
    "df_mfcc_test['file_name'] = df_mfcc_test['file_name'].str.replace('.wav', '', regex=False)\n",
    "\n",
    "# Now merge with protocol\n",
    "df_train = df_mfcc_train.merge(df_protocol[['file_name', 'label']], on='file_name', how='inner')\n",
    "df_test = df_mfcc_test.merge(df_protocol[['file_name', 'label']], on='file_name', how='inner')\n",
    "\n",
    "# Check merged data\n",
    "print(\"Train Dataset Shape:\", df_train.shape)\n",
    "print(\"Test Dataset Shape:\", df_test.shape)\n",
    "print(\"Sample Data:\")\n",
    "print(df_train.head())\n"
   ]
  },
  {
   "cell_type": "code",
   "execution_count": 25,
   "id": "5a638068-dc29-48fe-856b-8c4f2f777575",
   "metadata": {},
   "outputs": [
    {
     "name": "stdout",
     "output_type": "stream",
     "text": [
      "MFCC Train Sample File Names: ['D_0000000001', 'D_0000000022', 'D_0000000043', 'D_0000000064', 'D_0000000085']\n",
      "MFCC Test Sample File Names: ['E_0000000024', 'E_0000000034', 'E_0000000076', 'E_0000000111', 'E_0000000146']\n",
      "Protocol Sample File Names: ['T_0000000000', 'T_0000000001', 'T_0000000002', 'T_0000000003', 'T_0000000004']\n"
     ]
    }
   ],
   "source": [
    "print(\"MFCC Train Sample File Names:\", df_mfcc_train['file_name'].head().tolist())\n",
    "print(\"MFCC Test Sample File Names:\", df_mfcc_test['file_name'].head().tolist())\n",
    "print(\"Protocol Sample File Names:\", df_protocol['file_name'].head().tolist())\n"
   ]
  },
  {
   "cell_type": "code",
   "execution_count": 27,
   "id": "e1d8b937-cff8-4b0d-9b61-c215e1d30f42",
   "metadata": {},
   "outputs": [
    {
     "name": "stdout",
     "output_type": "stream",
     "text": [
      "Train Dataset Shape: (1000, 15)\n",
      "Test Dataset Shape: (1000, 15)\n",
      "Sample Data:\n",
      "           0           1          2          3          4          5  \\\n",
      "0 -270.66006   86.968890   7.281247  33.202810  -5.214931  -7.949212   \n",
      "1 -215.15361   74.880640  -4.085223  19.896591  -0.618440  -3.719756   \n",
      "2 -419.32890   82.210570   8.517164  18.840805   4.152921   6.203514   \n",
      "3 -243.92444   24.415829  -0.971279  15.066822   1.275768   3.525213   \n",
      "4 -188.07930  102.899360  21.322973  21.325409  14.244423 -13.902673   \n",
      "\n",
      "           6         7          8         9         10        11        12  \\\n",
      "0 -13.602361 -6.132411 -11.188409 -6.122156  -6.420838 -2.219017 -2.870135   \n",
      "1 -16.176802 -8.224868   2.292492 -5.855526 -11.294562 -8.086863  1.250375   \n",
      "2  17.030296  6.160502   6.416310  9.273605   3.684317  6.692914 -0.647750   \n",
      "3 -20.668020 -1.528401  -0.764815 -2.137746   1.293021  2.032590 -5.610179   \n",
      "4  -9.612606 -4.039522  -8.843912  2.091725  -5.123893  7.109763 -8.007497   \n",
      "\n",
      "    file_name     label  \n",
      "0  0000000001     spoof  \n",
      "1  0000000022     spoof  \n",
      "2  0000000043     spoof  \n",
      "3  0000000064     spoof  \n",
      "4  0000000085  bonafide  \n"
     ]
    }
   ],
   "source": [
    "import pandas as pd\n",
    "\n",
    "# Extract only the numeric part from file names\n",
    "df_mfcc_train['file_name'] = df_mfcc_train['file_name'].str.extract(r'(\\d+)')\n",
    "df_mfcc_test['file_name'] = df_mfcc_test['file_name'].str.extract(r'(\\d+)')\n",
    "df_protocol['file_name'] = df_protocol['file_name'].str.extract(r'(\\d+)')\n",
    "\n",
    "# Merge MFCC features with labels\n",
    "df_train = df_mfcc_train.merge(df_protocol[['file_name', 'label']], on='file_name', how='inner')\n",
    "df_test = df_mfcc_test.merge(df_protocol[['file_name', 'label']], on='file_name', how='inner')\n",
    "\n",
    "# Check merged data\n",
    "print(\"Train Dataset Shape:\", df_train.shape)\n",
    "print(\"Test Dataset Shape:\", df_test.shape)\n",
    "print(\"Sample Data:\")\n",
    "print(df_train.head())\n",
    "\n"
   ]
  },
  {
   "cell_type": "code",
   "execution_count": 29,
   "id": "1d5191e1-78bb-485d-ab7a-5678da41666d",
   "metadata": {},
   "outputs": [
    {
     "name": "stdout",
     "output_type": "stream",
     "text": [
      "Unique MFCC Train File Names: ['0000000001' '0000000022' '0000000043' '0000000064' '0000000085'\n",
      " '0000000106' '0000000127' '0000000148' '0000000169' '0000000190']\n",
      "Unique Protocol File Names: ['0000000000' '0000000001' '0000000002' '0000000003' '0000000004'\n",
      " '0000000005' '0000000006' '0000000007' '0000000008' '0000000009']\n"
     ]
    }
   ],
   "source": [
    "print(\"Unique MFCC Train File Names:\", df_mfcc_train['file_name'].unique()[:10])\n",
    "print(\"Unique Protocol File Names:\", df_protocol['file_name'].unique()[:10])\n"
   ]
  },
  {
   "cell_type": "code",
   "execution_count": 31,
   "id": "1c7e7408-d58f-4f46-aba5-f12f0768cc54",
   "metadata": {},
   "outputs": [
    {
     "name": "stdout",
     "output_type": "stream",
     "text": [
      "Train Dataset Shape: (1000, 15)\n",
      "Test Dataset Shape: (1000, 15)\n",
      "Sample Data:\n",
      "           0           1          2          3          4          5  \\\n",
      "0 -270.66006   86.968890   7.281247  33.202810  -5.214931  -7.949212   \n",
      "1 -215.15361   74.880640  -4.085223  19.896591  -0.618440  -3.719756   \n",
      "2 -419.32890   82.210570   8.517164  18.840805   4.152921   6.203514   \n",
      "3 -243.92444   24.415829  -0.971279  15.066822   1.275768   3.525213   \n",
      "4 -188.07930  102.899360  21.322973  21.325409  14.244423 -13.902673   \n",
      "\n",
      "           6         7          8         9         10        11        12  \\\n",
      "0 -13.602361 -6.132411 -11.188409 -6.122156  -6.420838 -2.219017 -2.870135   \n",
      "1 -16.176802 -8.224868   2.292492 -5.855526 -11.294562 -8.086863  1.250375   \n",
      "2  17.030296  6.160502   6.416310  9.273605   3.684317  6.692914 -0.647750   \n",
      "3 -20.668020 -1.528401  -0.764815 -2.137746   1.293021  2.032590 -5.610179   \n",
      "4  -9.612606 -4.039522  -8.843912  2.091725  -5.123893  7.109763 -8.007497   \n",
      "\n",
      "    file_name     label  \n",
      "0  0000000001     spoof  \n",
      "1  0000000022     spoof  \n",
      "2  0000000043     spoof  \n",
      "3  0000000064     spoof  \n",
      "4  0000000085  bonafide  \n"
     ]
    }
   ],
   "source": [
    "# Merge MFCC features with labels\n",
    "df_train = df_mfcc_train.merge(df_protocol[['file_name', 'label']], on='file_name', how='inner')\n",
    "df_test = df_mfcc_test.merge(df_protocol[['file_name', 'label']], on='file_name', how='inner')\n",
    "\n",
    "# Check merged data\n",
    "print(\"Train Dataset Shape:\", df_train.shape)\n",
    "print(\"Test Dataset Shape:\", df_test.shape)\n",
    "print(\"Sample Data:\")\n",
    "print(df_train.head())\n"
   ]
  },
  {
   "cell_type": "code",
   "execution_count": 33,
   "id": "e9693ed1-8401-4fc0-8e03-c981e27126f0",
   "metadata": {
    "scrolled": true
   },
   "outputs": [
    {
     "name": "stdout",
     "output_type": "stream",
     "text": [
      "Mapped datasets saved successfully!\n"
     ]
    }
   ],
   "source": [
    "df_train.to_csv(r\"C:\\Users\\chint\\OneDrive\\Documents\\ASV_MFCC_Output\\train_mapped.csv\", index=False)\n",
    "df_test.to_csv(r\"C:\\Users\\chint\\OneDrive\\Documents\\ASV_MFCC_Output\\test_mapped.csv\", index=False)\n",
    "\n",
    "print(\"Mapped datasets saved successfully!\")\n"
   ]
  },
  {
   "cell_type": "code",
   "execution_count": 35,
   "id": "3f0ed0cf-627e-4703-8d64-85c1c200e03f",
   "metadata": {},
   "outputs": [
    {
     "name": "stdout",
     "output_type": "stream",
     "text": [
      "Data Preparation Done ✅\n"
     ]
    }
   ],
   "source": [
    "import pandas as pd\n",
    "from sklearn.model_selection import train_test_split\n",
    "from sklearn.preprocessing import StandardScaler, LabelEncoder\n",
    "import torch\n",
    "\n",
    "# Load mapped datasets\n",
    "df_train = pd.read_csv(r\"C:\\Users\\chint\\OneDrive\\Documents\\ASV_MFCC_Output\\train_mapped.csv\")\n",
    "df_test = pd.read_csv(r\"C:\\Users\\chint\\OneDrive\\Documents\\ASV_MFCC_Output\\test_mapped.csv\")\n",
    "\n",
    "# Extract features & labels\n",
    "X_train = df_train.iloc[:, :-2].values  # All columns except last two\n",
    "y_train = df_train['label'].values\n",
    "X_test = df_test.iloc[:, :-2].values\n",
    "y_test = df_test['label'].values\n",
    "\n",
    "# Encode labels (bonafide -> 0, spoof -> 1)\n",
    "label_encoder = LabelEncoder()\n",
    "y_train = label_encoder.fit_transform(y_train)\n",
    "y_test = label_encoder.transform(y_test)\n",
    "\n",
    "# Normalize Features\n",
    "scaler = StandardScaler()\n",
    "X_train = scaler.fit_transform(X_train)\n",
    "X_test = scaler.transform(X_test)\n",
    "\n",
    "# Convert to Tensors (For PyTorch models)\n",
    "X_train_tensor = torch.tensor(X_train, dtype=torch.float32)\n",
    "y_train_tensor = torch.tensor(y_train, dtype=torch.long)\n",
    "X_test_tensor = torch.tensor(X_test, dtype=torch.float32)\n",
    "y_test_tensor = torch.tensor(y_test, dtype=torch.long)\n",
    "\n",
    "print(\"Data Preparation Done ✅\")\n"
   ]
  },
  {
   "cell_type": "code",
   "execution_count": 37,
   "id": "e8d56f77-18f3-4f1a-8cb8-a6370a99f4fc",
   "metadata": {},
   "outputs": [
    {
     "name": "stdout",
     "output_type": "stream",
     "text": [
      "RawNet Ready ✅\n"
     ]
    }
   ],
   "source": [
    "import torch.nn as nn\n",
    "\n",
    "class RawNet(nn.Module):\n",
    "    def __init__(self, input_dim):\n",
    "        super(RawNet, self).__init__()\n",
    "        self.conv1 = nn.Conv1d(in_channels=1, out_channels=16, kernel_size=3, stride=1, padding=1)\n",
    "        self.relu = nn.ReLU()\n",
    "        self.fc = nn.Linear(input_dim * 16, 2)  # 2 output classes (bonafide/spoof)\n",
    "\n",
    "    def forward(self, x):\n",
    "        x = self.conv1(x.unsqueeze(1))\n",
    "        x = self.relu(x)\n",
    "        x = x.view(x.size(0), -1)\n",
    "        x = self.fc(x)\n",
    "        return x\n",
    "\n",
    "# Initialize Model\n",
    "rawnet_model = RawNet(input_dim=X_train.shape[1])\n",
    "print(\"RawNet Ready ✅\")\n"
   ]
  },
  {
   "cell_type": "code",
   "execution_count": 39,
   "id": "b665d6a1-bf89-4e07-b077-f42769c95198",
   "metadata": {},
   "outputs": [
    {
     "name": "stdout",
     "output_type": "stream",
     "text": [
      "LCNN Ready ✅\n"
     ]
    }
   ],
   "source": [
    "class LCNN(nn.Module):\n",
    "    def __init__(self, input_dim):\n",
    "        super(LCNN, self).__init__()\n",
    "        self.conv1 = nn.Conv1d(1, 32, kernel_size=3, padding=1)\n",
    "        self.conv2 = nn.Conv1d(32, 64, kernel_size=3, padding=1)\n",
    "        self.fc = nn.Linear(input_dim * 64, 2)\n",
    "\n",
    "    def forward(self, x):\n",
    "        x = self.conv1(x.unsqueeze(1))\n",
    "        x = nn.ReLU()(x)\n",
    "        x = self.conv2(x)\n",
    "        x = nn.ReLU()(x)\n",
    "        x = x.view(x.size(0), -1)\n",
    "        x = self.fc(x)\n",
    "        return x\n",
    "\n",
    "lcnn_model = LCNN(input_dim=X_train.shape[1])\n",
    "print(\"LCNN Ready ✅\")\n"
   ]
  },
  {
   "cell_type": "code",
   "execution_count": 43,
   "id": "c1b45e61-d61f-4127-9b36-58f573f67745",
   "metadata": {},
   "outputs": [
    {
     "name": "stdout",
     "output_type": "stream",
     "text": [
      "Collecting transformers\n",
      "  Downloading transformers-4.50.3-py3-none-any.whl.metadata (39 kB)\n",
      "Requirement already satisfied: filelock in c:\\users\\chint\\anaconda3\\lib\\site-packages (from transformers) (3.13.1)\n",
      "Collecting huggingface-hub<1.0,>=0.26.0 (from transformers)\n",
      "  Downloading huggingface_hub-0.30.1-py3-none-any.whl.metadata (13 kB)\n",
      "Requirement already satisfied: numpy>=1.17 in c:\\users\\chint\\anaconda3\\lib\\site-packages (from transformers) (1.26.4)\n",
      "Requirement already satisfied: packaging>=20.0 in c:\\users\\chint\\anaconda3\\lib\\site-packages (from transformers) (24.1)\n",
      "Requirement already satisfied: pyyaml>=5.1 in c:\\users\\chint\\anaconda3\\lib\\site-packages (from transformers) (6.0.1)\n",
      "Requirement already satisfied: regex!=2019.12.17 in c:\\users\\chint\\anaconda3\\lib\\site-packages (from transformers) (2024.9.11)\n",
      "Requirement already satisfied: requests in c:\\users\\chint\\anaconda3\\lib\\site-packages (from transformers) (2.32.3)\n",
      "Collecting tokenizers<0.22,>=0.21 (from transformers)\n",
      "  Downloading tokenizers-0.21.1-cp39-abi3-win_amd64.whl.metadata (6.9 kB)\n",
      "Collecting safetensors>=0.4.3 (from transformers)\n",
      "  Downloading safetensors-0.5.3-cp38-abi3-win_amd64.whl.metadata (3.9 kB)\n",
      "Requirement already satisfied: tqdm>=4.27 in c:\\users\\chint\\anaconda3\\lib\\site-packages (from transformers) (4.66.5)\n",
      "Requirement already satisfied: fsspec>=2023.5.0 in c:\\users\\chint\\anaconda3\\lib\\site-packages (from huggingface-hub<1.0,>=0.26.0->transformers) (2024.6.1)\n",
      "Requirement already satisfied: typing-extensions>=3.7.4.3 in c:\\users\\chint\\anaconda3\\lib\\site-packages (from huggingface-hub<1.0,>=0.26.0->transformers) (4.11.0)\n",
      "Requirement already satisfied: colorama in c:\\users\\chint\\anaconda3\\lib\\site-packages (from tqdm>=4.27->transformers) (0.4.6)\n",
      "Requirement already satisfied: charset-normalizer<4,>=2 in c:\\users\\chint\\anaconda3\\lib\\site-packages (from requests->transformers) (3.3.2)\n",
      "Requirement already satisfied: idna<4,>=2.5 in c:\\users\\chint\\anaconda3\\lib\\site-packages (from requests->transformers) (3.7)\n",
      "Requirement already satisfied: urllib3<3,>=1.21.1 in c:\\users\\chint\\anaconda3\\lib\\site-packages (from requests->transformers) (2.2.3)\n",
      "Requirement already satisfied: certifi>=2017.4.17 in c:\\users\\chint\\anaconda3\\lib\\site-packages (from requests->transformers) (2025.1.31)\n",
      "Downloading transformers-4.50.3-py3-none-any.whl (10.2 MB)\n",
      "   ---------------------------------------- 0.0/10.2 MB ? eta -:--:--\n",
      "   --- ------------------------------------ 0.8/10.2 MB 5.6 MB/s eta 0:00:02\n",
      "   -------- ------------------------------- 2.1/10.2 MB 5.1 MB/s eta 0:00:02\n",
      "   -------------- ------------------------- 3.7/10.2 MB 5.7 MB/s eta 0:00:02\n",
      "   --------------------- ------------------ 5.5/10.2 MB 6.4 MB/s eta 0:00:01\n",
      "   ---------------------------- ----------- 7.3/10.2 MB 7.0 MB/s eta 0:00:01\n",
      "   ------------------------------------- -- 9.4/10.2 MB 7.4 MB/s eta 0:00:01\n",
      "   ---------------------------------------  10.0/10.2 MB 7.5 MB/s eta 0:00:01\n",
      "   ---------------------------------------  10.0/10.2 MB 7.5 MB/s eta 0:00:01\n",
      "   ---------------------------------------- 10.2/10.2 MB 5.4 MB/s eta 0:00:00\n",
      "Downloading huggingface_hub-0.30.1-py3-none-any.whl (481 kB)\n",
      "Downloading safetensors-0.5.3-cp38-abi3-win_amd64.whl (308 kB)\n",
      "Downloading tokenizers-0.21.1-cp39-abi3-win_amd64.whl (2.4 MB)\n",
      "   ---------------------------------------- 0.0/2.4 MB ? eta -:--:--\n",
      "   --------------------- ------------------ 1.3/2.4 MB 6.1 MB/s eta 0:00:01\n",
      "   -------------------------------------- - 2.4/2.4 MB 7.4 MB/s eta 0:00:01\n",
      "   ---------------------------------------- 2.4/2.4 MB 4.1 MB/s eta 0:00:00\n",
      "Installing collected packages: safetensors, huggingface-hub, tokenizers, transformers\n",
      "Successfully installed huggingface-hub-0.30.1 safetensors-0.5.3 tokenizers-0.21.1 transformers-4.50.3\n",
      "Note: you may need to restart the kernel to use updated packages.\n"
     ]
    }
   ],
   "source": [
    "pip install transformers\n"
   ]
  },
  {
   "cell_type": "code",
   "execution_count": 45,
   "id": "b58bc011-46c1-4c50-b91d-c756db399405",
   "metadata": {},
   "outputs": [
    {
     "name": "stdout",
     "output_type": "stream",
     "text": [
      "Train Dataset Shape: (1000, 15)\n",
      "Test Dataset Shape: (1000, 15)\n",
      "           0           1          2          3          4          5  \\\n",
      "0 -270.66006   86.968890   7.281247  33.202810  -5.214931  -7.949212   \n",
      "1 -215.15361   74.880640  -4.085223  19.896591  -0.618440  -3.719756   \n",
      "2 -419.32890   82.210570   8.517164  18.840805   4.152921   6.203514   \n",
      "3 -243.92444   24.415829  -0.971279  15.066822   1.275768   3.525213   \n",
      "4 -188.07930  102.899360  21.322973  21.325409  14.244423 -13.902673   \n",
      "\n",
      "           6         7          8         9         10        11        12  \\\n",
      "0 -13.602361 -6.132411 -11.188409 -6.122156  -6.420838 -2.219017 -2.870135   \n",
      "1 -16.176802 -8.224868   2.292492 -5.855526 -11.294562 -8.086863  1.250375   \n",
      "2  17.030296  6.160502   6.416310  9.273605   3.684317  6.692914 -0.647750   \n",
      "3 -20.668020 -1.528401  -0.764815 -2.137746   1.293021  2.032590 -5.610179   \n",
      "4  -9.612606 -4.039522  -8.843912  2.091725  -5.123893  7.109763 -8.007497   \n",
      "\n",
      "   file_name     label  \n",
      "0          1     spoof  \n",
      "1         22     spoof  \n",
      "2         43     spoof  \n",
      "3         64     spoof  \n",
      "4         85  bonafide  \n"
     ]
    }
   ],
   "source": [
    "import pandas as pd\n",
    "\n",
    "# Load the datasets\n",
    "train_path = r\"C:\\Users\\chint\\OneDrive\\Documents\\ASV_MFCC_Output\\train_mapped.csv\"\n",
    "test_path = r\"C:\\Users\\chint\\OneDrive\\Documents\\ASV_MFCC_Output\\test_mapped.csv\"\n",
    "\n",
    "df_train = pd.read_csv(train_path)\n",
    "df_test = pd.read_csv(test_path)\n",
    "\n",
    "# Display basic info\n",
    "print(\"Train Dataset Shape:\", df_train.shape)\n",
    "print(\"Test Dataset Shape:\", df_test.shape)\n",
    "print(df_train.head())\n"
   ]
  },
  {
   "cell_type": "code",
   "execution_count": 47,
   "id": "8272a62b-ad7b-48e2-b467-db53c62e33aa",
   "metadata": {},
   "outputs": [
    {
     "name": "stdout",
     "output_type": "stream",
     "text": [
      "Feature extraction complete ✅\n"
     ]
    }
   ],
   "source": [
    "from sklearn.model_selection import train_test_split\n",
    "from sklearn.preprocessing import LabelEncoder\n",
    "\n",
    "# Separate features and labels\n",
    "X_train = df_train.drop(columns=['file_name', 'label']).values  # Drop non-numeric columns\n",
    "y_train = df_train['label'].values\n",
    "\n",
    "X_test = df_test.drop(columns=['file_name', 'label']).values\n",
    "y_test = df_test['label'].values\n",
    "\n",
    "# Encode labels (bonafide=0, spoof=1)\n",
    "label_encoder = LabelEncoder()\n",
    "y_train = label_encoder.fit_transform(y_train)\n",
    "y_test = label_encoder.transform(y_test)\n",
    "\n",
    "print(\"Feature extraction complete ✅\")\n"
   ]
  },
  {
   "cell_type": "code",
   "execution_count": 49,
   "id": "a538d656-6c19-484c-ba65-32968d846de8",
   "metadata": {},
   "outputs": [
    {
     "name": "stdout",
     "output_type": "stream",
     "text": [
      "Accuracy: 0.891\n",
      "Classification Report:\n",
      "               precision    recall  f1-score   support\n",
      "\n",
      "           0       0.17      0.01      0.02       105\n",
      "           1       0.90      0.99      0.94       895\n",
      "\n",
      "    accuracy                           0.89      1000\n",
      "   macro avg       0.53      0.50      0.48      1000\n",
      "weighted avg       0.82      0.89      0.85      1000\n",
      "\n"
     ]
    }
   ],
   "source": [
    "from sklearn.ensemble import RandomForestClassifier\n",
    "from sklearn.metrics import accuracy_score, classification_report\n",
    "\n",
    "# Train classifier\n",
    "clf = RandomForestClassifier(n_estimators=100, random_state=42)\n",
    "clf.fit(X_train, y_train)\n",
    "\n",
    "# Predictions\n",
    "y_pred = clf.predict(X_test)\n",
    "\n",
    "# Evaluate model\n",
    "print(\"Accuracy:\", accuracy_score(y_test, y_pred))\n",
    "print(\"Classification Report:\\n\", classification_report(y_test, y_pred))\n"
   ]
  },
  {
   "cell_type": "code",
   "execution_count": 51,
   "id": "437ef922-5ef3-49c8-9350-53d4ee280675",
   "metadata": {},
   "outputs": [
    {
     "name": "stdout",
     "output_type": "stream",
     "text": [
      "MFCC features normalized ✅\n"
     ]
    }
   ],
   "source": [
    "from sklearn.preprocessing import MinMaxScaler\n",
    "\n",
    "# Normalize data\n",
    "scaler = MinMaxScaler()\n",
    "X_train_scaled = scaler.fit_transform(X_train)\n",
    "X_test_scaled = scaler.transform(X_test)\n",
    "\n",
    "print(\"MFCC features normalized ✅\")\n"
   ]
  },
  {
   "cell_type": "code",
   "execution_count": 53,
   "id": "1b2b6f34-c8b1-495d-848b-0ebdbcbeafb1",
   "metadata": {},
   "outputs": [
    {
     "name": "stdout",
     "output_type": "stream",
     "text": [
      "Data reshaped for CNN ✅\n"
     ]
    }
   ],
   "source": [
    "import numpy as np\n",
    "\n",
    "# Reshape data for CNN (assuming 13 MFCC features)\n",
    "time_steps = X_train_scaled.shape[1] // 13  # Adjust based on MFCC count\n",
    "X_train_cnn = X_train_scaled.reshape(-1, 13, time_steps, 1)\n",
    "X_test_cnn = X_test_scaled.reshape(-1, 13, time_steps, 1)\n",
    "\n",
    "print(\"Data reshaped for CNN ✅\")\n"
   ]
  },
  {
   "cell_type": "code",
   "execution_count": 57,
   "id": "36490afb-4e99-4972-a374-8c77a00efeac",
   "metadata": {},
   "outputs": [],
   "source": [
    "df_train.to_csv(\"train_mapped_backup.csv\", index=False)\n",
    "df_test.to_csv(\"test_mapped_backup.csv\", index=False)\n"
   ]
  },
  {
   "cell_type": "code",
   "execution_count": 59,
   "id": "14dd2d45-5756-4fb5-a374-ca570edaa61e",
   "metadata": {},
   "outputs": [
    {
     "name": "stdout",
     "output_type": "stream",
     "text": [
      "True\n",
      "True\n"
     ]
    }
   ],
   "source": [
    "import os\n",
    "print(os.path.exists(\"train_mapped_backup.csv\"))  # Should print True\n",
    "print(os.path.exists(\"test_mapped_backup.csv\"))   # Should print True\n"
   ]
  },
  {
   "cell_type": "code",
   "execution_count": 61,
   "id": "780a7382-40c2-4095-b0cf-1cd98ecc4d6a",
   "metadata": {},
   "outputs": [
    {
     "name": "stdout",
     "output_type": "stream",
     "text": [
      "Collecting tensorflow\n",
      "  Downloading tensorflow-2.19.0-cp312-cp312-win_amd64.whl.metadata (4.1 kB)\n",
      "Collecting absl-py>=1.0.0 (from tensorflow)\n",
      "  Downloading absl_py-2.2.1-py3-none-any.whl.metadata (2.4 kB)\n",
      "Collecting astunparse>=1.6.0 (from tensorflow)\n",
      "  Downloading astunparse-1.6.3-py2.py3-none-any.whl.metadata (4.4 kB)\n",
      "Collecting flatbuffers>=24.3.25 (from tensorflow)\n",
      "  Downloading flatbuffers-25.2.10-py2.py3-none-any.whl.metadata (875 bytes)\n",
      "Collecting gast!=0.5.0,!=0.5.1,!=0.5.2,>=0.2.1 (from tensorflow)\n",
      "  Downloading gast-0.6.0-py3-none-any.whl.metadata (1.3 kB)\n",
      "Collecting google-pasta>=0.1.1 (from tensorflow)\n",
      "  Downloading google_pasta-0.2.0-py3-none-any.whl.metadata (814 bytes)\n",
      "Collecting libclang>=13.0.0 (from tensorflow)\n",
      "  Downloading libclang-18.1.1-py2.py3-none-win_amd64.whl.metadata (5.3 kB)\n",
      "Collecting opt-einsum>=2.3.2 (from tensorflow)\n",
      "  Downloading opt_einsum-3.4.0-py3-none-any.whl.metadata (6.3 kB)\n",
      "Requirement already satisfied: packaging in c:\\users\\chint\\anaconda3\\lib\\site-packages (from tensorflow) (24.1)\n",
      "Requirement already satisfied: protobuf!=4.21.0,!=4.21.1,!=4.21.2,!=4.21.3,!=4.21.4,!=4.21.5,<6.0.0dev,>=3.20.3 in c:\\users\\chint\\anaconda3\\lib\\site-packages (from tensorflow) (4.25.3)\n",
      "Requirement already satisfied: requests<3,>=2.21.0 in c:\\users\\chint\\anaconda3\\lib\\site-packages (from tensorflow) (2.32.3)\n",
      "Requirement already satisfied: setuptools in c:\\users\\chint\\anaconda3\\lib\\site-packages (from tensorflow) (75.1.0)\n",
      "Requirement already satisfied: six>=1.12.0 in c:\\users\\chint\\anaconda3\\lib\\site-packages (from tensorflow) (1.16.0)\n",
      "Collecting termcolor>=1.1.0 (from tensorflow)\n",
      "  Downloading termcolor-3.0.0-py3-none-any.whl.metadata (6.1 kB)\n",
      "Requirement already satisfied: typing-extensions>=3.6.6 in c:\\users\\chint\\anaconda3\\lib\\site-packages (from tensorflow) (4.11.0)\n",
      "Requirement already satisfied: wrapt>=1.11.0 in c:\\users\\chint\\anaconda3\\lib\\site-packages (from tensorflow) (1.14.1)\n",
      "Collecting grpcio<2.0,>=1.24.3 (from tensorflow)\n",
      "  Downloading grpcio-1.71.0-cp312-cp312-win_amd64.whl.metadata (4.0 kB)\n",
      "Collecting tensorboard~=2.19.0 (from tensorflow)\n",
      "  Downloading tensorboard-2.19.0-py3-none-any.whl.metadata (1.8 kB)\n",
      "Collecting keras>=3.5.0 (from tensorflow)\n",
      "  Downloading keras-3.9.1-py3-none-any.whl.metadata (6.1 kB)\n",
      "Requirement already satisfied: numpy<2.2.0,>=1.26.0 in c:\\users\\chint\\anaconda3\\lib\\site-packages (from tensorflow) (1.26.4)\n",
      "Requirement already satisfied: h5py>=3.11.0 in c:\\users\\chint\\anaconda3\\lib\\site-packages (from tensorflow) (3.11.0)\n",
      "Collecting ml-dtypes<1.0.0,>=0.5.1 (from tensorflow)\n",
      "  Downloading ml_dtypes-0.5.1-cp312-cp312-win_amd64.whl.metadata (22 kB)\n",
      "Requirement already satisfied: wheel<1.0,>=0.23.0 in c:\\users\\chint\\anaconda3\\lib\\site-packages (from astunparse>=1.6.0->tensorflow) (0.44.0)\n",
      "Requirement already satisfied: rich in c:\\users\\chint\\anaconda3\\lib\\site-packages (from keras>=3.5.0->tensorflow) (13.7.1)\n",
      "Collecting namex (from keras>=3.5.0->tensorflow)\n",
      "  Downloading namex-0.0.8-py3-none-any.whl.metadata (246 bytes)\n",
      "Collecting optree (from keras>=3.5.0->tensorflow)\n",
      "  Downloading optree-0.14.1-cp312-cp312-win_amd64.whl.metadata (50 kB)\n",
      "Requirement already satisfied: charset-normalizer<4,>=2 in c:\\users\\chint\\anaconda3\\lib\\site-packages (from requests<3,>=2.21.0->tensorflow) (3.3.2)\n",
      "Requirement already satisfied: idna<4,>=2.5 in c:\\users\\chint\\anaconda3\\lib\\site-packages (from requests<3,>=2.21.0->tensorflow) (3.7)\n",
      "Requirement already satisfied: urllib3<3,>=1.21.1 in c:\\users\\chint\\anaconda3\\lib\\site-packages (from requests<3,>=2.21.0->tensorflow) (2.2.3)\n",
      "Requirement already satisfied: certifi>=2017.4.17 in c:\\users\\chint\\anaconda3\\lib\\site-packages (from requests<3,>=2.21.0->tensorflow) (2025.1.31)\n",
      "Requirement already satisfied: markdown>=2.6.8 in c:\\users\\chint\\anaconda3\\lib\\site-packages (from tensorboard~=2.19.0->tensorflow) (3.4.1)\n",
      "Collecting tensorboard-data-server<0.8.0,>=0.7.0 (from tensorboard~=2.19.0->tensorflow)\n",
      "  Downloading tensorboard_data_server-0.7.2-py3-none-any.whl.metadata (1.1 kB)\n",
      "Requirement already satisfied: werkzeug>=1.0.1 in c:\\users\\chint\\anaconda3\\lib\\site-packages (from tensorboard~=2.19.0->tensorflow) (3.0.3)\n",
      "Requirement already satisfied: MarkupSafe>=2.1.1 in c:\\users\\chint\\anaconda3\\lib\\site-packages (from werkzeug>=1.0.1->tensorboard~=2.19.0->tensorflow) (2.1.3)\n",
      "Requirement already satisfied: markdown-it-py>=2.2.0 in c:\\users\\chint\\anaconda3\\lib\\site-packages (from rich->keras>=3.5.0->tensorflow) (2.2.0)\n",
      "Requirement already satisfied: pygments<3.0.0,>=2.13.0 in c:\\users\\chint\\anaconda3\\lib\\site-packages (from rich->keras>=3.5.0->tensorflow) (2.15.1)\n",
      "Requirement already satisfied: mdurl~=0.1 in c:\\users\\chint\\anaconda3\\lib\\site-packages (from markdown-it-py>=2.2.0->rich->keras>=3.5.0->tensorflow) (0.1.0)\n",
      "Downloading tensorflow-2.19.0-cp312-cp312-win_amd64.whl (376.0 MB)\n",
      "   ---------------------------------------- 0.0/376.0 MB ? eta -:--:--\n",
      "   ---------------------------------------- 2.6/376.0 MB 13.7 MB/s eta 0:00:28\n",
      "    --------------------------------------- 6.3/376.0 MB 14.3 MB/s eta 0:00:26\n",
      "   - -------------------------------------- 10.7/376.0 MB 16.4 MB/s eta 0:00:23\n",
      "   - -------------------------------------- 13.9/376.0 MB 16.8 MB/s eta 0:00:22\n",
      "   - -------------------------------------- 17.6/376.0 MB 16.3 MB/s eta 0:00:22\n",
      "   -- ------------------------------------- 20.7/376.0 MB 16.2 MB/s eta 0:00:22\n",
      "   -- ------------------------------------- 23.1/376.0 MB 15.4 MB/s eta 0:00:23\n",
      "   -- ------------------------------------- 24.9/376.0 MB 14.6 MB/s eta 0:00:25\n",
      "   -- ------------------------------------- 27.0/376.0 MB 14.0 MB/s eta 0:00:25\n",
      "   --- ------------------------------------ 28.8/376.0 MB 13.5 MB/s eta 0:00:26\n",
      "   --- ------------------------------------ 31.2/376.0 MB 13.3 MB/s eta 0:00:26\n",
      "   --- ------------------------------------ 33.8/376.0 MB 13.2 MB/s eta 0:00:26\n",
      "   --- ------------------------------------ 36.4/376.0 MB 13.1 MB/s eta 0:00:26\n",
      "   ---- ----------------------------------- 38.5/376.0 MB 12.9 MB/s eta 0:00:27\n",
      "   ---- ----------------------------------- 40.9/376.0 MB 12.7 MB/s eta 0:00:27\n",
      "   ---- ----------------------------------- 42.7/376.0 MB 12.5 MB/s eta 0:00:27\n",
      "   ---- ----------------------------------- 44.8/376.0 MB 12.3 MB/s eta 0:00:27\n",
      "   ----- ---------------------------------- 47.2/376.0 MB 12.3 MB/s eta 0:00:27\n",
      "   ----- ---------------------------------- 49.0/376.0 MB 12.1 MB/s eta 0:00:27\n",
      "   ----- ---------------------------------- 51.4/376.0 MB 12.0 MB/s eta 0:00:27\n",
      "   ----- ---------------------------------- 53.5/376.0 MB 11.9 MB/s eta 0:00:28\n",
      "   ----- ---------------------------------- 56.1/376.0 MB 12.0 MB/s eta 0:00:27\n",
      "   ------ --------------------------------- 58.2/376.0 MB 11.9 MB/s eta 0:00:27\n",
      "   ------ --------------------------------- 60.3/376.0 MB 11.8 MB/s eta 0:00:27\n",
      "   ------ --------------------------------- 63.2/376.0 MB 11.8 MB/s eta 0:00:27\n",
      "   ------ --------------------------------- 65.5/376.0 MB 11.8 MB/s eta 0:00:27\n",
      "   ------- -------------------------------- 67.4/376.0 MB 11.8 MB/s eta 0:00:27\n",
      "   ------- -------------------------------- 69.7/376.0 MB 11.7 MB/s eta 0:00:27\n",
      "   ------- -------------------------------- 72.6/376.0 MB 11.8 MB/s eta 0:00:26\n",
      "   -------- ------------------------------- 75.2/376.0 MB 11.8 MB/s eta 0:00:26\n",
      "   -------- ------------------------------- 78.1/376.0 MB 11.8 MB/s eta 0:00:26\n",
      "   -------- ------------------------------- 81.3/376.0 MB 11.9 MB/s eta 0:00:25\n",
      "   --------- ------------------------------ 85.2/376.0 MB 12.1 MB/s eta 0:00:25\n",
      "   --------- ------------------------------ 87.8/376.0 MB 12.1 MB/s eta 0:00:24\n",
      "   --------- ------------------------------ 91.2/376.0 MB 12.2 MB/s eta 0:00:24\n",
      "   --------- ------------------------------ 93.6/376.0 MB 12.2 MB/s eta 0:00:24\n",
      "   ---------- ----------------------------- 97.0/376.0 MB 12.3 MB/s eta 0:00:23\n",
      "   ---------- ----------------------------- 99.4/376.0 MB 12.3 MB/s eta 0:00:23\n",
      "   ---------- ---------------------------- 101.7/376.0 MB 12.2 MB/s eta 0:00:23\n",
      "   ---------- ---------------------------- 104.9/376.0 MB 12.3 MB/s eta 0:00:23\n",
      "   ----------- --------------------------- 107.5/376.0 MB 12.3 MB/s eta 0:00:22\n",
      "   ----------- --------------------------- 110.1/376.0 MB 12.3 MB/s eta 0:00:22\n",
      "   ----------- --------------------------- 113.0/376.0 MB 12.3 MB/s eta 0:00:22\n",
      "   ----------- --------------------------- 115.3/376.0 MB 12.2 MB/s eta 0:00:22\n",
      "   ------------ -------------------------- 117.4/376.0 MB 12.2 MB/s eta 0:00:22\n",
      "   ------------ -------------------------- 120.1/376.0 MB 12.2 MB/s eta 0:00:21\n",
      "   ------------ -------------------------- 122.4/376.0 MB 12.2 MB/s eta 0:00:21\n",
      "   ------------ -------------------------- 124.8/376.0 MB 12.2 MB/s eta 0:00:21\n",
      "   ------------- ------------------------- 127.4/376.0 MB 12.2 MB/s eta 0:00:21\n",
      "   ------------- ------------------------- 130.3/376.0 MB 12.2 MB/s eta 0:00:21\n",
      "   ------------- ------------------------- 133.2/376.0 MB 12.2 MB/s eta 0:00:20\n",
      "   -------------- ------------------------ 135.8/376.0 MB 12.3 MB/s eta 0:00:20\n",
      "   -------------- ------------------------ 138.4/376.0 MB 12.3 MB/s eta 0:00:20\n",
      "   -------------- ------------------------ 141.3/376.0 MB 12.3 MB/s eta 0:00:20\n",
      "   -------------- ------------------------ 143.1/376.0 MB 12.3 MB/s eta 0:00:19\n",
      "   --------------- ----------------------- 144.7/376.0 MB 12.1 MB/s eta 0:00:20\n",
      "   --------------- ----------------------- 146.3/376.0 MB 12.1 MB/s eta 0:00:19\n",
      "   --------------- ----------------------- 148.1/376.0 MB 12.0 MB/s eta 0:00:19\n",
      "   --------------- ----------------------- 150.5/376.0 MB 12.0 MB/s eta 0:00:19\n",
      "   --------------- ----------------------- 152.8/376.0 MB 12.0 MB/s eta 0:00:19\n",
      "   ---------------- ---------------------- 155.5/376.0 MB 12.0 MB/s eta 0:00:19\n",
      "   ---------------- ---------------------- 158.3/376.0 MB 12.0 MB/s eta 0:00:19\n",
      "   ---------------- ---------------------- 160.4/376.0 MB 12.0 MB/s eta 0:00:18\n",
      "   ---------------- ---------------------- 163.6/376.0 MB 12.0 MB/s eta 0:00:18\n",
      "   ----------------- --------------------- 167.0/376.0 MB 12.1 MB/s eta 0:00:18\n",
      "   ----------------- --------------------- 170.4/376.0 MB 12.1 MB/s eta 0:00:17\n",
      "   ------------------ -------------------- 173.8/376.0 MB 12.2 MB/s eta 0:00:17\n",
      "   ------------------ -------------------- 176.9/376.0 MB 12.2 MB/s eta 0:00:17\n",
      "   ------------------ -------------------- 179.3/376.0 MB 12.2 MB/s eta 0:00:17\n",
      "   ------------------ -------------------- 182.2/376.0 MB 12.2 MB/s eta 0:00:16\n",
      "   ------------------- ------------------- 184.8/376.0 MB 12.3 MB/s eta 0:00:16\n",
      "   ------------------- ------------------- 186.6/376.0 MB 12.2 MB/s eta 0:00:16\n",
      "   ------------------- ------------------- 188.7/376.0 MB 12.2 MB/s eta 0:00:16\n",
      "   ------------------- ------------------- 191.1/376.0 MB 12.2 MB/s eta 0:00:16\n",
      "   -------------------- ------------------ 194.0/376.0 MB 12.2 MB/s eta 0:00:15\n",
      "   -------------------- ------------------ 196.3/376.0 MB 12.2 MB/s eta 0:00:15\n",
      "   -------------------- ------------------ 199.2/376.0 MB 12.2 MB/s eta 0:00:15\n",
      "   -------------------- ------------------ 202.1/376.0 MB 12.2 MB/s eta 0:00:15\n",
      "   --------------------- ----------------- 205.0/376.0 MB 12.2 MB/s eta 0:00:14\n",
      "   --------------------- ----------------- 208.1/376.0 MB 12.2 MB/s eta 0:00:14\n",
      "   --------------------- ----------------- 211.0/376.0 MB 12.3 MB/s eta 0:00:14\n",
      "   ---------------------- ---------------- 212.6/376.0 MB 12.2 MB/s eta 0:00:14\n",
      "   ---------------------- ---------------- 213.6/376.0 MB 12.1 MB/s eta 0:00:14\n",
      "   ---------------------- ---------------- 215.0/376.0 MB 12.0 MB/s eta 0:00:14\n",
      "   ---------------------- ---------------- 216.5/376.0 MB 12.0 MB/s eta 0:00:14\n",
      "   ---------------------- ---------------- 218.1/376.0 MB 11.9 MB/s eta 0:00:14\n",
      "   ---------------------- ---------------- 220.5/376.0 MB 11.9 MB/s eta 0:00:14\n",
      "   ----------------------- --------------- 222.6/376.0 MB 11.9 MB/s eta 0:00:13\n",
      "   ----------------------- --------------- 225.2/376.0 MB 11.9 MB/s eta 0:00:13\n",
      "   ----------------------- --------------- 228.1/376.0 MB 11.9 MB/s eta 0:00:13\n",
      "   ----------------------- --------------- 230.9/376.0 MB 11.9 MB/s eta 0:00:13\n",
      "   ------------------------ -------------- 233.8/376.0 MB 11.9 MB/s eta 0:00:12\n",
      "   ------------------------ -------------- 237.0/376.0 MB 11.9 MB/s eta 0:00:12\n",
      "   ------------------------ -------------- 240.4/376.0 MB 12.0 MB/s eta 0:00:12\n",
      "   ------------------------- ------------- 243.8/376.0 MB 12.0 MB/s eta 0:00:11\n",
      "   ------------------------- ------------- 247.2/376.0 MB 12.1 MB/s eta 0:00:11\n",
      "   ------------------------- ------------- 249.8/376.0 MB 12.1 MB/s eta 0:00:11\n",
      "   -------------------------- ------------ 252.2/376.0 MB 12.1 MB/s eta 0:00:11\n",
      "   -------------------------- ------------ 254.8/376.0 MB 12.1 MB/s eta 0:00:11\n",
      "   -------------------------- ------------ 257.4/376.0 MB 12.1 MB/s eta 0:00:10\n",
      "   -------------------------- ------------ 259.8/376.0 MB 12.1 MB/s eta 0:00:10\n",
      "   --------------------------- ----------- 262.4/376.0 MB 12.1 MB/s eta 0:00:10\n",
      "   --------------------------- ----------- 265.0/376.0 MB 12.1 MB/s eta 0:00:10\n",
      "   --------------------------- ----------- 267.6/376.0 MB 12.0 MB/s eta 0:00:09\n",
      "   ---------------------------- ---------- 270.3/376.0 MB 12.0 MB/s eta 0:00:09\n",
      "   ---------------------------- ---------- 272.1/376.0 MB 11.9 MB/s eta 0:00:09\n",
      "   ---------------------------- ---------- 273.9/376.0 MB 11.9 MB/s eta 0:00:09\n",
      "   ---------------------------- ---------- 275.8/376.0 MB 11.8 MB/s eta 0:00:09\n",
      "   ---------------------------- ---------- 277.9/376.0 MB 11.8 MB/s eta 0:00:09\n",
      "   ----------------------------- --------- 280.8/376.0 MB 11.8 MB/s eta 0:00:09\n",
      "   ----------------------------- --------- 283.9/376.0 MB 11.8 MB/s eta 0:00:08\n",
      "   ----------------------------- --------- 286.3/376.0 MB 11.8 MB/s eta 0:00:08\n",
      "   ------------------------------ -------- 290.2/376.0 MB 11.9 MB/s eta 0:00:08\n",
      "   ------------------------------ -------- 293.9/376.0 MB 12.0 MB/s eta 0:00:07\n",
      "   ------------------------------ -------- 296.7/376.0 MB 12.0 MB/s eta 0:00:07\n",
      "   ------------------------------- ------- 298.8/376.0 MB 12.0 MB/s eta 0:00:07\n",
      "   ------------------------------- ------- 300.7/376.0 MB 11.9 MB/s eta 0:00:07\n",
      "   ------------------------------- ------- 302.8/376.0 MB 11.9 MB/s eta 0:00:07\n",
      "   ------------------------------- ------- 305.1/376.0 MB 11.9 MB/s eta 0:00:06\n",
      "   ------------------------------- ------- 307.5/376.0 MB 12.0 MB/s eta 0:00:06\n",
      "   -------------------------------- ------ 310.6/376.0 MB 12.0 MB/s eta 0:00:06\n",
      "   -------------------------------- ------ 313.5/376.0 MB 12.1 MB/s eta 0:00:06\n",
      "   -------------------------------- ------ 316.4/376.0 MB 12.1 MB/s eta 0:00:05\n",
      "   --------------------------------- ----- 319.3/376.0 MB 12.1 MB/s eta 0:00:05\n",
      "   --------------------------------- ----- 322.2/376.0 MB 12.1 MB/s eta 0:00:05\n",
      "   --------------------------------- ----- 325.1/376.0 MB 12.1 MB/s eta 0:00:05\n",
      "   --------------------------------- ----- 327.7/376.0 MB 12.2 MB/s eta 0:00:04\n",
      "   ---------------------------------- ---- 329.8/376.0 MB 12.2 MB/s eta 0:00:04\n",
      "   ---------------------------------- ---- 332.7/376.0 MB 12.2 MB/s eta 0:00:04\n",
      "   ---------------------------------- ---- 335.5/376.0 MB 12.2 MB/s eta 0:00:04\n",
      "   ----------------------------------- --- 338.2/376.0 MB 12.2 MB/s eta 0:00:04\n",
      "   ----------------------------------- --- 341.0/376.0 MB 12.2 MB/s eta 0:00:03\n",
      "   ----------------------------------- --- 342.6/376.0 MB 12.1 MB/s eta 0:00:03\n",
      "   ----------------------------------- --- 344.5/376.0 MB 12.1 MB/s eta 0:00:03\n",
      "   ----------------------------------- --- 346.6/376.0 MB 12.0 MB/s eta 0:00:03\n",
      "   ------------------------------------ -- 348.9/376.0 MB 12.0 MB/s eta 0:00:03\n",
      "   ------------------------------------ -- 351.5/376.0 MB 12.0 MB/s eta 0:00:03\n",
      "   ------------------------------------ -- 354.4/376.0 MB 12.0 MB/s eta 0:00:02\n",
      "   ------------------------------------- - 357.0/376.0 MB 12.0 MB/s eta 0:00:02\n",
      "   ------------------------------------- - 359.9/376.0 MB 12.0 MB/s eta 0:00:02\n",
      "   ------------------------------------- - 362.5/376.0 MB 12.0 MB/s eta 0:00:02\n",
      "   ------------------------------------- - 366.2/376.0 MB 12.0 MB/s eta 0:00:01\n",
      "   --------------------------------------  368.6/376.0 MB 12.0 MB/s eta 0:00:01\n",
      "   --------------------------------------  370.4/376.0 MB 12.0 MB/s eta 0:00:01\n",
      "   --------------------------------------  373.6/376.0 MB 12.0 MB/s eta 0:00:01\n",
      "   --------------------------------------  375.9/376.0 MB 12.0 MB/s eta 0:00:01\n",
      "   --------------------------------------  375.9/376.0 MB 12.0 MB/s eta 0:00:01\n",
      "   --------------------------------------  375.9/376.0 MB 12.0 MB/s eta 0:00:01\n",
      "   --------------------------------------  375.9/376.0 MB 12.0 MB/s eta 0:00:01\n",
      "   --------------------------------------  375.9/376.0 MB 12.0 MB/s eta 0:00:01\n",
      "   --------------------------------------  375.9/376.0 MB 12.0 MB/s eta 0:00:01\n",
      "   --------------------------------------  375.9/376.0 MB 12.0 MB/s eta 0:00:01\n",
      "   --------------------------------------  375.9/376.0 MB 12.0 MB/s eta 0:00:01\n",
      "   --------------------------------------  375.9/376.0 MB 12.0 MB/s eta 0:00:01\n",
      "   --------------------------------------  375.9/376.0 MB 12.0 MB/s eta 0:00:01\n",
      "   --------------------------------------  375.9/376.0 MB 12.0 MB/s eta 0:00:01\n",
      "   --------------------------------------  375.9/376.0 MB 12.0 MB/s eta 0:00:01\n",
      "   --------------------------------------  375.9/376.0 MB 12.0 MB/s eta 0:00:01\n",
      "   --------------------------------------  375.9/376.0 MB 12.0 MB/s eta 0:00:01\n",
      "   --------------------------------------  375.9/376.0 MB 12.0 MB/s eta 0:00:01\n",
      "   --------------------------------------  375.9/376.0 MB 12.0 MB/s eta 0:00:01\n",
      "   --------------------------------------  375.9/376.0 MB 12.0 MB/s eta 0:00:01\n",
      "   --------------------------------------  375.9/376.0 MB 12.0 MB/s eta 0:00:01\n",
      "   --------------------------------------  375.9/376.0 MB 12.0 MB/s eta 0:00:01\n",
      "   --------------------------------------  375.9/376.0 MB 12.0 MB/s eta 0:00:01\n",
      "   --------------------------------------  375.9/376.0 MB 12.0 MB/s eta 0:00:01\n",
      "   --------------------------------------  375.9/376.0 MB 12.0 MB/s eta 0:00:01\n",
      "   --------------------------------------  375.9/376.0 MB 12.0 MB/s eta 0:00:01\n",
      "   --------------------------------------  375.9/376.0 MB 12.0 MB/s eta 0:00:01\n",
      "   --------------------------------------  375.9/376.0 MB 12.0 MB/s eta 0:00:01\n",
      "   --------------------------------------  375.9/376.0 MB 12.0 MB/s eta 0:00:01\n",
      "   --------------------------------------  375.9/376.0 MB 12.0 MB/s eta 0:00:01\n",
      "   --------------------------------------  375.9/376.0 MB 12.0 MB/s eta 0:00:01\n",
      "   --------------------------------------  375.9/376.0 MB 12.0 MB/s eta 0:00:01\n",
      "   --------------------------------------  375.9/376.0 MB 12.0 MB/s eta 0:00:01\n",
      "   --------------------------------------  375.9/376.0 MB 12.0 MB/s eta 0:00:01\n",
      "   --------------------------------------  375.9/376.0 MB 12.0 MB/s eta 0:00:01\n",
      "   --------------------------------------  375.9/376.0 MB 12.0 MB/s eta 0:00:01\n",
      "   --------------------------------------  375.9/376.0 MB 12.0 MB/s eta 0:00:01\n",
      "   --------------------------------------  375.9/376.0 MB 12.0 MB/s eta 0:00:01\n",
      "   --------------------------------------  375.9/376.0 MB 12.0 MB/s eta 0:00:01\n",
      "   --------------------------------------  375.9/376.0 MB 12.0 MB/s eta 0:00:01\n",
      "   --------------------------------------  375.9/376.0 MB 12.0 MB/s eta 0:00:01\n",
      "   --------------------------------------  375.9/376.0 MB 12.0 MB/s eta 0:00:01\n",
      "   --------------------------------------  375.9/376.0 MB 12.0 MB/s eta 0:00:01\n",
      "   ---------------------------------------- 376.0/376.0 MB 8.6 MB/s eta 0:00:00\n",
      "Downloading absl_py-2.2.1-py3-none-any.whl (277 kB)\n",
      "Downloading astunparse-1.6.3-py2.py3-none-any.whl (12 kB)\n",
      "Downloading flatbuffers-25.2.10-py2.py3-none-any.whl (30 kB)\n",
      "Downloading gast-0.6.0-py3-none-any.whl (21 kB)\n",
      "Downloading google_pasta-0.2.0-py3-none-any.whl (57 kB)\n",
      "Downloading grpcio-1.71.0-cp312-cp312-win_amd64.whl (4.3 MB)\n",
      "   ---------------------------------------- 0.0/4.3 MB ? eta -:--:--\n",
      "   ------------------------------- -------- 3.4/4.3 MB 16.8 MB/s eta 0:00:01\n",
      "   ---------------------------------------  4.2/4.3 MB 15.7 MB/s eta 0:00:01\n",
      "   ---------------------------------------  4.2/4.3 MB 15.7 MB/s eta 0:00:01\n",
      "   ---------------------------------------  4.2/4.3 MB 15.7 MB/s eta 0:00:01\n",
      "   ---------------------------------------- 4.3/4.3 MB 3.9 MB/s eta 0:00:00\n",
      "Downloading keras-3.9.1-py3-none-any.whl (1.3 MB)\n",
      "   ---------------------------------------- 0.0/1.3 MB ? eta -:--:--\n",
      "   ---------------------------------------  1.3/1.3 MB 22.3 MB/s eta 0:00:01\n",
      "   ---------------------------------------- 1.3/1.3 MB 3.1 MB/s eta 0:00:00\n",
      "Downloading libclang-18.1.1-py2.py3-none-win_amd64.whl (26.4 MB)\n",
      "   ---------------------------------------- 0.0/26.4 MB ? eta -:--:--\n",
      "   ----- ---------------------------------- 3.4/26.4 MB 15.5 MB/s eta 0:00:02\n",
      "   ---------- ----------------------------- 6.8/26.4 MB 16.1 MB/s eta 0:00:02\n",
      "   --------------- ------------------------ 10.0/26.4 MB 15.5 MB/s eta 0:00:02\n",
      "   --------------------- ------------------ 14.2/26.4 MB 16.8 MB/s eta 0:00:01\n",
      "   -------------------------- ------------- 17.3/26.4 MB 16.3 MB/s eta 0:00:01\n",
      "   ---------------------------- ----------- 18.9/26.4 MB 15.1 MB/s eta 0:00:01\n",
      "   ------------------------------ --------- 20.2/26.4 MB 13.6 MB/s eta 0:00:01\n",
      "   -------------------------------- ------- 21.8/26.4 MB 13.0 MB/s eta 0:00:01\n",
      "   ------------------------------------ --- 23.9/26.4 MB 12.5 MB/s eta 0:00:01\n",
      "   ---------------------------------------  26.2/26.4 MB 12.4 MB/s eta 0:00:01\n",
      "   ---------------------------------------  26.2/26.4 MB 12.4 MB/s eta 0:00:01\n",
      "   ---------------------------------------- 26.4/26.4 MB 10.3 MB/s eta 0:00:00\n",
      "Downloading ml_dtypes-0.5.1-cp312-cp312-win_amd64.whl (210 kB)\n",
      "Downloading opt_einsum-3.4.0-py3-none-any.whl (71 kB)\n",
      "Downloading tensorboard-2.19.0-py3-none-any.whl (5.5 MB)\n",
      "   ---------------------------------------- 0.0/5.5 MB ? eta -:--:--\n",
      "   ----------------- ---------------------- 2.4/5.5 MB 11.2 MB/s eta 0:00:01\n",
      "   -------------------------------------- - 5.2/5.5 MB 12.3 MB/s eta 0:00:01\n",
      "   -------------------------------------- - 5.2/5.5 MB 12.3 MB/s eta 0:00:01\n",
      "   ---------------------------------------- 5.5/5.5 MB 7.8 MB/s eta 0:00:00\n",
      "Downloading termcolor-3.0.0-py3-none-any.whl (6.3 kB)\n",
      "Downloading tensorboard_data_server-0.7.2-py3-none-any.whl (2.4 kB)\n",
      "Downloading namex-0.0.8-py3-none-any.whl (5.8 kB)\n",
      "Downloading optree-0.14.1-cp312-cp312-win_amd64.whl (306 kB)\n",
      "Installing collected packages: namex, libclang, flatbuffers, termcolor, tensorboard-data-server, optree, opt-einsum, ml-dtypes, grpcio, google-pasta, gast, astunparse, absl-py, tensorboard, keras, tensorflow\n",
      "Successfully installed absl-py-2.2.1 astunparse-1.6.3 flatbuffers-25.2.10 gast-0.6.0 google-pasta-0.2.0 grpcio-1.71.0 keras-3.9.1 libclang-18.1.1 ml-dtypes-0.5.1 namex-0.0.8 opt-einsum-3.4.0 optree-0.14.1 tensorboard-2.19.0 tensorboard-data-server-0.7.2 tensorflow-2.19.0 termcolor-3.0.0\n"
     ]
    }
   ],
   "source": [
    "!pip install tensorflow\n"
   ]
  },
  {
   "cell_type": "code",
   "execution_count": 63,
   "id": "a356077a-dad8-4b18-bb84-d5fa46ea7ca6",
   "metadata": {},
   "outputs": [],
   "source": [
    "df_train.to_csv(\"train_mapped_backup.csv\", index=False)\n",
    "df_test.to_csv(\"test_mapped_backup.csv\", index=False)\n"
   ]
  },
  {
   "cell_type": "code",
   "execution_count": 65,
   "id": "d45e2e50-c9de-4ab9-bd18-8bfddb47b6e6",
   "metadata": {},
   "outputs": [
    {
     "name": "stdout",
     "output_type": "stream",
     "text": [
      "True\n",
      "True\n"
     ]
    }
   ],
   "source": [
    "import os\n",
    "print(os.path.exists(\"train_mapped_backup.csv\"))  # Should print True\n",
    "print(os.path.exists(\"test_mapped_backup.csv\"))   # Should print True\n"
   ]
  },
  {
   "cell_type": "code",
   "execution_count": 1,
   "id": "9afd9c3c-e935-424c-9288-ee2f735292f3",
   "metadata": {},
   "outputs": [
    {
     "name": "stdout",
     "output_type": "stream",
     "text": [
      "Data Reloaded ✅\n",
      "           0           1          2          3          4          5  \\\n",
      "0 -270.66006   86.968890   7.281247  33.202810  -5.214931  -7.949212   \n",
      "1 -215.15361   74.880640  -4.085223  19.896591  -0.618440  -3.719756   \n",
      "2 -419.32890   82.210570   8.517164  18.840805   4.152921   6.203514   \n",
      "3 -243.92444   24.415829  -0.971279  15.066822   1.275768   3.525213   \n",
      "4 -188.07930  102.899360  21.322973  21.325409  14.244423 -13.902673   \n",
      "\n",
      "           6         7          8         9         10        11        12  \\\n",
      "0 -13.602361 -6.132411 -11.188409 -6.122156  -6.420838 -2.219017 -2.870135   \n",
      "1 -16.176802 -8.224868   2.292492 -5.855526 -11.294562 -8.086863  1.250375   \n",
      "2  17.030296  6.160502   6.416310  9.273605   3.684317  6.692914 -0.647750   \n",
      "3 -20.668020 -1.528401  -0.764815 -2.137746   1.293021  2.032590 -5.610179   \n",
      "4  -9.612606 -4.039522  -8.843912  2.091725  -5.123893  7.109763 -8.007497   \n",
      "\n",
      "   file_name     label  \n",
      "0          1     spoof  \n",
      "1         22     spoof  \n",
      "2         43     spoof  \n",
      "3         64     spoof  \n",
      "4         85  bonafide  \n"
     ]
    }
   ],
   "source": [
    "import pandas as pd\n",
    "\n",
    "# Reload mapped datasets\n",
    "df_train = pd.read_csv(\"train_mapped_backup.csv\")\n",
    "df_test = pd.read_csv(\"test_mapped_backup.csv\")\n",
    "\n",
    "print(\"Data Reloaded ✅\")\n",
    "print(df_train.head())  # Verify data\n"
   ]
  },
  {
   "cell_type": "code",
   "execution_count": 3,
   "id": "a98b841a-1d56-4faf-9508-a5e9f22dcc6c",
   "metadata": {},
   "outputs": [
    {
     "name": "stdout",
     "output_type": "stream",
     "text": [
      "Reshaped CNN Input: (1000, 13, 1, 1)\n"
     ]
    }
   ],
   "source": [
    "import numpy as np\n",
    "\n",
    "# Extract features and labels\n",
    "X_train = df_train.iloc[:, :-2].values  # MFCC features (excluding file_name & label)\n",
    "y_train = (df_train['label'] == 'spoof').astype(int).values  # Convert labels to binary\n",
    "\n",
    "X_test = df_test.iloc[:, :-2].values  \n",
    "y_test = (df_test['label'] == 'spoof').astype(int).values  \n",
    "\n",
    "# Reshape for CNN (assuming MFCC features are 13xTime_steps)\n",
    "time_steps = X_train.shape[1] // 13  # Adjust this if needed\n",
    "X_train_cnn = X_train.reshape(-1, 13, time_steps, 1)  \n",
    "X_test_cnn = X_test.reshape(-1, 13, time_steps, 1)  \n",
    "\n",
    "print(f\"Reshaped CNN Input: {X_train_cnn.shape}\")  # Verify shape\n"
   ]
  },
  {
   "cell_type": "code",
   "execution_count": 7,
   "id": "dcbb0b04-a65a-473b-bc65-3e6ee2d539b1",
   "metadata": {},
   "outputs": [
    {
     "name": "stdout",
     "output_type": "stream",
     "text": [
      "X_train shape: (1000, 13)\n",
      "X_test shape: (1000, 13)\n",
      "Reshaped X_train_cnn shape: (1000, 13, 1, 1)\n",
      "Reshaped X_test_cnn shape: (1000, 13, 1, 1)\n",
      "y_train shape: (1000,)\n",
      "y_test shape: (1000,)\n"
     ]
    }
   ],
   "source": [
    "print(\"X_train shape:\", X_train.shape)\n",
    "print(\"X_test shape:\", X_test.shape)\n",
    "print(\"Reshaped X_train_cnn shape:\", X_train_cnn.shape)\n",
    "print(\"Reshaped X_test_cnn shape:\", X_test_cnn.shape)\n",
    "print(\"y_train shape:\", y_train.shape)\n",
    "print(\"y_test shape:\", y_test.shape)\n"
   ]
  },
  {
   "cell_type": "code",
   "execution_count": 9,
   "id": "7569625c-b5d6-4265-9673-141131eeee45",
   "metadata": {},
   "outputs": [
    {
     "name": "stdout",
     "output_type": "stream",
     "text": [
      "2.19.0\n"
     ]
    }
   ],
   "source": [
    "import tensorflow as tf\n",
    "print(tf.__version__)  # Check TensorFlow version\n"
   ]
  },
  {
   "cell_type": "code",
   "execution_count": 11,
   "id": "2a859f2b-3539-4dd8-8166-dbe987367367",
   "metadata": {},
   "outputs": [
    {
     "name": "stdout",
     "output_type": "stream",
     "text": [
      "New Reshaped X_train_cnn: (1000, 13, 1, 1)\n",
      "New Reshaped X_test_cnn: (1000, 13, 1, 1)\n"
     ]
    }
   ],
   "source": [
    "# Check the number of MFCC features per file\n",
    "mfcc_feature_count = 13  # Number of MFCC coefficients\n",
    "time_steps = X_train.shape[1] // mfcc_feature_count  \n",
    "\n",
    "# Reshape input for CNN\n",
    "X_train_cnn = X_train.reshape(-1, mfcc_feature_count, time_steps, 1)\n",
    "X_test_cnn = X_test.reshape(-1, mfcc_feature_count, time_steps, 1)\n",
    "\n",
    "print(\"New Reshaped X_train_cnn:\", X_train_cnn.shape)\n",
    "print(\"New Reshaped X_test_cnn:\", X_test_cnn.shape)\n"
   ]
  },
  {
   "cell_type": "code",
   "execution_count": 13,
   "id": "75deb487-7859-4d87-977f-528b4315b8c8",
   "metadata": {},
   "outputs": [
    {
     "name": "stdout",
     "output_type": "stream",
     "text": [
      "Unique labels in y_train: [0 1]\n",
      "Unique labels in y_test: [0 1]\n"
     ]
    }
   ],
   "source": [
    "print(\"Unique labels in y_train:\", np.unique(y_train))\n",
    "print(\"Unique labels in y_test:\", np.unique(y_test))\n"
   ]
  },
  {
   "cell_type": "code",
   "execution_count": 23,
   "id": "713bb0f5-59d7-4e38-a277-62c0ed1004af",
   "metadata": {},
   "outputs": [
    {
     "name": "stdout",
     "output_type": "stream",
     "text": [
      "Epoch 1/20\n",
      "\u001b[1m32/32\u001b[0m \u001b[32m━━━━━━━━━━━━━━━━━━━━\u001b[0m\u001b[37m\u001b[0m \u001b[1m5s\u001b[0m 30ms/step - accuracy: 0.7933 - loss: 0.8360 - val_accuracy: 0.8950 - val_loss: 0.3970\n",
      "Epoch 2/20\n",
      "\u001b[1m32/32\u001b[0m \u001b[32m━━━━━━━━━━━━━━━━━━━━\u001b[0m\u001b[37m\u001b[0m \u001b[1m1s\u001b[0m 19ms/step - accuracy: 0.8825 - loss: 0.3695 - val_accuracy: 0.8950 - val_loss: 0.3401\n",
      "Epoch 3/20\n",
      "\u001b[1m32/32\u001b[0m \u001b[32m━━━━━━━━━━━━━━━━━━━━\u001b[0m\u001b[37m\u001b[0m \u001b[1m1s\u001b[0m 18ms/step - accuracy: 0.8840 - loss: 0.3673 - val_accuracy: 0.8950 - val_loss: 0.3456\n",
      "Epoch 4/20\n",
      "\u001b[1m32/32\u001b[0m \u001b[32m━━━━━━━━━━━━━━━━━━━━\u001b[0m\u001b[37m\u001b[0m \u001b[1m1s\u001b[0m 17ms/step - accuracy: 0.8967 - loss: 0.3391 - val_accuracy: 0.8950 - val_loss: 0.3429\n",
      "Epoch 5/20\n",
      "\u001b[1m32/32\u001b[0m \u001b[32m━━━━━━━━━━━━━━━━━━━━\u001b[0m\u001b[37m\u001b[0m \u001b[1m1s\u001b[0m 17ms/step - accuracy: 0.8915 - loss: 0.3623 - val_accuracy: 0.8950 - val_loss: 0.3470\n",
      "Epoch 6/20\n",
      "\u001b[1m32/32\u001b[0m \u001b[32m━━━━━━━━━━━━━━━━━━━━\u001b[0m\u001b[37m\u001b[0m \u001b[1m1s\u001b[0m 16ms/step - accuracy: 0.8846 - loss: 0.3762 - val_accuracy: 0.8950 - val_loss: 0.3513\n",
      "Epoch 7/20\n",
      "\u001b[1m32/32\u001b[0m \u001b[32m━━━━━━━━━━━━━━━━━━━━\u001b[0m\u001b[37m\u001b[0m \u001b[1m1s\u001b[0m 20ms/step - accuracy: 0.8946 - loss: 0.3231 - val_accuracy: 0.8950 - val_loss: 0.3401\n",
      "Epoch 8/20\n",
      "\u001b[1m32/32\u001b[0m \u001b[32m━━━━━━━━━━━━━━━━━━━━\u001b[0m\u001b[37m\u001b[0m \u001b[1m1s\u001b[0m 17ms/step - accuracy: 0.8679 - loss: 0.3917 - val_accuracy: 0.8950 - val_loss: 0.3436\n",
      "Epoch 9/20\n",
      "\u001b[1m32/32\u001b[0m \u001b[32m━━━━━━━━━━━━━━━━━━━━\u001b[0m\u001b[37m\u001b[0m \u001b[1m1s\u001b[0m 18ms/step - accuracy: 0.8772 - loss: 0.3591 - val_accuracy: 0.8950 - val_loss: 0.3632\n",
      "Epoch 10/20\n",
      "\u001b[1m32/32\u001b[0m \u001b[32m━━━━━━━━━━━━━━━━━━━━\u001b[0m\u001b[37m\u001b[0m \u001b[1m1s\u001b[0m 16ms/step - accuracy: 0.8752 - loss: 0.3846 - val_accuracy: 0.8950 - val_loss: 0.3435\n",
      "Epoch 11/20\n",
      "\u001b[1m32/32\u001b[0m \u001b[32m━━━━━━━━━━━━━━━━━━━━\u001b[0m\u001b[37m\u001b[0m \u001b[1m1s\u001b[0m 17ms/step - accuracy: 0.8831 - loss: 0.3501 - val_accuracy: 0.8950 - val_loss: 0.3463\n",
      "Epoch 12/20\n",
      "\u001b[1m32/32\u001b[0m \u001b[32m━━━━━━━━━━━━━━━━━━━━\u001b[0m\u001b[37m\u001b[0m \u001b[1m0s\u001b[0m 11ms/step - accuracy: 0.8888 - loss: 0.3467 - val_accuracy: 0.8950 - val_loss: 0.3456\n",
      "Epoch 13/20\n",
      "\u001b[1m32/32\u001b[0m \u001b[32m━━━━━━━━━━━━━━━━━━━━\u001b[0m\u001b[37m\u001b[0m \u001b[1m0s\u001b[0m 11ms/step - accuracy: 0.8832 - loss: 0.3453 - val_accuracy: 0.8950 - val_loss: 0.3600\n",
      "Epoch 14/20\n",
      "\u001b[1m32/32\u001b[0m \u001b[32m━━━━━━━━━━━━━━━━━━━━\u001b[0m\u001b[37m\u001b[0m \u001b[1m0s\u001b[0m 9ms/step - accuracy: 0.8993 - loss: 0.3021 - val_accuracy: 0.8950 - val_loss: 0.3560\n",
      "Epoch 15/20\n",
      "\u001b[1m32/32\u001b[0m \u001b[32m━━━━━━━━━━━━━━━━━━━━\u001b[0m\u001b[37m\u001b[0m \u001b[1m0s\u001b[0m 15ms/step - accuracy: 0.8910 - loss: 0.3283 - val_accuracy: 0.8950 - val_loss: 0.3630\n",
      "Epoch 16/20\n",
      "\u001b[1m32/32\u001b[0m \u001b[32m━━━━━━━━━━━━━━━━━━━━\u001b[0m\u001b[37m\u001b[0m \u001b[1m1s\u001b[0m 15ms/step - accuracy: 0.8895 - loss: 0.3217 - val_accuracy: 0.8950 - val_loss: 0.3623\n",
      "Epoch 17/20\n",
      "\u001b[1m32/32\u001b[0m \u001b[32m━━━━━━━━━━━━━━━━━━━━\u001b[0m\u001b[37m\u001b[0m \u001b[1m0s\u001b[0m 12ms/step - accuracy: 0.8970 - loss: 0.2872 - val_accuracy: 0.8950 - val_loss: 0.3648\n",
      "Epoch 18/20\n",
      "\u001b[1m32/32\u001b[0m \u001b[32m━━━━━━━━━━━━━━━━━━━━\u001b[0m\u001b[37m\u001b[0m \u001b[1m0s\u001b[0m 14ms/step - accuracy: 0.8786 - loss: 0.3452 - val_accuracy: 0.8950 - val_loss: 0.3713\n",
      "Epoch 19/20\n",
      "\u001b[1m32/32\u001b[0m \u001b[32m━━━━━━━━━━━━━━━━━━━━\u001b[0m\u001b[37m\u001b[0m \u001b[1m0s\u001b[0m 12ms/step - accuracy: 0.9005 - loss: 0.2944 - val_accuracy: 0.8950 - val_loss: 0.3673\n",
      "Epoch 20/20\n",
      "\u001b[1m32/32\u001b[0m \u001b[32m━━━━━━━━━━━━━━━━━━━━\u001b[0m\u001b[37m\u001b[0m \u001b[1m0s\u001b[0m 9ms/step - accuracy: 0.8859 - loss: 0.3264 - val_accuracy: 0.8950 - val_loss: 0.3831\n",
      "✅ CNN Model Trained Successfully!\n"
     ]
    }
   ],
   "source": [
    "import tensorflow as tf\n",
    "from tensorflow.keras.models import Sequential\n",
    "from tensorflow.keras.layers import Conv2D, MaxPooling2D, Flatten, Dense, Dropout, Input\n",
    "\n",
    "# Ensure time_steps is correctly defined (modify if needed)\n",
    "time_steps = X_train_cnn.shape[2]  # Get time dimension from data\n",
    "\n",
    "# Build CNN Model\n",
    "cnn_model = Sequential([\n",
    "    Input(shape=(13, time_steps, 1)),  # Fix input shape\n",
    "    Conv2D(32, (3, 3), activation='relu', padding='same'),\n",
    "    MaxPooling2D((1, 1)),  # Avoid reducing to zero\n",
    "    Conv2D(64, (3, 3), activation='relu', padding='same'),\n",
    "    # Remove second pooling to avoid negative dimensions\n",
    "    Flatten(),\n",
    "    Dense(128, activation='relu'),\n",
    "    Dropout(0.3),\n",
    "    Dense(1, activation='sigmoid')  # Binary classification\n",
    "])\n",
    "\n",
    "# Compile Model\n",
    "cnn_model.compile(optimizer='adam', loss='binary_crossentropy', metrics=['accuracy'])\n",
    "\n",
    "# Train Model\n",
    "cnn_model.fit(X_train_cnn, y_train, epochs=20, batch_size=32, validation_data=(X_test_cnn, y_test))\n",
    "\n",
    "print(\"✅ CNN Model Trained Successfully!\")\n"
   ]
  },
  {
   "cell_type": "code",
   "execution_count": 25,
   "id": "bf2133cd-bb34-481c-89ea-c3380ad4aefd",
   "metadata": {},
   "outputs": [
    {
     "name": "stdout",
     "output_type": "stream",
     "text": [
      "\u001b[1m32/32\u001b[0m \u001b[32m━━━━━━━━━━━━━━━━━━━━\u001b[0m\u001b[37m\u001b[0m \u001b[1m0s\u001b[0m 6ms/step - accuracy: 0.8945 - loss: 0.3752\n",
      "Test Accuracy: 0.8950\n"
     ]
    }
   ],
   "source": [
    "# Evaluate the model\n",
    "test_loss, test_acc = cnn_model.evaluate(X_test_cnn, y_test)\n",
    "print(f\"Test Accuracy: {test_acc:.4f}\")\n"
   ]
  },
  {
   "cell_type": "code",
   "execution_count": 27,
   "id": "44b1c9e7-b647-41eb-b924-d6943145e773",
   "metadata": {},
   "outputs": [
    {
     "name": "stdout",
     "output_type": "stream",
     "text": [
      "\u001b[1m32/32\u001b[0m \u001b[32m━━━━━━━━━━━━━━━━━━━━\u001b[0m\u001b[37m\u001b[0m \u001b[1m0s\u001b[0m 5ms/step\n",
      "✅ Predictions Generated Successfully!\n"
     ]
    }
   ],
   "source": [
    "# Get predictions\n",
    "y_pred = cnn_model.predict(X_test_cnn)\n",
    "\n",
    "# Convert probabilities to binary labels (0 or 1)\n",
    "y_pred_labels = (y_pred > 0.5).astype(int)\n",
    "\n",
    "print(\"✅ Predictions Generated Successfully!\")\n"
   ]
  },
  {
   "cell_type": "code",
   "execution_count": 29,
   "id": "3a7a9e5d-819e-4e9e-bb9f-bd06b6917284",
   "metadata": {},
   "outputs": [
    {
     "name": "stdout",
     "output_type": "stream",
     "text": [
      "Confusion Matrix:\n",
      " [[895   0]\n",
      " [105   0]]\n",
      "Classification Report:\n",
      "               precision    recall  f1-score   support\n",
      "\n",
      "           0       0.90      1.00      0.94       895\n",
      "           1       0.00      0.00      0.00       105\n",
      "\n",
      "    accuracy                           0.90      1000\n",
      "   macro avg       0.45      0.50      0.47      1000\n",
      "weighted avg       0.80      0.90      0.85      1000\n",
      "\n"
     ]
    },
    {
     "name": "stderr",
     "output_type": "stream",
     "text": [
      "C:\\Users\\chint\\anaconda3\\Lib\\site-packages\\sklearn\\metrics\\_classification.py:1531: UndefinedMetricWarning: Precision is ill-defined and being set to 0.0 in labels with no predicted samples. Use `zero_division` parameter to control this behavior.\n",
      "  _warn_prf(average, modifier, f\"{metric.capitalize()} is\", len(result))\n",
      "C:\\Users\\chint\\anaconda3\\Lib\\site-packages\\sklearn\\metrics\\_classification.py:1531: UndefinedMetricWarning: Precision is ill-defined and being set to 0.0 in labels with no predicted samples. Use `zero_division` parameter to control this behavior.\n",
      "  _warn_prf(average, modifier, f\"{metric.capitalize()} is\", len(result))\n",
      "C:\\Users\\chint\\anaconda3\\Lib\\site-packages\\sklearn\\metrics\\_classification.py:1531: UndefinedMetricWarning: Precision is ill-defined and being set to 0.0 in labels with no predicted samples. Use `zero_division` parameter to control this behavior.\n",
      "  _warn_prf(average, modifier, f\"{metric.capitalize()} is\", len(result))\n"
     ]
    }
   ],
   "source": [
    "from sklearn.metrics import classification_report, confusion_matrix\n",
    "\n",
    "# Print Confusion Matrix\n",
    "print(\"Confusion Matrix:\\n\", confusion_matrix(y_test, y_pred_labels))\n",
    "\n",
    "# Print Classification Report\n",
    "print(\"Classification Report:\\n\", classification_report(y_test, y_pred_labels))\n"
   ]
  },
  {
   "cell_type": "code",
   "execution_count": 31,
   "id": "173260e6-ceb6-42a4-ba65-a99dd93da3fc",
   "metadata": {},
   "outputs": [
    {
     "name": "stderr",
     "output_type": "stream",
     "text": [
      "WARNING:absl:You are saving your model as an HDF5 file via `model.save()` or `keras.saving.save_model(model)`. This file format is considered legacy. We recommend using instead the native Keras format, e.g. `model.save('my_model.keras')` or `keras.saving.save_model(model, 'my_model.keras')`. \n"
     ]
    },
    {
     "name": "stdout",
     "output_type": "stream",
     "text": [
      "✅ Model Saved Successfully!\n"
     ]
    }
   ],
   "source": [
    "cnn_model.save(\"audio_fake_detection_cnn.h5\")\n",
    "print(\"✅ Model Saved Successfully!\")\n"
   ]
  },
  {
   "cell_type": "code",
   "execution_count": 33,
   "id": "e6b949b7-f9ef-43d3-a30f-a166b1704539",
   "metadata": {},
   "outputs": [
    {
     "name": "stderr",
     "output_type": "stream",
     "text": [
      "C:\\Users\\chint\\anaconda3\\Lib\\site-packages\\keras\\src\\layers\\rnn\\rnn.py:200: UserWarning: Do not pass an `input_shape`/`input_dim` argument to a layer. When using Sequential models, prefer using an `Input(shape)` object as the first layer in the model instead.\n",
      "  super().__init__(**kwargs)\n"
     ]
    },
    {
     "name": "stdout",
     "output_type": "stream",
     "text": [
      "Epoch 1/20\n",
      "\u001b[1m32/32\u001b[0m \u001b[32m━━━━━━━━━━━━━━━━━━━━\u001b[0m\u001b[37m\u001b[0m \u001b[1m6s\u001b[0m 61ms/step - accuracy: 0.8303 - loss: 0.4897 - val_accuracy: 0.8950 - val_loss: 0.3454\n",
      "Epoch 2/20\n",
      "\u001b[1m32/32\u001b[0m \u001b[32m━━━━━━━━━━━━━━━━━━━━\u001b[0m\u001b[37m\u001b[0m \u001b[1m1s\u001b[0m 31ms/step - accuracy: 0.8860 - loss: 0.3619 - val_accuracy: 0.8950 - val_loss: 0.3386\n",
      "Epoch 3/20\n",
      "\u001b[1m32/32\u001b[0m \u001b[32m━━━━━━━━━━━━━━━━━━━━\u001b[0m\u001b[37m\u001b[0m \u001b[1m1s\u001b[0m 38ms/step - accuracy: 0.8832 - loss: 0.3714 - val_accuracy: 0.8950 - val_loss: 0.3391\n",
      "Epoch 4/20\n",
      "\u001b[1m32/32\u001b[0m \u001b[32m━━━━━━━━━━━━━━━━━━━━\u001b[0m\u001b[37m\u001b[0m \u001b[1m1s\u001b[0m 33ms/step - accuracy: 0.8805 - loss: 0.3743 - val_accuracy: 0.8950 - val_loss: 0.3378\n",
      "Epoch 5/20\n",
      "\u001b[1m32/32\u001b[0m \u001b[32m━━━━━━━━━━━━━━━━━━━━\u001b[0m\u001b[37m\u001b[0m \u001b[1m1s\u001b[0m 32ms/step - accuracy: 0.8773 - loss: 0.3830 - val_accuracy: 0.8950 - val_loss: 0.3367\n",
      "Epoch 6/20\n",
      "\u001b[1m32/32\u001b[0m \u001b[32m━━━━━━━━━━━━━━━━━━━━\u001b[0m\u001b[37m\u001b[0m \u001b[1m1s\u001b[0m 32ms/step - accuracy: 0.8919 - loss: 0.3424 - val_accuracy: 0.8950 - val_loss: 0.3361\n",
      "Epoch 7/20\n",
      "\u001b[1m32/32\u001b[0m \u001b[32m━━━━━━━━━━━━━━━━━━━━\u001b[0m\u001b[37m\u001b[0m \u001b[1m1s\u001b[0m 39ms/step - accuracy: 0.8956 - loss: 0.3390 - val_accuracy: 0.8950 - val_loss: 0.3372\n",
      "Epoch 8/20\n",
      "\u001b[1m32/32\u001b[0m \u001b[32m━━━━━━━━━━━━━━━━━━━━\u001b[0m\u001b[37m\u001b[0m \u001b[1m1s\u001b[0m 40ms/step - accuracy: 0.8788 - loss: 0.3727 - val_accuracy: 0.8950 - val_loss: 0.3371\n",
      "Epoch 9/20\n",
      "\u001b[1m32/32\u001b[0m \u001b[32m━━━━━━━━━━━━━━━━━━━━\u001b[0m\u001b[37m\u001b[0m \u001b[1m1s\u001b[0m 38ms/step - accuracy: 0.8828 - loss: 0.3702 - val_accuracy: 0.8950 - val_loss: 0.3360\n",
      "Epoch 10/20\n",
      "\u001b[1m32/32\u001b[0m \u001b[32m━━━━━━━━━━━━━━━━━━━━\u001b[0m\u001b[37m\u001b[0m \u001b[1m1s\u001b[0m 28ms/step - accuracy: 0.8873 - loss: 0.3592 - val_accuracy: 0.8950 - val_loss: 0.3367\n",
      "Epoch 11/20\n",
      "\u001b[1m32/32\u001b[0m \u001b[32m━━━━━━━━━━━━━━━━━━━━\u001b[0m\u001b[37m\u001b[0m \u001b[1m1s\u001b[0m 19ms/step - accuracy: 0.8564 - loss: 0.4156 - val_accuracy: 0.8950 - val_loss: 0.3373\n",
      "Epoch 12/20\n",
      "\u001b[1m32/32\u001b[0m \u001b[32m━━━━━━━━━━━━━━━━━━━━\u001b[0m\u001b[37m\u001b[0m \u001b[1m1s\u001b[0m 21ms/step - accuracy: 0.8882 - loss: 0.3530 - val_accuracy: 0.8950 - val_loss: 0.3354\n",
      "Epoch 13/20\n",
      "\u001b[1m32/32\u001b[0m \u001b[32m━━━━━━━━━━━━━━━━━━━━\u001b[0m\u001b[37m\u001b[0m \u001b[1m1s\u001b[0m 19ms/step - accuracy: 0.8840 - loss: 0.3619 - val_accuracy: 0.8950 - val_loss: 0.3353\n",
      "Epoch 14/20\n",
      "\u001b[1m32/32\u001b[0m \u001b[32m━━━━━━━━━━━━━━━━━━━━\u001b[0m\u001b[37m\u001b[0m \u001b[1m1s\u001b[0m 21ms/step - accuracy: 0.8800 - loss: 0.3647 - val_accuracy: 0.8950 - val_loss: 0.3363\n",
      "Epoch 15/20\n",
      "\u001b[1m32/32\u001b[0m \u001b[32m━━━━━━━━━━━━━━━━━━━━\u001b[0m\u001b[37m\u001b[0m \u001b[1m1s\u001b[0m 23ms/step - accuracy: 0.8955 - loss: 0.3364 - val_accuracy: 0.8950 - val_loss: 0.3370\n",
      "Epoch 16/20\n",
      "\u001b[1m32/32\u001b[0m \u001b[32m━━━━━━━━━━━━━━━━━━━━\u001b[0m\u001b[37m\u001b[0m \u001b[1m1s\u001b[0m 25ms/step - accuracy: 0.8711 - loss: 0.3889 - val_accuracy: 0.8950 - val_loss: 0.3354\n",
      "Epoch 17/20\n",
      "\u001b[1m32/32\u001b[0m \u001b[32m━━━━━━━━━━━━━━━━━━━━\u001b[0m\u001b[37m\u001b[0m \u001b[1m1s\u001b[0m 26ms/step - accuracy: 0.8947 - loss: 0.3477 - val_accuracy: 0.8950 - val_loss: 0.3353\n",
      "Epoch 18/20\n",
      "\u001b[1m32/32\u001b[0m \u001b[32m━━━━━━━━━━━━━━━━━━━━\u001b[0m\u001b[37m\u001b[0m \u001b[1m1s\u001b[0m 31ms/step - accuracy: 0.8824 - loss: 0.3651 - val_accuracy: 0.8950 - val_loss: 0.3348\n",
      "Epoch 19/20\n",
      "\u001b[1m32/32\u001b[0m \u001b[32m━━━━━━━━━━━━━━━━━━━━\u001b[0m\u001b[37m\u001b[0m \u001b[1m1s\u001b[0m 32ms/step - accuracy: 0.8878 - loss: 0.3505 - val_accuracy: 0.8950 - val_loss: 0.3346\n",
      "Epoch 20/20\n",
      "\u001b[1m32/32\u001b[0m \u001b[32m━━━━━━━━━━━━━━━━━━━━\u001b[0m\u001b[37m\u001b[0m \u001b[1m1s\u001b[0m 41ms/step - accuracy: 0.8717 - loss: 0.3862 - val_accuracy: 0.8950 - val_loss: 0.3347\n",
      "✅ LSTM Model Trained Successfully!\n"
     ]
    }
   ],
   "source": [
    "import tensorflow as tf\n",
    "from tensorflow.keras.models import Sequential\n",
    "from tensorflow.keras.layers import LSTM, Dense, Dropout\n",
    "\n",
    "# Reshape Data for LSTM\n",
    "X_train_lstm = X_train.reshape((X_train.shape[0], X_train.shape[1], 1))\n",
    "X_test_lstm = X_test.reshape((X_test.shape[0], X_test.shape[1], 1))\n",
    "\n",
    "# Define LSTM Model\n",
    "lstm_model = Sequential([\n",
    "    LSTM(64, return_sequences=True, input_shape=(X_train.shape[1], 1)),\n",
    "    Dropout(0.3),\n",
    "    LSTM(32),\n",
    "    Dropout(0.3),\n",
    "    Dense(1, activation='sigmoid')\n",
    "])\n",
    "\n",
    "# Compile Model\n",
    "lstm_model.compile(optimizer='adam', loss='binary_crossentropy', metrics=['accuracy'])\n",
    "\n",
    "# Train Model\n",
    "lstm_model.fit(X_train_lstm, y_train, epochs=20, batch_size=32, validation_data=(X_test_lstm, y_test))\n",
    "\n",
    "print(\"✅ LSTM Model Trained Successfully!\")\n"
   ]
  },
  {
   "cell_type": "code",
   "execution_count": 39,
   "id": "e5914f4e-f626-4d73-96b3-7b99b047d643",
   "metadata": {},
   "outputs": [
    {
     "name": "stdout",
     "output_type": "stream",
     "text": [
      "X_train shape: (1000, 13)\n",
      "y_train shape: (1000,)\n",
      "X_test shape: (1000, 13)\n",
      "y_test shape: (1000,)\n"
     ]
    }
   ],
   "source": [
    "print(\"X_train shape:\", X_train.shape)\n",
    "print(\"y_train shape:\", y_train.shape)\n",
    "print(\"X_test shape:\", X_test.shape)\n",
    "print(\"y_test shape:\", y_test.shape)\n"
   ]
  },
  {
   "cell_type": "code",
   "execution_count": 43,
   "id": "56b17458-7877-400f-8d1d-d2a931b2adcb",
   "metadata": {},
   "outputs": [],
   "source": [
    "X_train_cnn = X_train.reshape((X_train.shape[0], X_train.shape[1], 1, 1))\n",
    "X_test_cnn = X_test.reshape((X_test.shape[0], X_test.shape[1], 1, 1))\n"
   ]
  },
  {
   "cell_type": "code",
   "execution_count": 45,
   "id": "3e2b12fa-eb69-49fe-a801-843fd371eadd",
   "metadata": {},
   "outputs": [],
   "source": [
    "X_train_lstm = X_train.reshape((X_train.shape[0], X_train.shape[1], 1))\n",
    "X_test_lstm = X_test.reshape((X_test.shape[0], X_test.shape[1], 1))\n"
   ]
  },
  {
   "cell_type": "code",
   "execution_count": 51,
   "id": "1ca19519-0898-447d-8d8d-fb0d96e1459e",
   "metadata": {},
   "outputs": [
    {
     "name": "stdout",
     "output_type": "stream",
     "text": [
      "✅ CNN Model Test Accuracy: 0.8950\n"
     ]
    }
   ],
   "source": [
    "test_loss, test_accuracy = cnn_model.evaluate(X_test_cnn, y_test, verbose=0)\n",
    "print(f\"✅ CNN Model Test Accuracy: {test_accuracy:.4f}\")\n"
   ]
  },
  {
   "cell_type": "code",
   "execution_count": 53,
   "id": "cfaa5486-2368-4617-a783-74f8be179af9",
   "metadata": {},
   "outputs": [
    {
     "name": "stdout",
     "output_type": "stream",
     "text": [
      "\u001b[1m32/32\u001b[0m \u001b[32m━━━━━━━━━━━━━━━━━━━━\u001b[0m\u001b[37m\u001b[0m \u001b[1m0s\u001b[0m 5ms/step\n"
     ]
    }
   ],
   "source": [
    "import numpy as np\n",
    "\n",
    "y_pred_cnn = np.round(cnn_model.predict(X_test_cnn))  # Convert probabilities to binary labels\n"
   ]
  },
  {
   "cell_type": "code",
   "execution_count": 55,
   "id": "7227e422-f6a2-422c-9e1a-560c3caf5cab",
   "metadata": {},
   "outputs": [
    {
     "name": "stdout",
     "output_type": "stream",
     "text": [
      "Confusion Matrix:\n",
      "[[895   0]\n",
      " [105   0]]\n"
     ]
    }
   ],
   "source": [
    "from sklearn.metrics import confusion_matrix\n",
    "\n",
    "cm = confusion_matrix(y_test, y_pred_cnn)\n",
    "print(\"Confusion Matrix:\")\n",
    "print(cm)\n"
   ]
  },
  {
   "cell_type": "code",
   "execution_count": 57,
   "id": "724e5049-0fe4-4256-b170-2ad171206b02",
   "metadata": {},
   "outputs": [
    {
     "name": "stdout",
     "output_type": "stream",
     "text": [
      "Classification Report:\n",
      "              precision    recall  f1-score   support\n",
      "\n",
      "           0       0.90      1.00      0.94       895\n",
      "           1       0.00      0.00      0.00       105\n",
      "\n",
      "    accuracy                           0.90      1000\n",
      "   macro avg       0.45      0.50      0.47      1000\n",
      "weighted avg       0.80      0.90      0.85      1000\n",
      "\n"
     ]
    },
    {
     "name": "stderr",
     "output_type": "stream",
     "text": [
      "C:\\Users\\chint\\anaconda3\\Lib\\site-packages\\sklearn\\metrics\\_classification.py:1531: UndefinedMetricWarning: Precision is ill-defined and being set to 0.0 in labels with no predicted samples. Use `zero_division` parameter to control this behavior.\n",
      "  _warn_prf(average, modifier, f\"{metric.capitalize()} is\", len(result))\n",
      "C:\\Users\\chint\\anaconda3\\Lib\\site-packages\\sklearn\\metrics\\_classification.py:1531: UndefinedMetricWarning: Precision is ill-defined and being set to 0.0 in labels with no predicted samples. Use `zero_division` parameter to control this behavior.\n",
      "  _warn_prf(average, modifier, f\"{metric.capitalize()} is\", len(result))\n",
      "C:\\Users\\chint\\anaconda3\\Lib\\site-packages\\sklearn\\metrics\\_classification.py:1531: UndefinedMetricWarning: Precision is ill-defined and being set to 0.0 in labels with no predicted samples. Use `zero_division` parameter to control this behavior.\n",
      "  _warn_prf(average, modifier, f\"{metric.capitalize()} is\", len(result))\n"
     ]
    }
   ],
   "source": [
    "from sklearn.metrics import classification_report\n",
    "\n",
    "print(\"Classification Report:\")\n",
    "print(classification_report(y_test, y_pred_cnn))\n"
   ]
  },
  {
   "cell_type": "code",
   "execution_count": 73,
   "id": "4cf2577e-c772-4d39-a075-92f4ec94741a",
   "metadata": {},
   "outputs": [],
   "source": [
    "X_train_cnn_lstm = X_train.reshape((X_train.shape[0], X_train.shape[1], 1))  \n",
    "X_test_cnn_lstm = X_test.reshape((X_test.shape[0], X_test.shape[1], 1))  \n"
   ]
  },
  {
   "cell_type": "code",
   "execution_count": 81,
   "id": "42fc4f7d-9f6b-4417-8cb5-6cfa5d2a25cb",
   "metadata": {},
   "outputs": [
    {
     "name": "stdout",
     "output_type": "stream",
     "text": [
      "Epoch 1/20\n",
      "\u001b[1m32/32\u001b[0m \u001b[32m━━━━━━━━━━━━━━━━━━━━\u001b[0m\u001b[37m\u001b[0m \u001b[1m10s\u001b[0m 53ms/step - accuracy: 0.7297 - loss: 0.4875 - val_accuracy: 0.8950 - val_loss: 0.3375\n",
      "Epoch 2/20\n",
      "\u001b[1m32/32\u001b[0m \u001b[32m━━━━━━━━━━━━━━━━━━━━\u001b[0m\u001b[37m\u001b[0m \u001b[1m1s\u001b[0m 25ms/step - accuracy: 0.8921 - loss: 0.3392 - val_accuracy: 0.8950 - val_loss: 0.3363\n",
      "Epoch 3/20\n",
      "\u001b[1m32/32\u001b[0m \u001b[32m━━━━━━━━━━━━━━━━━━━━\u001b[0m\u001b[37m\u001b[0m \u001b[1m1s\u001b[0m 23ms/step - accuracy: 0.8900 - loss: 0.3537 - val_accuracy: 0.8950 - val_loss: 0.3356\n",
      "Epoch 4/20\n",
      "\u001b[1m32/32\u001b[0m \u001b[32m━━━━━━━━━━━━━━━━━━━━\u001b[0m\u001b[37m\u001b[0m \u001b[1m1s\u001b[0m 24ms/step - accuracy: 0.8884 - loss: 0.3500 - val_accuracy: 0.8950 - val_loss: 0.3366\n",
      "Epoch 5/20\n",
      "\u001b[1m32/32\u001b[0m \u001b[32m━━━━━━━━━━━━━━━━━━━━\u001b[0m\u001b[37m\u001b[0m \u001b[1m1s\u001b[0m 23ms/step - accuracy: 0.9034 - loss: 0.3282 - val_accuracy: 0.8950 - val_loss: 0.3372\n",
      "Epoch 6/20\n",
      "\u001b[1m32/32\u001b[0m \u001b[32m━━━━━━━━━━━━━━━━━━━━\u001b[0m\u001b[37m\u001b[0m \u001b[1m1s\u001b[0m 23ms/step - accuracy: 0.8775 - loss: 0.3751 - val_accuracy: 0.8950 - val_loss: 0.3372\n",
      "Epoch 7/20\n",
      "\u001b[1m32/32\u001b[0m \u001b[32m━━━━━━━━━━━━━━━━━━━━\u001b[0m\u001b[37m\u001b[0m \u001b[1m1s\u001b[0m 23ms/step - accuracy: 0.8939 - loss: 0.3452 - val_accuracy: 0.8950 - val_loss: 0.3380\n",
      "Epoch 8/20\n",
      "\u001b[1m32/32\u001b[0m \u001b[32m━━━━━━━━━━━━━━━━━━━━\u001b[0m\u001b[37m\u001b[0m \u001b[1m1s\u001b[0m 28ms/step - accuracy: 0.8816 - loss: 0.3713 - val_accuracy: 0.8950 - val_loss: 0.3375\n",
      "Epoch 9/20\n",
      "\u001b[1m32/32\u001b[0m \u001b[32m━━━━━━━━━━━━━━━━━━━━\u001b[0m\u001b[37m\u001b[0m \u001b[1m1s\u001b[0m 24ms/step - accuracy: 0.8895 - loss: 0.3545 - val_accuracy: 0.8950 - val_loss: 0.3368\n",
      "Epoch 10/20\n",
      "\u001b[1m32/32\u001b[0m \u001b[32m━━━━━━━━━━━━━━━━━━━━\u001b[0m\u001b[37m\u001b[0m \u001b[1m1s\u001b[0m 23ms/step - accuracy: 0.8774 - loss: 0.3816 - val_accuracy: 0.8950 - val_loss: 0.3367\n",
      "Epoch 11/20\n",
      "\u001b[1m32/32\u001b[0m \u001b[32m━━━━━━━━━━━━━━━━━━━━\u001b[0m\u001b[37m\u001b[0m \u001b[1m1s\u001b[0m 23ms/step - accuracy: 0.8955 - loss: 0.3377 - val_accuracy: 0.8950 - val_loss: 0.3452\n",
      "Epoch 12/20\n",
      "\u001b[1m32/32\u001b[0m \u001b[32m━━━━━━━━━━━━━━━━━━━━\u001b[0m\u001b[37m\u001b[0m \u001b[1m1s\u001b[0m 24ms/step - accuracy: 0.8811 - loss: 0.3651 - val_accuracy: 0.8950 - val_loss: 0.3385\n",
      "Epoch 13/20\n",
      "\u001b[1m32/32\u001b[0m \u001b[32m━━━━━━━━━━━━━━━━━━━━\u001b[0m\u001b[37m\u001b[0m \u001b[1m1s\u001b[0m 24ms/step - accuracy: 0.8734 - loss: 0.3819 - val_accuracy: 0.8950 - val_loss: 0.3381\n",
      "Epoch 14/20\n",
      "\u001b[1m32/32\u001b[0m \u001b[32m━━━━━━━━━━━━━━━━━━━━\u001b[0m\u001b[37m\u001b[0m \u001b[1m1s\u001b[0m 24ms/step - accuracy: 0.8926 - loss: 0.3406 - val_accuracy: 0.8950 - val_loss: 0.3377\n",
      "Epoch 15/20\n",
      "\u001b[1m32/32\u001b[0m \u001b[32m━━━━━━━━━━━━━━━━━━━━\u001b[0m\u001b[37m\u001b[0m \u001b[1m1s\u001b[0m 26ms/step - accuracy: 0.8739 - loss: 0.3834 - val_accuracy: 0.8950 - val_loss: 0.3394\n",
      "Epoch 16/20\n",
      "\u001b[1m32/32\u001b[0m \u001b[32m━━━━━━━━━━━━━━━━━━━━\u001b[0m\u001b[37m\u001b[0m \u001b[1m1s\u001b[0m 23ms/step - accuracy: 0.8854 - loss: 0.3690 - val_accuracy: 0.8950 - val_loss: 0.3361\n",
      "Epoch 17/20\n",
      "\u001b[1m32/32\u001b[0m \u001b[32m━━━━━━━━━━━━━━━━━━━━\u001b[0m\u001b[37m\u001b[0m \u001b[1m1s\u001b[0m 24ms/step - accuracy: 0.8700 - loss: 0.3876 - val_accuracy: 0.8950 - val_loss: 0.3372\n",
      "Epoch 18/20\n",
      "\u001b[1m32/32\u001b[0m \u001b[32m━━━━━━━━━━━━━━━━━━━━\u001b[0m\u001b[37m\u001b[0m \u001b[1m1s\u001b[0m 24ms/step - accuracy: 0.8979 - loss: 0.3281 - val_accuracy: 0.8950 - val_loss: 0.3408\n",
      "Epoch 19/20\n",
      "\u001b[1m32/32\u001b[0m \u001b[32m━━━━━━━━━━━━━━━━━━━━\u001b[0m\u001b[37m\u001b[0m \u001b[1m1s\u001b[0m 23ms/step - accuracy: 0.8889 - loss: 0.3472 - val_accuracy: 0.8950 - val_loss: 0.3361\n",
      "Epoch 20/20\n",
      "\u001b[1m32/32\u001b[0m \u001b[32m━━━━━━━━━━━━━━━━━━━━\u001b[0m\u001b[37m\u001b[0m \u001b[1m1s\u001b[0m 23ms/step - accuracy: 0.8814 - loss: 0.3555 - val_accuracy: 0.8950 - val_loss: 0.3409\n",
      "✅ CNN-LSTM Model Trained Successfully!\n"
     ]
    }
   ],
   "source": [
    "import tensorflow as tf\n",
    "from tensorflow.keras.models import Sequential\n",
    "from tensorflow.keras.layers import Conv1D, MaxPooling1D, LSTM, Dense, Dropout, Input, TimeDistributed, Flatten\n",
    "\n",
    "# Reshape Data for CNN-LSTM\n",
    "X_train_cnn_lstm = X_train.reshape((X_train.shape[0], X_train.shape[1], 1))  \n",
    "X_test_cnn_lstm = X_test.reshape((X_test.shape[0], X_test.shape[1], 1))  \n",
    "\n",
    "# Define CNN-LSTM Model\n",
    "cnn_lstm_model = Sequential([\n",
    "    Input(shape=(X_train.shape[1], 1)),  # (time_steps, features)\n",
    "    Conv1D(32, kernel_size=3, activation='relu', padding='same'),\n",
    "    MaxPooling1D(pool_size=2),\n",
    "    \n",
    "    # Use TimeDistributed(Flatten()) instead of Flatten()\n",
    "    TimeDistributed(Flatten()),  \n",
    "\n",
    "    LSTM(64, return_sequences=True),\n",
    "    Dropout(0.3),\n",
    "    LSTM(32),\n",
    "    Dropout(0.3),\n",
    "    Dense(1, activation='sigmoid')  # Binary classification\n",
    "])\n",
    "\n",
    "# Compile Model\n",
    "cnn_lstm_model.compile(optimizer='adam', loss='binary_crossentropy', metrics=['accuracy'])\n",
    "\n",
    "# Train Model\n",
    "cnn_lstm_model.fit(X_train_cnn_lstm, y_train, epochs=20, batch_size=32, validation_data=(X_test_cnn_lstm, y_test))\n",
    "\n",
    "print(\"✅ CNN-LSTM Model Trained Successfully!\")\n"
   ]
  },
  {
   "cell_type": "code",
   "execution_count": 85,
   "id": "79ae7408-87da-412f-8753-de6c54ce0165",
   "metadata": {},
   "outputs": [
    {
     "name": "stdout",
     "output_type": "stream",
     "text": [
      "X_test shape: (1000, 13)\n"
     ]
    }
   ],
   "source": [
    "print(\"X_test shape:\", X_test.shape)\n"
   ]
  },
  {
   "cell_type": "code",
   "execution_count": 87,
   "id": "a5fc3afc-4907-4cf5-85b0-8ed7622f6514",
   "metadata": {},
   "outputs": [],
   "source": [
    "X_test = X_test.reshape((X_test.shape[0], X_test.shape[1], 1))  # Reshape to (1000, 13, 1)\n"
   ]
  },
  {
   "cell_type": "code",
   "execution_count": 91,
   "id": "fc2fe5cc-707e-4921-8321-99b2db5a5caf",
   "metadata": {},
   "outputs": [],
   "source": [
    "X_test_cnn = X_test.reshape((X_test.shape[0], X_test.shape[1], 1))  # (samples, time_steps, features)\n",
    "X_test_lstm = X_test.reshape((X_test.shape[0], X_test.shape[1], 1))  # (samples, time_steps, features)\n",
    "X_test_lstm = X_test.reshape((X_test.shape[0], X_test.shape[1], 1))  # (samples, time_steps, features)\n"
   ]
  },
  {
   "cell_type": "code",
   "execution_count": 97,
   "id": "4f136951-2324-4918-aa7d-d7ca8fa68b02",
   "metadata": {},
   "outputs": [
    {
     "name": "stdout",
     "output_type": "stream",
     "text": [
      "Expected input shape for CNN model: (None, 13, 1, 1)\n"
     ]
    }
   ],
   "source": [
    "print(\"Expected input shape for CNN model:\", cnn_model.input_shape)\n"
   ]
  },
  {
   "cell_type": "code",
   "execution_count": 99,
   "id": "c22a7317-cec7-4b90-83f5-79cb5a539a17",
   "metadata": {},
   "outputs": [],
   "source": [
    "X_test = X_test.reshape((X_test.shape[0], X_test.shape[1], 1, 1))  # Now shape will be (1000, 13, 1, 1)\n"
   ]
  },
  {
   "cell_type": "code",
   "execution_count": 103,
   "id": "a16d09eb-6eb2-4e79-a290-f8a96281af42",
   "metadata": {},
   "outputs": [],
   "source": [
    "def evaluate_model(model, X_test, y_test, model_name):\n",
    "    print(f\"\\n🔍 Before Reshaping ({model_name}): X_test shape: {X_test.shape}\")\n",
    "\n",
    "    # Ensure correct shape\n",
    "    if model_name in [\"CNN\", \"LSTM\", \"CNN-LSTM\"]:\n",
    "        X_test = X_test.reshape((X_test.shape[0], X_test.shape[1], 1, 1))  # ✅ Fix applied\n",
    "\n",
    "    print(f\"✅ After Reshaping ({model_name}): X_test shape: {X_test.shape}\")\n",
    "    print(f\"🎯 Expected input shape for {model_name}: {model.input_shape}\")\n",
    "\n",
    "    # Convert X_test to a fixed-shape TensorFlow tensor\n",
    "    import tensorflow as tf\n",
    "    X_test = tf.convert_to_tensor(X_test, dtype=tf.float32)\n",
    "\n",
    "    # Predict & convert probabilities to binary labels\n",
    "    y_pred = (model.predict(X_test) > 0.5).astype(\"int32\")\n",
    "\n",
    "    # Calculate metrics\n",
    "    from sklearn.metrics import accuracy_score, precision_score, recall_score, f1_score, confusion_matrix\n",
    "    accuracy = accuracy_score(y_test, y_pred)\n",
    "    precision = precision_score(y_test, y_pred)\n",
    "    recall = recall_score(y_test, y_pred)\n",
    "    f1 = f1_score(y_test, y_pred)\n",
    "    conf_matrix = confusion_matrix(y_test, y_pred)\n",
    "\n",
    "    print(f\"\\n🔹 **{model_name} Performance** 🔹\")\n",
    "    print(f\"✅ Accuracy: {accuracy:.4f}\")\n",
    "    print(f\"✅ Precision: {precision:.4f}\")\n",
    "    print(f\"✅ Recall: {recall:.4f}\")\n",
    "    print(f\"✅ F1-score: {f1:.4f}\")\n",
    "    print(f\"🟢 Confusion Matrix:\\n{conf_matrix}\")\n",
    "\n",
    "    return accuracy, precision, recall, f1, conf_matrix\n"
   ]
  },
  {
   "cell_type": "code",
   "execution_count": 105,
   "id": "254c8dfe-3fb5-43aa-9764-e44e434c3880",
   "metadata": {},
   "outputs": [],
   "source": [
    "def evaluate_model(model, X_test, y_test, model_name):\n",
    "    print(f\"\\n🚀 Evaluating Model: {model_name}...\")\n"
   ]
  },
  {
   "cell_type": "code",
   "execution_count": 107,
   "id": "d8e76a86-9700-4c27-92c4-32871b4d2c29",
   "metadata": {},
   "outputs": [
    {
     "name": "stdout",
     "output_type": "stream",
     "text": [
      "✅ Before function call: X_test shape: (1000, 13, 1, 1)\n"
     ]
    }
   ],
   "source": [
    "print(\"✅ Before function call: X_test shape:\", X_test.shape)\n"
   ]
  },
  {
   "cell_type": "code",
   "execution_count": 111,
   "id": "ec3ffe49-cbce-4388-814a-8228e10d40b8",
   "metadata": {},
   "outputs": [],
   "source": [
    "def evaluate_model(model, X_test, y_test, model_name):\n",
    "    print(f\"\\n🚀 Evaluating Model: {model_name}...\")\n",
    "\n",
    "    try:\n",
    "        y_pred = (model.predict(X_test) > 0.5).astype(\"int32\")\n",
    "        print(\"✅ Model made predictions.\")\n",
    "    except Exception as e:\n",
    "        print(\"❌ Error during prediction:\", e)\n",
    "        return None  # ✅ This must be inside the function\n",
    "\n",
    "    # Compute evaluation metrics\n",
    "    accuracy = accuracy_score(y_test, y_pred)\n",
    "    precision = precision_score(y_test, y_pred)\n",
    "    recall = recall_score(y_test, y_pred)\n",
    "    f1 = f1_score(y_test, y_pred)\n",
    "    conf_matrix = confusion_matrix(y_test, y_pred)\n",
    "\n",
    "    # Print results\n",
    "    print(f\"📊 {model_name} - Accuracy: {accuracy:.4f}, Precision: {precision:.4f}, Recall: {recall:.4f}, F1-score: {f1:.4f}\")\n",
    "    print(f\"🌀 Confusion Matrix:\\n{conf_matrix}\")\n",
    "\n",
    "    return accuracy, precision, recall, f1, conf_matrix\n"
   ]
  },
  {
   "cell_type": "code",
   "execution_count": 113,
   "id": "bd1d39fc-690c-4b80-b66f-defdf77a469d",
   "metadata": {},
   "outputs": [
    {
     "name": "stdout",
     "output_type": "stream",
     "text": [
      "\n",
      "🚀 Evaluating Model: CNN...\n",
      "\u001b[1m32/32\u001b[0m \u001b[32m━━━━━━━━━━━━━━━━━━━━\u001b[0m\u001b[37m\u001b[0m \u001b[1m0s\u001b[0m 6ms/step\n",
      "✅ Model made predictions.\n",
      "📊 CNN - Accuracy: 0.8950, Precision: 0.0000, Recall: 0.0000, F1-score: 0.0000\n",
      "🌀 Confusion Matrix:\n",
      "[[895   0]\n",
      " [105   0]]\n",
      "\n",
      "🚀 Evaluating Model: LSTM...\n",
      "❌ Error during prediction: Exception encountered when calling Sequential.call().\n",
      "\n",
      "\u001b[1mCannot take the length of shape with unknown rank.\u001b[0m\n",
      "\n",
      "Arguments received by Sequential.call():\n",
      "  • inputs=tf.Tensor(shape=<unknown>, dtype=float32)\n",
      "  • training=False\n",
      "  • mask=None\n",
      "\n",
      "🚀 Evaluating Model: CNN-LSTM...\n"
     ]
    },
    {
     "name": "stderr",
     "output_type": "stream",
     "text": [
      "C:\\Users\\chint\\anaconda3\\Lib\\site-packages\\sklearn\\metrics\\_classification.py:1531: UndefinedMetricWarning: Precision is ill-defined and being set to 0.0 due to no predicted samples. Use `zero_division` parameter to control this behavior.\n",
      "  _warn_prf(average, modifier, f\"{metric.capitalize()} is\", len(result))\n"
     ]
    },
    {
     "name": "stdout",
     "output_type": "stream",
     "text": [
      "\u001b[1m32/32\u001b[0m \u001b[32m━━━━━━━━━━━━━━━━━━━━\u001b[0m\u001b[37m\u001b[0m \u001b[1m2s\u001b[0m 36ms/step\n",
      "✅ Model made predictions.\n",
      "📊 CNN-LSTM - Accuracy: 0.8950, Precision: 0.0000, Recall: 0.0000, F1-score: 0.0000\n",
      "🌀 Confusion Matrix:\n",
      "[[895   0]\n",
      " [105   0]]\n"
     ]
    },
    {
     "name": "stderr",
     "output_type": "stream",
     "text": [
      "C:\\Users\\chint\\anaconda3\\Lib\\site-packages\\sklearn\\metrics\\_classification.py:1531: UndefinedMetricWarning: Precision is ill-defined and being set to 0.0 due to no predicted samples. Use `zero_division` parameter to control this behavior.\n",
      "  _warn_prf(average, modifier, f\"{metric.capitalize()} is\", len(result))\n"
     ]
    }
   ],
   "source": [
    "cnn_metrics = evaluate_model(cnn_model, X_test, y_test, \"CNN\")\n",
    "lstm_metrics = evaluate_model(lstm_model, X_test, y_test, \"LSTM\")\n",
    "cnn_lstm_metrics = evaluate_model(cnn_lstm_model, X_test, y_test, \"CNN-LSTM\")\n"
   ]
  },
  {
   "cell_type": "code",
   "execution_count": 115,
   "id": "dbf5cc18-2c70-4075-aadf-10290c15aa80",
   "metadata": {},
   "outputs": [
    {
     "name": "stdout",
     "output_type": "stream",
     "text": [
      "🔍 X_test shape before LSTM prediction: (1000, 13, 1, 1)\n",
      "✅ Reshaped X_test for LSTM: (1000, 13, 1, 1)\n"
     ]
    }
   ],
   "source": [
    "print(\"🔍 X_test shape before LSTM prediction:\", X_test.shape)\n",
    "\n",
    "if len(X_test.shape) == 2:  # If it's (1000, 13)\n",
    "    X_test = X_test.reshape((X_test.shape[0], X_test.shape[1], 1))  # Reshape to (1000, 13, 1)\n",
    "\n",
    "print(\"✅ Reshaped X_test for LSTM:\", X_test.shape)\n"
   ]
  },
  {
   "cell_type": "code",
   "execution_count": 117,
   "id": "73c1e174-a815-4d58-9fd6-445e63a57e78",
   "metadata": {},
   "outputs": [],
   "source": [
    "X_test = X_test.reshape((X_test.shape[0], X_test.shape[1], 1))  # Reshape to (1000, 13, 1)\n"
   ]
  },
  {
   "cell_type": "code",
   "execution_count": 121,
   "id": "52777beb-d4d9-4b8b-b522-56cea4da48f5",
   "metadata": {},
   "outputs": [
    {
     "data": {
      "text/html": [
       "<pre style=\"white-space:pre;overflow-x:auto;line-height:normal;font-family:Menlo,'DejaVu Sans Mono',consolas,'Courier New',monospace\"><span style=\"font-weight: bold\">Model: \"sequential_7\"</span>\n",
       "</pre>\n"
      ],
      "text/plain": [
       "\u001b[1mModel: \"sequential_7\"\u001b[0m\n"
      ]
     },
     "metadata": {},
     "output_type": "display_data"
    },
    {
     "data": {
      "text/html": [
       "<pre style=\"white-space:pre;overflow-x:auto;line-height:normal;font-family:Menlo,'DejaVu Sans Mono',consolas,'Courier New',monospace\">┏━━━━━━━━━━━━━━━━━━━━━━━━━━━━━━━━━┳━━━━━━━━━━━━━━━━━━━━━━━━┳━━━━━━━━━━━━━━━┓\n",
       "┃<span style=\"font-weight: bold\"> Layer (type)                    </span>┃<span style=\"font-weight: bold\"> Output Shape           </span>┃<span style=\"font-weight: bold\">       Param # </span>┃\n",
       "┡━━━━━━━━━━━━━━━━━━━━━━━━━━━━━━━━━╇━━━━━━━━━━━━━━━━━━━━━━━━╇━━━━━━━━━━━━━━━┩\n",
       "└─────────────────────────────────┴────────────────────────┴───────────────┘\n",
       "</pre>\n"
      ],
      "text/plain": [
       "┏━━━━━━━━━━━━━━━━━━━━━━━━━━━━━━━━━┳━━━━━━━━━━━━━━━━━━━━━━━━┳━━━━━━━━━━━━━━━┓\n",
       "┃\u001b[1m \u001b[0m\u001b[1mLayer (type)                   \u001b[0m\u001b[1m \u001b[0m┃\u001b[1m \u001b[0m\u001b[1mOutput Shape          \u001b[0m\u001b[1m \u001b[0m┃\u001b[1m \u001b[0m\u001b[1m      Param #\u001b[0m\u001b[1m \u001b[0m┃\n",
       "┡━━━━━━━━━━━━━━━━━━━━━━━━━━━━━━━━━╇━━━━━━━━━━━━━━━━━━━━━━━━╇━━━━━━━━━━━━━━━┩\n",
       "└─────────────────────────────────┴────────────────────────┴───────────────┘\n"
      ]
     },
     "metadata": {},
     "output_type": "display_data"
    },
    {
     "data": {
      "text/html": [
       "<pre style=\"white-space:pre;overflow-x:auto;line-height:normal;font-family:Menlo,'DejaVu Sans Mono',consolas,'Courier New',monospace\"><span style=\"font-weight: bold\"> Total params: </span><span style=\"color: #00af00; text-decoration-color: #00af00\">0</span> (0.00 B)\n",
       "</pre>\n"
      ],
      "text/plain": [
       "\u001b[1m Total params: \u001b[0m\u001b[38;5;34m0\u001b[0m (0.00 B)\n"
      ]
     },
     "metadata": {},
     "output_type": "display_data"
    },
    {
     "data": {
      "text/html": [
       "<pre style=\"white-space:pre;overflow-x:auto;line-height:normal;font-family:Menlo,'DejaVu Sans Mono',consolas,'Courier New',monospace\"><span style=\"font-weight: bold\"> Trainable params: </span><span style=\"color: #00af00; text-decoration-color: #00af00\">0</span> (0.00 B)\n",
       "</pre>\n"
      ],
      "text/plain": [
       "\u001b[1m Trainable params: \u001b[0m\u001b[38;5;34m0\u001b[0m (0.00 B)\n"
      ]
     },
     "metadata": {},
     "output_type": "display_data"
    },
    {
     "data": {
      "text/html": [
       "<pre style=\"white-space:pre;overflow-x:auto;line-height:normal;font-family:Menlo,'DejaVu Sans Mono',consolas,'Courier New',monospace\"><span style=\"font-weight: bold\"> Non-trainable params: </span><span style=\"color: #00af00; text-decoration-color: #00af00\">0</span> (0.00 B)\n",
       "</pre>\n"
      ],
      "text/plain": [
       "\u001b[1m Non-trainable params: \u001b[0m\u001b[38;5;34m0\u001b[0m (0.00 B)\n"
      ]
     },
     "metadata": {},
     "output_type": "display_data"
    },
    {
     "name": "stdout",
     "output_type": "stream",
     "text": [
      "None\n"
     ]
    }
   ],
   "source": [
    "print(model.summary())  # Check if the model has layers\n"
   ]
  },
  {
   "cell_type": "code",
   "execution_count": 129,
   "id": "9cfa4b22-e5dd-4213-9335-9ea9c4c2af68",
   "metadata": {},
   "outputs": [
    {
     "data": {
      "text/html": [
       "<pre style=\"white-space:pre;overflow-x:auto;line-height:normal;font-family:Menlo,'DejaVu Sans Mono',consolas,'Courier New',monospace\"><span style=\"font-weight: bold\">Model: \"sequential_15\"</span>\n",
       "</pre>\n"
      ],
      "text/plain": [
       "\u001b[1mModel: \"sequential_15\"\u001b[0m\n"
      ]
     },
     "metadata": {},
     "output_type": "display_data"
    },
    {
     "data": {
      "text/html": [
       "<pre style=\"white-space:pre;overflow-x:auto;line-height:normal;font-family:Menlo,'DejaVu Sans Mono',consolas,'Courier New',monospace\">┏━━━━━━━━━━━━━━━━━━━━━━━━━━━━━━━━━┳━━━━━━━━━━━━━━━━━━━━━━━━┳━━━━━━━━━━━━━━━┓\n",
       "┃<span style=\"font-weight: bold\"> Layer (type)                    </span>┃<span style=\"font-weight: bold\"> Output Shape           </span>┃<span style=\"font-weight: bold\">       Param # </span>┃\n",
       "┡━━━━━━━━━━━━━━━━━━━━━━━━━━━━━━━━━╇━━━━━━━━━━━━━━━━━━━━━━━━╇━━━━━━━━━━━━━━━┩\n",
       "│ lstm_16 (<span style=\"color: #0087ff; text-decoration-color: #0087ff\">LSTM</span>)                  │ (<span style=\"color: #00d7ff; text-decoration-color: #00d7ff\">None</span>, <span style=\"color: #00af00; text-decoration-color: #00af00\">13</span>, <span style=\"color: #00af00; text-decoration-color: #00af00\">64</span>)         │        <span style=\"color: #00af00; text-decoration-color: #00af00\">16,896</span> │\n",
       "├─────────────────────────────────┼────────────────────────┼───────────────┤\n",
       "│ dropout_22 (<span style=\"color: #0087ff; text-decoration-color: #0087ff\">Dropout</span>)            │ (<span style=\"color: #00d7ff; text-decoration-color: #00d7ff\">None</span>, <span style=\"color: #00af00; text-decoration-color: #00af00\">13</span>, <span style=\"color: #00af00; text-decoration-color: #00af00\">64</span>)         │             <span style=\"color: #00af00; text-decoration-color: #00af00\">0</span> │\n",
       "├─────────────────────────────────┼────────────────────────┼───────────────┤\n",
       "│ lstm_17 (<span style=\"color: #0087ff; text-decoration-color: #0087ff\">LSTM</span>)                  │ (<span style=\"color: #00d7ff; text-decoration-color: #00d7ff\">None</span>, <span style=\"color: #00af00; text-decoration-color: #00af00\">32</span>)             │        <span style=\"color: #00af00; text-decoration-color: #00af00\">12,416</span> │\n",
       "├─────────────────────────────────┼────────────────────────┼───────────────┤\n",
       "│ dropout_23 (<span style=\"color: #0087ff; text-decoration-color: #0087ff\">Dropout</span>)            │ (<span style=\"color: #00d7ff; text-decoration-color: #00d7ff\">None</span>, <span style=\"color: #00af00; text-decoration-color: #00af00\">32</span>)             │             <span style=\"color: #00af00; text-decoration-color: #00af00\">0</span> │\n",
       "├─────────────────────────────────┼────────────────────────┼───────────────┤\n",
       "│ dense_20 (<span style=\"color: #0087ff; text-decoration-color: #0087ff\">Dense</span>)                │ (<span style=\"color: #00d7ff; text-decoration-color: #00d7ff\">None</span>, <span style=\"color: #00af00; text-decoration-color: #00af00\">1</span>)              │            <span style=\"color: #00af00; text-decoration-color: #00af00\">33</span> │\n",
       "└─────────────────────────────────┴────────────────────────┴───────────────┘\n",
       "</pre>\n"
      ],
      "text/plain": [
       "┏━━━━━━━━━━━━━━━━━━━━━━━━━━━━━━━━━┳━━━━━━━━━━━━━━━━━━━━━━━━┳━━━━━━━━━━━━━━━┓\n",
       "┃\u001b[1m \u001b[0m\u001b[1mLayer (type)                   \u001b[0m\u001b[1m \u001b[0m┃\u001b[1m \u001b[0m\u001b[1mOutput Shape          \u001b[0m\u001b[1m \u001b[0m┃\u001b[1m \u001b[0m\u001b[1m      Param #\u001b[0m\u001b[1m \u001b[0m┃\n",
       "┡━━━━━━━━━━━━━━━━━━━━━━━━━━━━━━━━━╇━━━━━━━━━━━━━━━━━━━━━━━━╇━━━━━━━━━━━━━━━┩\n",
       "│ lstm_16 (\u001b[38;5;33mLSTM\u001b[0m)                  │ (\u001b[38;5;45mNone\u001b[0m, \u001b[38;5;34m13\u001b[0m, \u001b[38;5;34m64\u001b[0m)         │        \u001b[38;5;34m16,896\u001b[0m │\n",
       "├─────────────────────────────────┼────────────────────────┼───────────────┤\n",
       "│ dropout_22 (\u001b[38;5;33mDropout\u001b[0m)            │ (\u001b[38;5;45mNone\u001b[0m, \u001b[38;5;34m13\u001b[0m, \u001b[38;5;34m64\u001b[0m)         │             \u001b[38;5;34m0\u001b[0m │\n",
       "├─────────────────────────────────┼────────────────────────┼───────────────┤\n",
       "│ lstm_17 (\u001b[38;5;33mLSTM\u001b[0m)                  │ (\u001b[38;5;45mNone\u001b[0m, \u001b[38;5;34m32\u001b[0m)             │        \u001b[38;5;34m12,416\u001b[0m │\n",
       "├─────────────────────────────────┼────────────────────────┼───────────────┤\n",
       "│ dropout_23 (\u001b[38;5;33mDropout\u001b[0m)            │ (\u001b[38;5;45mNone\u001b[0m, \u001b[38;5;34m32\u001b[0m)             │             \u001b[38;5;34m0\u001b[0m │\n",
       "├─────────────────────────────────┼────────────────────────┼───────────────┤\n",
       "│ dense_20 (\u001b[38;5;33mDense\u001b[0m)                │ (\u001b[38;5;45mNone\u001b[0m, \u001b[38;5;34m1\u001b[0m)              │            \u001b[38;5;34m33\u001b[0m │\n",
       "└─────────────────────────────────┴────────────────────────┴───────────────┘\n"
      ]
     },
     "metadata": {},
     "output_type": "display_data"
    },
    {
     "data": {
      "text/html": [
       "<pre style=\"white-space:pre;overflow-x:auto;line-height:normal;font-family:Menlo,'DejaVu Sans Mono',consolas,'Courier New',monospace\"><span style=\"font-weight: bold\"> Total params: </span><span style=\"color: #00af00; text-decoration-color: #00af00\">88,037</span> (343.90 KB)\n",
       "</pre>\n"
      ],
      "text/plain": [
       "\u001b[1m Total params: \u001b[0m\u001b[38;5;34m88,037\u001b[0m (343.90 KB)\n"
      ]
     },
     "metadata": {},
     "output_type": "display_data"
    },
    {
     "data": {
      "text/html": [
       "<pre style=\"white-space:pre;overflow-x:auto;line-height:normal;font-family:Menlo,'DejaVu Sans Mono',consolas,'Courier New',monospace\"><span style=\"font-weight: bold\"> Trainable params: </span><span style=\"color: #00af00; text-decoration-color: #00af00\">29,345</span> (114.63 KB)\n",
       "</pre>\n"
      ],
      "text/plain": [
       "\u001b[1m Trainable params: \u001b[0m\u001b[38;5;34m29,345\u001b[0m (114.63 KB)\n"
      ]
     },
     "metadata": {},
     "output_type": "display_data"
    },
    {
     "data": {
      "text/html": [
       "<pre style=\"white-space:pre;overflow-x:auto;line-height:normal;font-family:Menlo,'DejaVu Sans Mono',consolas,'Courier New',monospace\"><span style=\"font-weight: bold\"> Non-trainable params: </span><span style=\"color: #00af00; text-decoration-color: #00af00\">0</span> (0.00 B)\n",
       "</pre>\n"
      ],
      "text/plain": [
       "\u001b[1m Non-trainable params: \u001b[0m\u001b[38;5;34m0\u001b[0m (0.00 B)\n"
      ]
     },
     "metadata": {},
     "output_type": "display_data"
    },
    {
     "data": {
      "text/html": [
       "<pre style=\"white-space:pre;overflow-x:auto;line-height:normal;font-family:Menlo,'DejaVu Sans Mono',consolas,'Courier New',monospace\"><span style=\"font-weight: bold\"> Optimizer params: </span><span style=\"color: #00af00; text-decoration-color: #00af00\">58,692</span> (229.27 KB)\n",
       "</pre>\n"
      ],
      "text/plain": [
       "\u001b[1m Optimizer params: \u001b[0m\u001b[38;5;34m58,692\u001b[0m (229.27 KB)\n"
      ]
     },
     "metadata": {},
     "output_type": "display_data"
    },
    {
     "name": "stdout",
     "output_type": "stream",
     "text": [
      "None\n"
     ]
    }
   ],
   "source": [
    "print(lstm_model.summary())\n"
   ]
  },
  {
   "cell_type": "code",
   "execution_count": 137,
   "id": "1fc5c4da-cc4f-4a06-987f-9d5ec21ede0e",
   "metadata": {},
   "outputs": [
    {
     "name": "stdout",
     "output_type": "stream",
     "text": [
      "📌 CNN Model Summary:\n"
     ]
    },
    {
     "data": {
      "text/html": [
       "<pre style=\"white-space:pre;overflow-x:auto;line-height:normal;font-family:Menlo,'DejaVu Sans Mono',consolas,'Courier New',monospace\"><span style=\"font-weight: bold\">Model: \"sequential_16\"</span>\n",
       "</pre>\n"
      ],
      "text/plain": [
       "\u001b[1mModel: \"sequential_16\"\u001b[0m\n"
      ]
     },
     "metadata": {},
     "output_type": "display_data"
    },
    {
     "data": {
      "text/html": [
       "<pre style=\"white-space:pre;overflow-x:auto;line-height:normal;font-family:Menlo,'DejaVu Sans Mono',consolas,'Courier New',monospace\">┏━━━━━━━━━━━━━━━━━━━━━━━━━━━━━━━━━┳━━━━━━━━━━━━━━━━━━━━━━━━┳━━━━━━━━━━━━━━━┓\n",
       "┃<span style=\"font-weight: bold\"> Layer (type)                    </span>┃<span style=\"font-weight: bold\"> Output Shape           </span>┃<span style=\"font-weight: bold\">       Param # </span>┃\n",
       "┡━━━━━━━━━━━━━━━━━━━━━━━━━━━━━━━━━╇━━━━━━━━━━━━━━━━━━━━━━━━╇━━━━━━━━━━━━━━━┩\n",
       "│ conv2d_14 (<span style=\"color: #0087ff; text-decoration-color: #0087ff\">Conv2D</span>)              │ (<span style=\"color: #00d7ff; text-decoration-color: #00d7ff\">None</span>, <span style=\"color: #00af00; text-decoration-color: #00af00\">13</span>, <span style=\"color: #00af00; text-decoration-color: #00af00\">1</span>, <span style=\"color: #00af00; text-decoration-color: #00af00\">32</span>)      │           <span style=\"color: #00af00; text-decoration-color: #00af00\">320</span> │\n",
       "├─────────────────────────────────┼────────────────────────┼───────────────┤\n",
       "│ max_pooling2d_12 (<span style=\"color: #0087ff; text-decoration-color: #0087ff\">MaxPooling2D</span>) │ (<span style=\"color: #00d7ff; text-decoration-color: #00d7ff\">None</span>, <span style=\"color: #00af00; text-decoration-color: #00af00\">13</span>, <span style=\"color: #00af00; text-decoration-color: #00af00\">1</span>, <span style=\"color: #00af00; text-decoration-color: #00af00\">32</span>)      │             <span style=\"color: #00af00; text-decoration-color: #00af00\">0</span> │\n",
       "├─────────────────────────────────┼────────────────────────┼───────────────┤\n",
       "│ conv2d_15 (<span style=\"color: #0087ff; text-decoration-color: #0087ff\">Conv2D</span>)              │ (<span style=\"color: #00d7ff; text-decoration-color: #00d7ff\">None</span>, <span style=\"color: #00af00; text-decoration-color: #00af00\">13</span>, <span style=\"color: #00af00; text-decoration-color: #00af00\">1</span>, <span style=\"color: #00af00; text-decoration-color: #00af00\">64</span>)      │        <span style=\"color: #00af00; text-decoration-color: #00af00\">18,496</span> │\n",
       "├─────────────────────────────────┼────────────────────────┼───────────────┤\n",
       "│ flatten_12 (<span style=\"color: #0087ff; text-decoration-color: #0087ff\">Flatten</span>)            │ (<span style=\"color: #00d7ff; text-decoration-color: #00d7ff\">None</span>, <span style=\"color: #00af00; text-decoration-color: #00af00\">832</span>)            │             <span style=\"color: #00af00; text-decoration-color: #00af00\">0</span> │\n",
       "├─────────────────────────────────┼────────────────────────┼───────────────┤\n",
       "│ dense_21 (<span style=\"color: #0087ff; text-decoration-color: #0087ff\">Dense</span>)                │ (<span style=\"color: #00d7ff; text-decoration-color: #00d7ff\">None</span>, <span style=\"color: #00af00; text-decoration-color: #00af00\">128</span>)            │       <span style=\"color: #00af00; text-decoration-color: #00af00\">106,624</span> │\n",
       "├─────────────────────────────────┼────────────────────────┼───────────────┤\n",
       "│ dropout_24 (<span style=\"color: #0087ff; text-decoration-color: #0087ff\">Dropout</span>)            │ (<span style=\"color: #00d7ff; text-decoration-color: #00d7ff\">None</span>, <span style=\"color: #00af00; text-decoration-color: #00af00\">128</span>)            │             <span style=\"color: #00af00; text-decoration-color: #00af00\">0</span> │\n",
       "├─────────────────────────────────┼────────────────────────┼───────────────┤\n",
       "│ dense_22 (<span style=\"color: #0087ff; text-decoration-color: #0087ff\">Dense</span>)                │ (<span style=\"color: #00d7ff; text-decoration-color: #00d7ff\">None</span>, <span style=\"color: #00af00; text-decoration-color: #00af00\">1</span>)              │           <span style=\"color: #00af00; text-decoration-color: #00af00\">129</span> │\n",
       "└─────────────────────────────────┴────────────────────────┴───────────────┘\n",
       "</pre>\n"
      ],
      "text/plain": [
       "┏━━━━━━━━━━━━━━━━━━━━━━━━━━━━━━━━━┳━━━━━━━━━━━━━━━━━━━━━━━━┳━━━━━━━━━━━━━━━┓\n",
       "┃\u001b[1m \u001b[0m\u001b[1mLayer (type)                   \u001b[0m\u001b[1m \u001b[0m┃\u001b[1m \u001b[0m\u001b[1mOutput Shape          \u001b[0m\u001b[1m \u001b[0m┃\u001b[1m \u001b[0m\u001b[1m      Param #\u001b[0m\u001b[1m \u001b[0m┃\n",
       "┡━━━━━━━━━━━━━━━━━━━━━━━━━━━━━━━━━╇━━━━━━━━━━━━━━━━━━━━━━━━╇━━━━━━━━━━━━━━━┩\n",
       "│ conv2d_14 (\u001b[38;5;33mConv2D\u001b[0m)              │ (\u001b[38;5;45mNone\u001b[0m, \u001b[38;5;34m13\u001b[0m, \u001b[38;5;34m1\u001b[0m, \u001b[38;5;34m32\u001b[0m)      │           \u001b[38;5;34m320\u001b[0m │\n",
       "├─────────────────────────────────┼────────────────────────┼───────────────┤\n",
       "│ max_pooling2d_12 (\u001b[38;5;33mMaxPooling2D\u001b[0m) │ (\u001b[38;5;45mNone\u001b[0m, \u001b[38;5;34m13\u001b[0m, \u001b[38;5;34m1\u001b[0m, \u001b[38;5;34m32\u001b[0m)      │             \u001b[38;5;34m0\u001b[0m │\n",
       "├─────────────────────────────────┼────────────────────────┼───────────────┤\n",
       "│ conv2d_15 (\u001b[38;5;33mConv2D\u001b[0m)              │ (\u001b[38;5;45mNone\u001b[0m, \u001b[38;5;34m13\u001b[0m, \u001b[38;5;34m1\u001b[0m, \u001b[38;5;34m64\u001b[0m)      │        \u001b[38;5;34m18,496\u001b[0m │\n",
       "├─────────────────────────────────┼────────────────────────┼───────────────┤\n",
       "│ flatten_12 (\u001b[38;5;33mFlatten\u001b[0m)            │ (\u001b[38;5;45mNone\u001b[0m, \u001b[38;5;34m832\u001b[0m)            │             \u001b[38;5;34m0\u001b[0m │\n",
       "├─────────────────────────────────┼────────────────────────┼───────────────┤\n",
       "│ dense_21 (\u001b[38;5;33mDense\u001b[0m)                │ (\u001b[38;5;45mNone\u001b[0m, \u001b[38;5;34m128\u001b[0m)            │       \u001b[38;5;34m106,624\u001b[0m │\n",
       "├─────────────────────────────────┼────────────────────────┼───────────────┤\n",
       "│ dropout_24 (\u001b[38;5;33mDropout\u001b[0m)            │ (\u001b[38;5;45mNone\u001b[0m, \u001b[38;5;34m128\u001b[0m)            │             \u001b[38;5;34m0\u001b[0m │\n",
       "├─────────────────────────────────┼────────────────────────┼───────────────┤\n",
       "│ dense_22 (\u001b[38;5;33mDense\u001b[0m)                │ (\u001b[38;5;45mNone\u001b[0m, \u001b[38;5;34m1\u001b[0m)              │           \u001b[38;5;34m129\u001b[0m │\n",
       "└─────────────────────────────────┴────────────────────────┴───────────────┘\n"
      ]
     },
     "metadata": {},
     "output_type": "display_data"
    },
    {
     "data": {
      "text/html": [
       "<pre style=\"white-space:pre;overflow-x:auto;line-height:normal;font-family:Menlo,'DejaVu Sans Mono',consolas,'Courier New',monospace\"><span style=\"font-weight: bold\"> Total params: </span><span style=\"color: #00af00; text-decoration-color: #00af00\">376,709</span> (1.44 MB)\n",
       "</pre>\n"
      ],
      "text/plain": [
       "\u001b[1m Total params: \u001b[0m\u001b[38;5;34m376,709\u001b[0m (1.44 MB)\n"
      ]
     },
     "metadata": {},
     "output_type": "display_data"
    },
    {
     "data": {
      "text/html": [
       "<pre style=\"white-space:pre;overflow-x:auto;line-height:normal;font-family:Menlo,'DejaVu Sans Mono',consolas,'Courier New',monospace\"><span style=\"font-weight: bold\"> Trainable params: </span><span style=\"color: #00af00; text-decoration-color: #00af00\">125,569</span> (490.50 KB)\n",
       "</pre>\n"
      ],
      "text/plain": [
       "\u001b[1m Trainable params: \u001b[0m\u001b[38;5;34m125,569\u001b[0m (490.50 KB)\n"
      ]
     },
     "metadata": {},
     "output_type": "display_data"
    },
    {
     "data": {
      "text/html": [
       "<pre style=\"white-space:pre;overflow-x:auto;line-height:normal;font-family:Menlo,'DejaVu Sans Mono',consolas,'Courier New',monospace\"><span style=\"font-weight: bold\"> Non-trainable params: </span><span style=\"color: #00af00; text-decoration-color: #00af00\">0</span> (0.00 B)\n",
       "</pre>\n"
      ],
      "text/plain": [
       "\u001b[1m Non-trainable params: \u001b[0m\u001b[38;5;34m0\u001b[0m (0.00 B)\n"
      ]
     },
     "metadata": {},
     "output_type": "display_data"
    },
    {
     "data": {
      "text/html": [
       "<pre style=\"white-space:pre;overflow-x:auto;line-height:normal;font-family:Menlo,'DejaVu Sans Mono',consolas,'Courier New',monospace\"><span style=\"font-weight: bold\"> Optimizer params: </span><span style=\"color: #00af00; text-decoration-color: #00af00\">251,140</span> (981.02 KB)\n",
       "</pre>\n"
      ],
      "text/plain": [
       "\u001b[1m Optimizer params: \u001b[0m\u001b[38;5;34m251,140\u001b[0m (981.02 KB)\n"
      ]
     },
     "metadata": {},
     "output_type": "display_data"
    },
    {
     "name": "stdout",
     "output_type": "stream",
     "text": [
      "\n",
      "==================================================\n",
      "\n",
      "📌 LSTM Model Summary:\n"
     ]
    },
    {
     "data": {
      "text/html": [
       "<pre style=\"white-space:pre;overflow-x:auto;line-height:normal;font-family:Menlo,'DejaVu Sans Mono',consolas,'Courier New',monospace\"><span style=\"font-weight: bold\">Model: \"sequential_15\"</span>\n",
       "</pre>\n"
      ],
      "text/plain": [
       "\u001b[1mModel: \"sequential_15\"\u001b[0m\n"
      ]
     },
     "metadata": {},
     "output_type": "display_data"
    },
    {
     "data": {
      "text/html": [
       "<pre style=\"white-space:pre;overflow-x:auto;line-height:normal;font-family:Menlo,'DejaVu Sans Mono',consolas,'Courier New',monospace\">┏━━━━━━━━━━━━━━━━━━━━━━━━━━━━━━━━━┳━━━━━━━━━━━━━━━━━━━━━━━━┳━━━━━━━━━━━━━━━┓\n",
       "┃<span style=\"font-weight: bold\"> Layer (type)                    </span>┃<span style=\"font-weight: bold\"> Output Shape           </span>┃<span style=\"font-weight: bold\">       Param # </span>┃\n",
       "┡━━━━━━━━━━━━━━━━━━━━━━━━━━━━━━━━━╇━━━━━━━━━━━━━━━━━━━━━━━━╇━━━━━━━━━━━━━━━┩\n",
       "│ lstm_16 (<span style=\"color: #0087ff; text-decoration-color: #0087ff\">LSTM</span>)                  │ (<span style=\"color: #00d7ff; text-decoration-color: #00d7ff\">None</span>, <span style=\"color: #00af00; text-decoration-color: #00af00\">13</span>, <span style=\"color: #00af00; text-decoration-color: #00af00\">64</span>)         │        <span style=\"color: #00af00; text-decoration-color: #00af00\">16,896</span> │\n",
       "├─────────────────────────────────┼────────────────────────┼───────────────┤\n",
       "│ dropout_22 (<span style=\"color: #0087ff; text-decoration-color: #0087ff\">Dropout</span>)            │ (<span style=\"color: #00d7ff; text-decoration-color: #00d7ff\">None</span>, <span style=\"color: #00af00; text-decoration-color: #00af00\">13</span>, <span style=\"color: #00af00; text-decoration-color: #00af00\">64</span>)         │             <span style=\"color: #00af00; text-decoration-color: #00af00\">0</span> │\n",
       "├─────────────────────────────────┼────────────────────────┼───────────────┤\n",
       "│ lstm_17 (<span style=\"color: #0087ff; text-decoration-color: #0087ff\">LSTM</span>)                  │ (<span style=\"color: #00d7ff; text-decoration-color: #00d7ff\">None</span>, <span style=\"color: #00af00; text-decoration-color: #00af00\">32</span>)             │        <span style=\"color: #00af00; text-decoration-color: #00af00\">12,416</span> │\n",
       "├─────────────────────────────────┼────────────────────────┼───────────────┤\n",
       "│ dropout_23 (<span style=\"color: #0087ff; text-decoration-color: #0087ff\">Dropout</span>)            │ (<span style=\"color: #00d7ff; text-decoration-color: #00d7ff\">None</span>, <span style=\"color: #00af00; text-decoration-color: #00af00\">32</span>)             │             <span style=\"color: #00af00; text-decoration-color: #00af00\">0</span> │\n",
       "├─────────────────────────────────┼────────────────────────┼───────────────┤\n",
       "│ dense_20 (<span style=\"color: #0087ff; text-decoration-color: #0087ff\">Dense</span>)                │ (<span style=\"color: #00d7ff; text-decoration-color: #00d7ff\">None</span>, <span style=\"color: #00af00; text-decoration-color: #00af00\">1</span>)              │            <span style=\"color: #00af00; text-decoration-color: #00af00\">33</span> │\n",
       "└─────────────────────────────────┴────────────────────────┴───────────────┘\n",
       "</pre>\n"
      ],
      "text/plain": [
       "┏━━━━━━━━━━━━━━━━━━━━━━━━━━━━━━━━━┳━━━━━━━━━━━━━━━━━━━━━━━━┳━━━━━━━━━━━━━━━┓\n",
       "┃\u001b[1m \u001b[0m\u001b[1mLayer (type)                   \u001b[0m\u001b[1m \u001b[0m┃\u001b[1m \u001b[0m\u001b[1mOutput Shape          \u001b[0m\u001b[1m \u001b[0m┃\u001b[1m \u001b[0m\u001b[1m      Param #\u001b[0m\u001b[1m \u001b[0m┃\n",
       "┡━━━━━━━━━━━━━━━━━━━━━━━━━━━━━━━━━╇━━━━━━━━━━━━━━━━━━━━━━━━╇━━━━━━━━━━━━━━━┩\n",
       "│ lstm_16 (\u001b[38;5;33mLSTM\u001b[0m)                  │ (\u001b[38;5;45mNone\u001b[0m, \u001b[38;5;34m13\u001b[0m, \u001b[38;5;34m64\u001b[0m)         │        \u001b[38;5;34m16,896\u001b[0m │\n",
       "├─────────────────────────────────┼────────────────────────┼───────────────┤\n",
       "│ dropout_22 (\u001b[38;5;33mDropout\u001b[0m)            │ (\u001b[38;5;45mNone\u001b[0m, \u001b[38;5;34m13\u001b[0m, \u001b[38;5;34m64\u001b[0m)         │             \u001b[38;5;34m0\u001b[0m │\n",
       "├─────────────────────────────────┼────────────────────────┼───────────────┤\n",
       "│ lstm_17 (\u001b[38;5;33mLSTM\u001b[0m)                  │ (\u001b[38;5;45mNone\u001b[0m, \u001b[38;5;34m32\u001b[0m)             │        \u001b[38;5;34m12,416\u001b[0m │\n",
       "├─────────────────────────────────┼────────────────────────┼───────────────┤\n",
       "│ dropout_23 (\u001b[38;5;33mDropout\u001b[0m)            │ (\u001b[38;5;45mNone\u001b[0m, \u001b[38;5;34m32\u001b[0m)             │             \u001b[38;5;34m0\u001b[0m │\n",
       "├─────────────────────────────────┼────────────────────────┼───────────────┤\n",
       "│ dense_20 (\u001b[38;5;33mDense\u001b[0m)                │ (\u001b[38;5;45mNone\u001b[0m, \u001b[38;5;34m1\u001b[0m)              │            \u001b[38;5;34m33\u001b[0m │\n",
       "└─────────────────────────────────┴────────────────────────┴───────────────┘\n"
      ]
     },
     "metadata": {},
     "output_type": "display_data"
    },
    {
     "data": {
      "text/html": [
       "<pre style=\"white-space:pre;overflow-x:auto;line-height:normal;font-family:Menlo,'DejaVu Sans Mono',consolas,'Courier New',monospace\"><span style=\"font-weight: bold\"> Total params: </span><span style=\"color: #00af00; text-decoration-color: #00af00\">88,037</span> (343.90 KB)\n",
       "</pre>\n"
      ],
      "text/plain": [
       "\u001b[1m Total params: \u001b[0m\u001b[38;5;34m88,037\u001b[0m (343.90 KB)\n"
      ]
     },
     "metadata": {},
     "output_type": "display_data"
    },
    {
     "data": {
      "text/html": [
       "<pre style=\"white-space:pre;overflow-x:auto;line-height:normal;font-family:Menlo,'DejaVu Sans Mono',consolas,'Courier New',monospace\"><span style=\"font-weight: bold\"> Trainable params: </span><span style=\"color: #00af00; text-decoration-color: #00af00\">29,345</span> (114.63 KB)\n",
       "</pre>\n"
      ],
      "text/plain": [
       "\u001b[1m Trainable params: \u001b[0m\u001b[38;5;34m29,345\u001b[0m (114.63 KB)\n"
      ]
     },
     "metadata": {},
     "output_type": "display_data"
    },
    {
     "data": {
      "text/html": [
       "<pre style=\"white-space:pre;overflow-x:auto;line-height:normal;font-family:Menlo,'DejaVu Sans Mono',consolas,'Courier New',monospace\"><span style=\"font-weight: bold\"> Non-trainable params: </span><span style=\"color: #00af00; text-decoration-color: #00af00\">0</span> (0.00 B)\n",
       "</pre>\n"
      ],
      "text/plain": [
       "\u001b[1m Non-trainable params: \u001b[0m\u001b[38;5;34m0\u001b[0m (0.00 B)\n"
      ]
     },
     "metadata": {},
     "output_type": "display_data"
    },
    {
     "data": {
      "text/html": [
       "<pre style=\"white-space:pre;overflow-x:auto;line-height:normal;font-family:Menlo,'DejaVu Sans Mono',consolas,'Courier New',monospace\"><span style=\"font-weight: bold\"> Optimizer params: </span><span style=\"color: #00af00; text-decoration-color: #00af00\">58,692</span> (229.27 KB)\n",
       "</pre>\n"
      ],
      "text/plain": [
       "\u001b[1m Optimizer params: \u001b[0m\u001b[38;5;34m58,692\u001b[0m (229.27 KB)\n"
      ]
     },
     "metadata": {},
     "output_type": "display_data"
    },
    {
     "name": "stdout",
     "output_type": "stream",
     "text": [
      "\n",
      "==================================================\n",
      "\n",
      "📌 CNN-LSTM Model Summary:\n"
     ]
    },
    {
     "data": {
      "text/html": [
       "<pre style=\"white-space:pre;overflow-x:auto;line-height:normal;font-family:Menlo,'DejaVu Sans Mono',consolas,'Courier New',monospace\"><span style=\"font-weight: bold\">Model: \"sequential_17\"</span>\n",
       "</pre>\n"
      ],
      "text/plain": [
       "\u001b[1mModel: \"sequential_17\"\u001b[0m\n"
      ]
     },
     "metadata": {},
     "output_type": "display_data"
    },
    {
     "data": {
      "text/html": [
       "<pre style=\"white-space:pre;overflow-x:auto;line-height:normal;font-family:Menlo,'DejaVu Sans Mono',consolas,'Courier New',monospace\">┏━━━━━━━━━━━━━━━━━━━━━━━━━━━━━━━━━┳━━━━━━━━━━━━━━━━━━━━━━━━┳━━━━━━━━━━━━━━━┓\n",
       "┃<span style=\"font-weight: bold\"> Layer (type)                    </span>┃<span style=\"font-weight: bold\"> Output Shape           </span>┃<span style=\"font-weight: bold\">       Param # </span>┃\n",
       "┡━━━━━━━━━━━━━━━━━━━━━━━━━━━━━━━━━╇━━━━━━━━━━━━━━━━━━━━━━━━╇━━━━━━━━━━━━━━━┩\n",
       "│ conv1d_5 (<span style=\"color: #0087ff; text-decoration-color: #0087ff\">Conv1D</span>)               │ (<span style=\"color: #00d7ff; text-decoration-color: #00d7ff\">None</span>, <span style=\"color: #00af00; text-decoration-color: #00af00\">13</span>, <span style=\"color: #00af00; text-decoration-color: #00af00\">32</span>)         │           <span style=\"color: #00af00; text-decoration-color: #00af00\">128</span> │\n",
       "├─────────────────────────────────┼────────────────────────┼───────────────┤\n",
       "│ max_pooling1d_5 (<span style=\"color: #0087ff; text-decoration-color: #0087ff\">MaxPooling1D</span>)  │ (<span style=\"color: #00d7ff; text-decoration-color: #00d7ff\">None</span>, <span style=\"color: #00af00; text-decoration-color: #00af00\">6</span>, <span style=\"color: #00af00; text-decoration-color: #00af00\">32</span>)          │             <span style=\"color: #00af00; text-decoration-color: #00af00\">0</span> │\n",
       "├─────────────────────────────────┼────────────────────────┼───────────────┤\n",
       "│ time_distributed_10             │ (<span style=\"color: #00d7ff; text-decoration-color: #00d7ff\">None</span>, <span style=\"color: #00af00; text-decoration-color: #00af00\">6</span>, <span style=\"color: #00af00; text-decoration-color: #00af00\">32</span>)          │             <span style=\"color: #00af00; text-decoration-color: #00af00\">0</span> │\n",
       "│ (<span style=\"color: #0087ff; text-decoration-color: #0087ff\">TimeDistributed</span>)               │                        │               │\n",
       "├─────────────────────────────────┼────────────────────────┼───────────────┤\n",
       "│ lstm_18 (<span style=\"color: #0087ff; text-decoration-color: #0087ff\">LSTM</span>)                  │ (<span style=\"color: #00d7ff; text-decoration-color: #00d7ff\">None</span>, <span style=\"color: #00af00; text-decoration-color: #00af00\">6</span>, <span style=\"color: #00af00; text-decoration-color: #00af00\">64</span>)          │        <span style=\"color: #00af00; text-decoration-color: #00af00\">24,832</span> │\n",
       "├─────────────────────────────────┼────────────────────────┼───────────────┤\n",
       "│ dropout_25 (<span style=\"color: #0087ff; text-decoration-color: #0087ff\">Dropout</span>)            │ (<span style=\"color: #00d7ff; text-decoration-color: #00d7ff\">None</span>, <span style=\"color: #00af00; text-decoration-color: #00af00\">6</span>, <span style=\"color: #00af00; text-decoration-color: #00af00\">64</span>)          │             <span style=\"color: #00af00; text-decoration-color: #00af00\">0</span> │\n",
       "├─────────────────────────────────┼────────────────────────┼───────────────┤\n",
       "│ lstm_19 (<span style=\"color: #0087ff; text-decoration-color: #0087ff\">LSTM</span>)                  │ (<span style=\"color: #00d7ff; text-decoration-color: #00d7ff\">None</span>, <span style=\"color: #00af00; text-decoration-color: #00af00\">32</span>)             │        <span style=\"color: #00af00; text-decoration-color: #00af00\">12,416</span> │\n",
       "├─────────────────────────────────┼────────────────────────┼───────────────┤\n",
       "│ dropout_26 (<span style=\"color: #0087ff; text-decoration-color: #0087ff\">Dropout</span>)            │ (<span style=\"color: #00d7ff; text-decoration-color: #00d7ff\">None</span>, <span style=\"color: #00af00; text-decoration-color: #00af00\">32</span>)             │             <span style=\"color: #00af00; text-decoration-color: #00af00\">0</span> │\n",
       "├─────────────────────────────────┼────────────────────────┼───────────────┤\n",
       "│ dense_23 (<span style=\"color: #0087ff; text-decoration-color: #0087ff\">Dense</span>)                │ (<span style=\"color: #00d7ff; text-decoration-color: #00d7ff\">None</span>, <span style=\"color: #00af00; text-decoration-color: #00af00\">1</span>)              │            <span style=\"color: #00af00; text-decoration-color: #00af00\">33</span> │\n",
       "└─────────────────────────────────┴────────────────────────┴───────────────┘\n",
       "</pre>\n"
      ],
      "text/plain": [
       "┏━━━━━━━━━━━━━━━━━━━━━━━━━━━━━━━━━┳━━━━━━━━━━━━━━━━━━━━━━━━┳━━━━━━━━━━━━━━━┓\n",
       "┃\u001b[1m \u001b[0m\u001b[1mLayer (type)                   \u001b[0m\u001b[1m \u001b[0m┃\u001b[1m \u001b[0m\u001b[1mOutput Shape          \u001b[0m\u001b[1m \u001b[0m┃\u001b[1m \u001b[0m\u001b[1m      Param #\u001b[0m\u001b[1m \u001b[0m┃\n",
       "┡━━━━━━━━━━━━━━━━━━━━━━━━━━━━━━━━━╇━━━━━━━━━━━━━━━━━━━━━━━━╇━━━━━━━━━━━━━━━┩\n",
       "│ conv1d_5 (\u001b[38;5;33mConv1D\u001b[0m)               │ (\u001b[38;5;45mNone\u001b[0m, \u001b[38;5;34m13\u001b[0m, \u001b[38;5;34m32\u001b[0m)         │           \u001b[38;5;34m128\u001b[0m │\n",
       "├─────────────────────────────────┼────────────────────────┼───────────────┤\n",
       "│ max_pooling1d_5 (\u001b[38;5;33mMaxPooling1D\u001b[0m)  │ (\u001b[38;5;45mNone\u001b[0m, \u001b[38;5;34m6\u001b[0m, \u001b[38;5;34m32\u001b[0m)          │             \u001b[38;5;34m0\u001b[0m │\n",
       "├─────────────────────────────────┼────────────────────────┼───────────────┤\n",
       "│ time_distributed_10             │ (\u001b[38;5;45mNone\u001b[0m, \u001b[38;5;34m6\u001b[0m, \u001b[38;5;34m32\u001b[0m)          │             \u001b[38;5;34m0\u001b[0m │\n",
       "│ (\u001b[38;5;33mTimeDistributed\u001b[0m)               │                        │               │\n",
       "├─────────────────────────────────┼────────────────────────┼───────────────┤\n",
       "│ lstm_18 (\u001b[38;5;33mLSTM\u001b[0m)                  │ (\u001b[38;5;45mNone\u001b[0m, \u001b[38;5;34m6\u001b[0m, \u001b[38;5;34m64\u001b[0m)          │        \u001b[38;5;34m24,832\u001b[0m │\n",
       "├─────────────────────────────────┼────────────────────────┼───────────────┤\n",
       "│ dropout_25 (\u001b[38;5;33mDropout\u001b[0m)            │ (\u001b[38;5;45mNone\u001b[0m, \u001b[38;5;34m6\u001b[0m, \u001b[38;5;34m64\u001b[0m)          │             \u001b[38;5;34m0\u001b[0m │\n",
       "├─────────────────────────────────┼────────────────────────┼───────────────┤\n",
       "│ lstm_19 (\u001b[38;5;33mLSTM\u001b[0m)                  │ (\u001b[38;5;45mNone\u001b[0m, \u001b[38;5;34m32\u001b[0m)             │        \u001b[38;5;34m12,416\u001b[0m │\n",
       "├─────────────────────────────────┼────────────────────────┼───────────────┤\n",
       "│ dropout_26 (\u001b[38;5;33mDropout\u001b[0m)            │ (\u001b[38;5;45mNone\u001b[0m, \u001b[38;5;34m32\u001b[0m)             │             \u001b[38;5;34m0\u001b[0m │\n",
       "├─────────────────────────────────┼────────────────────────┼───────────────┤\n",
       "│ dense_23 (\u001b[38;5;33mDense\u001b[0m)                │ (\u001b[38;5;45mNone\u001b[0m, \u001b[38;5;34m1\u001b[0m)              │            \u001b[38;5;34m33\u001b[0m │\n",
       "└─────────────────────────────────┴────────────────────────┴───────────────┘\n"
      ]
     },
     "metadata": {},
     "output_type": "display_data"
    },
    {
     "data": {
      "text/html": [
       "<pre style=\"white-space:pre;overflow-x:auto;line-height:normal;font-family:Menlo,'DejaVu Sans Mono',consolas,'Courier New',monospace\"><span style=\"font-weight: bold\"> Total params: </span><span style=\"color: #00af00; text-decoration-color: #00af00\">112,229</span> (438.40 KB)\n",
       "</pre>\n"
      ],
      "text/plain": [
       "\u001b[1m Total params: \u001b[0m\u001b[38;5;34m112,229\u001b[0m (438.40 KB)\n"
      ]
     },
     "metadata": {},
     "output_type": "display_data"
    },
    {
     "data": {
      "text/html": [
       "<pre style=\"white-space:pre;overflow-x:auto;line-height:normal;font-family:Menlo,'DejaVu Sans Mono',consolas,'Courier New',monospace\"><span style=\"font-weight: bold\"> Trainable params: </span><span style=\"color: #00af00; text-decoration-color: #00af00\">37,409</span> (146.13 KB)\n",
       "</pre>\n"
      ],
      "text/plain": [
       "\u001b[1m Trainable params: \u001b[0m\u001b[38;5;34m37,409\u001b[0m (146.13 KB)\n"
      ]
     },
     "metadata": {},
     "output_type": "display_data"
    },
    {
     "data": {
      "text/html": [
       "<pre style=\"white-space:pre;overflow-x:auto;line-height:normal;font-family:Menlo,'DejaVu Sans Mono',consolas,'Courier New',monospace\"><span style=\"font-weight: bold\"> Non-trainable params: </span><span style=\"color: #00af00; text-decoration-color: #00af00\">0</span> (0.00 B)\n",
       "</pre>\n"
      ],
      "text/plain": [
       "\u001b[1m Non-trainable params: \u001b[0m\u001b[38;5;34m0\u001b[0m (0.00 B)\n"
      ]
     },
     "metadata": {},
     "output_type": "display_data"
    },
    {
     "data": {
      "text/html": [
       "<pre style=\"white-space:pre;overflow-x:auto;line-height:normal;font-family:Menlo,'DejaVu Sans Mono',consolas,'Courier New',monospace\"><span style=\"font-weight: bold\"> Optimizer params: </span><span style=\"color: #00af00; text-decoration-color: #00af00\">74,820</span> (292.27 KB)\n",
       "</pre>\n"
      ],
      "text/plain": [
       "\u001b[1m Optimizer params: \u001b[0m\u001b[38;5;34m74,820\u001b[0m (292.27 KB)\n"
      ]
     },
     "metadata": {},
     "output_type": "display_data"
    }
   ],
   "source": [
    "print(\"📌 CNN Model Summary:\")\n",
    "cnn_model.summary()\n",
    "print(\"\\n\" + \"=\"*50 + \"\\n\")\n",
    "\n",
    "print(\"📌 LSTM Model Summary:\")\n",
    "lstm_model.summary()\n",
    "print(\"\\n\" + \"=\"*50 + \"\\n\")\n",
    "\n",
    "print(\"📌 CNN-LSTM Model Summary:\")\n",
    "cnn_lstm_model.summary()\n"
   ]
  },
  {
   "cell_type": "code",
   "execution_count": 141,
   "id": "63e9888c-90f0-41d3-a7e8-ce0846fa3973",
   "metadata": {},
   "outputs": [
    {
     "name": "stdout",
     "output_type": "stream",
     "text": [
      "✅ Computed Class Weights: {0: 0.5649717514124294, 1: 4.3478260869565215}\n"
     ]
    }
   ],
   "source": [
    "from sklearn.utils.class_weight import compute_class_weight\n",
    "import numpy as np\n",
    "\n",
    "# Compute class weights\n",
    "class_weights = compute_class_weight(class_weight=\"balanced\", \n",
    "                                     classes=np.array([0, 1]),  # Ensure class labels are an array\n",
    "                                     y=y_train)\n",
    "\n",
    "# Convert to dictionary format for Keras\n",
    "class_weight_dict = {i: class_weights[i] for i in range(len(class_weights))}\n",
    "\n",
    "print(\"✅ Computed Class Weights:\", class_weight_dict)\n"
   ]
  },
  {
   "cell_type": "code",
   "execution_count": 147,
   "id": "2675e73e-136f-4203-9be9-c11bb81c2805",
   "metadata": {},
   "outputs": [
    {
     "name": "stdout",
     "output_type": "stream",
     "text": [
      "X_train_cnn shape: (1000, 13, 1, 1)\n",
      "X_test_cnn shape: (1000, 13, 1, 1)\n"
     ]
    }
   ],
   "source": [
    "print(\"X_train_cnn shape:\", X_train_cnn.shape)\n",
    "print(\"X_test_cnn shape:\", X_test_cnn.shape)\n"
   ]
  },
  {
   "cell_type": "code",
   "execution_count": 149,
   "id": "b06ed870-5e98-4f85-9592-c6cc56ddfd4b",
   "metadata": {},
   "outputs": [
    {
     "name": "stdout",
     "output_type": "stream",
     "text": [
      "Class Weights: {0: 0.5649717514124294, 1: 4.3478260869565215}\n"
     ]
    }
   ],
   "source": [
    "print(\"Class Weights:\", class_weight_dict)\n"
   ]
  },
  {
   "cell_type": "code",
   "execution_count": 151,
   "id": "14d8301b-7610-49ca-b2f4-b632eb527e70",
   "metadata": {},
   "outputs": [
    {
     "name": "stdout",
     "output_type": "stream",
     "text": [
      "y_train shape: (1000,) Type: int32\n",
      "y_test shape: (1000,) Type: int32\n"
     ]
    }
   ],
   "source": [
    "print(\"y_train shape:\", y_train.shape, \"Type:\", y_train.dtype)\n",
    "print(\"y_test shape:\", y_test.shape, \"Type:\", y_test.dtype)\n"
   ]
  },
  {
   "cell_type": "code",
   "execution_count": 153,
   "id": "a7ce7909-4339-421c-8757-7828ee390bfb",
   "metadata": {},
   "outputs": [
    {
     "name": "stdout",
     "output_type": "stream",
     "text": [
      "Class Weights: {0: 0.5649717514124294, 1: 4.3478260869565215}\n",
      "<class 'dict'>\n"
     ]
    }
   ],
   "source": [
    "print(\"Class Weights:\", class_weight_dict)\n",
    "print(type(class_weight_dict))\n"
   ]
  },
  {
   "cell_type": "code",
   "execution_count": 155,
   "id": "527c92e1-e1e3-4d78-931d-1ce19290eda1",
   "metadata": {},
   "outputs": [],
   "source": [
    "X_train_cnn = X_train_cnn.astype(\"float32\")\n",
    "X_test_cnn = X_test_cnn.astype(\"float32\")\n"
   ]
  },
  {
   "cell_type": "code",
   "execution_count": 157,
   "id": "d5c88a96-99b1-46d0-900a-94538364b093",
   "metadata": {},
   "outputs": [
    {
     "name": "stdout",
     "output_type": "stream",
     "text": [
      "WARNING:tensorflow:From C:\\Users\\chint\\anaconda3\\Lib\\site-packages\\keras\\src\\backend\\common\\global_state.py:82: The name tf.reset_default_graph is deprecated. Please use tf.compat.v1.reset_default_graph instead.\n",
      "\n"
     ]
    },
    {
     "name": "stderr",
     "output_type": "stream",
     "text": [
      "WARNING:tensorflow:From C:\\Users\\chint\\anaconda3\\Lib\\site-packages\\keras\\src\\backend\\common\\global_state.py:82: The name tf.reset_default_graph is deprecated. Please use tf.compat.v1.reset_default_graph instead.\n",
      "\n"
     ]
    }
   ],
   "source": [
    "import tensorflow.keras.backend as K\n",
    "K.clear_session()\n"
   ]
  },
  {
   "cell_type": "code",
   "execution_count": 159,
   "id": "d35eba00-7e90-4380-9a41-2c70fba82742",
   "metadata": {},
   "outputs": [
    {
     "name": "stdout",
     "output_type": "stream",
     "text": [
      "Updated Class Weights: {0: 0.5649717514124294, 1: 4.3478260869565215}\n"
     ]
    }
   ],
   "source": [
    "class_weight_dict = {int(k): float(v) for k, v in class_weight_dict.items()}\n",
    "print(\"Updated Class Weights:\", class_weight_dict)\n"
   ]
  },
  {
   "cell_type": "code",
   "execution_count": 163,
   "id": "ef7d3a88-9bf4-4b2a-bcdc-89eeb4d32730",
   "metadata": {},
   "outputs": [
    {
     "name": "stdout",
     "output_type": "stream",
     "text": [
      "X_train_cnn shape: (1000, 13, 1, 1)\n",
      "X_test_cnn shape: (1000, 13, 1, 1)\n",
      "y_train shape: (1000,) Type: int32\n",
      "y_test shape: (1000,) Type: int32\n"
     ]
    }
   ],
   "source": [
    "print(\"X_train_cnn shape:\", X_train_cnn.shape)\n",
    "print(\"X_test_cnn shape:\", X_test_cnn.shape)\n",
    "print(\"y_train shape:\", y_train.shape, \"Type:\", y_train.dtype)\n",
    "print(\"y_test shape:\", y_test.shape, \"Type:\", y_test.dtype)\n"
   ]
  },
  {
   "cell_type": "code",
   "execution_count": 165,
   "id": "09e05e3f-f89f-4a18-a784-d18f2f18e67c",
   "metadata": {},
   "outputs": [],
   "source": [
    "y_train = y_train.astype(\"float32\")\n",
    "y_test = y_test.astype(\"float32\")\n"
   ]
  },
  {
   "cell_type": "code",
   "execution_count": 171,
   "id": "70bf4788-c8d3-4d3c-b0f4-07d6175f80d8",
   "metadata": {},
   "outputs": [
    {
     "data": {
      "text/html": [
       "<pre style=\"white-space:pre;overflow-x:auto;line-height:normal;font-family:Menlo,'DejaVu Sans Mono',consolas,'Courier New',monospace\"><span style=\"font-weight: bold\">Model: \"sequential_16\"</span>\n",
       "</pre>\n"
      ],
      "text/plain": [
       "\u001b[1mModel: \"sequential_16\"\u001b[0m\n"
      ]
     },
     "metadata": {},
     "output_type": "display_data"
    },
    {
     "data": {
      "text/html": [
       "<pre style=\"white-space:pre;overflow-x:auto;line-height:normal;font-family:Menlo,'DejaVu Sans Mono',consolas,'Courier New',monospace\">┏━━━━━━━━━━━━━━━━━━━━━━━━━━━━━━━━━┳━━━━━━━━━━━━━━━━━━━━━━━━┳━━━━━━━━━━━━━━━┓\n",
       "┃<span style=\"font-weight: bold\"> Layer (type)                    </span>┃<span style=\"font-weight: bold\"> Output Shape           </span>┃<span style=\"font-weight: bold\">       Param # </span>┃\n",
       "┡━━━━━━━━━━━━━━━━━━━━━━━━━━━━━━━━━╇━━━━━━━━━━━━━━━━━━━━━━━━╇━━━━━━━━━━━━━━━┩\n",
       "│ conv2d_14 (<span style=\"color: #0087ff; text-decoration-color: #0087ff\">Conv2D</span>)              │ (<span style=\"color: #00d7ff; text-decoration-color: #00d7ff\">None</span>, <span style=\"color: #00af00; text-decoration-color: #00af00\">13</span>, <span style=\"color: #00af00; text-decoration-color: #00af00\">1</span>, <span style=\"color: #00af00; text-decoration-color: #00af00\">32</span>)      │           <span style=\"color: #00af00; text-decoration-color: #00af00\">320</span> │\n",
       "├─────────────────────────────────┼────────────────────────┼───────────────┤\n",
       "│ max_pooling2d_12 (<span style=\"color: #0087ff; text-decoration-color: #0087ff\">MaxPooling2D</span>) │ (<span style=\"color: #00d7ff; text-decoration-color: #00d7ff\">None</span>, <span style=\"color: #00af00; text-decoration-color: #00af00\">13</span>, <span style=\"color: #00af00; text-decoration-color: #00af00\">1</span>, <span style=\"color: #00af00; text-decoration-color: #00af00\">32</span>)      │             <span style=\"color: #00af00; text-decoration-color: #00af00\">0</span> │\n",
       "├─────────────────────────────────┼────────────────────────┼───────────────┤\n",
       "│ conv2d_15 (<span style=\"color: #0087ff; text-decoration-color: #0087ff\">Conv2D</span>)              │ (<span style=\"color: #00d7ff; text-decoration-color: #00d7ff\">None</span>, <span style=\"color: #00af00; text-decoration-color: #00af00\">13</span>, <span style=\"color: #00af00; text-decoration-color: #00af00\">1</span>, <span style=\"color: #00af00; text-decoration-color: #00af00\">64</span>)      │        <span style=\"color: #00af00; text-decoration-color: #00af00\">18,496</span> │\n",
       "├─────────────────────────────────┼────────────────────────┼───────────────┤\n",
       "│ flatten_12 (<span style=\"color: #0087ff; text-decoration-color: #0087ff\">Flatten</span>)            │ (<span style=\"color: #00d7ff; text-decoration-color: #00d7ff\">None</span>, <span style=\"color: #00af00; text-decoration-color: #00af00\">832</span>)            │             <span style=\"color: #00af00; text-decoration-color: #00af00\">0</span> │\n",
       "├─────────────────────────────────┼────────────────────────┼───────────────┤\n",
       "│ dense_21 (<span style=\"color: #0087ff; text-decoration-color: #0087ff\">Dense</span>)                │ (<span style=\"color: #00d7ff; text-decoration-color: #00d7ff\">None</span>, <span style=\"color: #00af00; text-decoration-color: #00af00\">128</span>)            │       <span style=\"color: #00af00; text-decoration-color: #00af00\">106,624</span> │\n",
       "├─────────────────────────────────┼────────────────────────┼───────────────┤\n",
       "│ dropout_24 (<span style=\"color: #0087ff; text-decoration-color: #0087ff\">Dropout</span>)            │ (<span style=\"color: #00d7ff; text-decoration-color: #00d7ff\">None</span>, <span style=\"color: #00af00; text-decoration-color: #00af00\">128</span>)            │             <span style=\"color: #00af00; text-decoration-color: #00af00\">0</span> │\n",
       "├─────────────────────────────────┼────────────────────────┼───────────────┤\n",
       "│ dense_22 (<span style=\"color: #0087ff; text-decoration-color: #0087ff\">Dense</span>)                │ (<span style=\"color: #00d7ff; text-decoration-color: #00d7ff\">None</span>, <span style=\"color: #00af00; text-decoration-color: #00af00\">1</span>)              │           <span style=\"color: #00af00; text-decoration-color: #00af00\">129</span> │\n",
       "└─────────────────────────────────┴────────────────────────┴───────────────┘\n",
       "</pre>\n"
      ],
      "text/plain": [
       "┏━━━━━━━━━━━━━━━━━━━━━━━━━━━━━━━━━┳━━━━━━━━━━━━━━━━━━━━━━━━┳━━━━━━━━━━━━━━━┓\n",
       "┃\u001b[1m \u001b[0m\u001b[1mLayer (type)                   \u001b[0m\u001b[1m \u001b[0m┃\u001b[1m \u001b[0m\u001b[1mOutput Shape          \u001b[0m\u001b[1m \u001b[0m┃\u001b[1m \u001b[0m\u001b[1m      Param #\u001b[0m\u001b[1m \u001b[0m┃\n",
       "┡━━━━━━━━━━━━━━━━━━━━━━━━━━━━━━━━━╇━━━━━━━━━━━━━━━━━━━━━━━━╇━━━━━━━━━━━━━━━┩\n",
       "│ conv2d_14 (\u001b[38;5;33mConv2D\u001b[0m)              │ (\u001b[38;5;45mNone\u001b[0m, \u001b[38;5;34m13\u001b[0m, \u001b[38;5;34m1\u001b[0m, \u001b[38;5;34m32\u001b[0m)      │           \u001b[38;5;34m320\u001b[0m │\n",
       "├─────────────────────────────────┼────────────────────────┼───────────────┤\n",
       "│ max_pooling2d_12 (\u001b[38;5;33mMaxPooling2D\u001b[0m) │ (\u001b[38;5;45mNone\u001b[0m, \u001b[38;5;34m13\u001b[0m, \u001b[38;5;34m1\u001b[0m, \u001b[38;5;34m32\u001b[0m)      │             \u001b[38;5;34m0\u001b[0m │\n",
       "├─────────────────────────────────┼────────────────────────┼───────────────┤\n",
       "│ conv2d_15 (\u001b[38;5;33mConv2D\u001b[0m)              │ (\u001b[38;5;45mNone\u001b[0m, \u001b[38;5;34m13\u001b[0m, \u001b[38;5;34m1\u001b[0m, \u001b[38;5;34m64\u001b[0m)      │        \u001b[38;5;34m18,496\u001b[0m │\n",
       "├─────────────────────────────────┼────────────────────────┼───────────────┤\n",
       "│ flatten_12 (\u001b[38;5;33mFlatten\u001b[0m)            │ (\u001b[38;5;45mNone\u001b[0m, \u001b[38;5;34m832\u001b[0m)            │             \u001b[38;5;34m0\u001b[0m │\n",
       "├─────────────────────────────────┼────────────────────────┼───────────────┤\n",
       "│ dense_21 (\u001b[38;5;33mDense\u001b[0m)                │ (\u001b[38;5;45mNone\u001b[0m, \u001b[38;5;34m128\u001b[0m)            │       \u001b[38;5;34m106,624\u001b[0m │\n",
       "├─────────────────────────────────┼────────────────────────┼───────────────┤\n",
       "│ dropout_24 (\u001b[38;5;33mDropout\u001b[0m)            │ (\u001b[38;5;45mNone\u001b[0m, \u001b[38;5;34m128\u001b[0m)            │             \u001b[38;5;34m0\u001b[0m │\n",
       "├─────────────────────────────────┼────────────────────────┼───────────────┤\n",
       "│ dense_22 (\u001b[38;5;33mDense\u001b[0m)                │ (\u001b[38;5;45mNone\u001b[0m, \u001b[38;5;34m1\u001b[0m)              │           \u001b[38;5;34m129\u001b[0m │\n",
       "└─────────────────────────────────┴────────────────────────┴───────────────┘\n"
      ]
     },
     "metadata": {},
     "output_type": "display_data"
    },
    {
     "data": {
      "text/html": [
       "<pre style=\"white-space:pre;overflow-x:auto;line-height:normal;font-family:Menlo,'DejaVu Sans Mono',consolas,'Courier New',monospace\"><span style=\"font-weight: bold\"> Total params: </span><span style=\"color: #00af00; text-decoration-color: #00af00\">376,709</span> (1.44 MB)\n",
       "</pre>\n"
      ],
      "text/plain": [
       "\u001b[1m Total params: \u001b[0m\u001b[38;5;34m376,709\u001b[0m (1.44 MB)\n"
      ]
     },
     "metadata": {},
     "output_type": "display_data"
    },
    {
     "data": {
      "text/html": [
       "<pre style=\"white-space:pre;overflow-x:auto;line-height:normal;font-family:Menlo,'DejaVu Sans Mono',consolas,'Courier New',monospace\"><span style=\"font-weight: bold\"> Trainable params: </span><span style=\"color: #00af00; text-decoration-color: #00af00\">125,569</span> (490.50 KB)\n",
       "</pre>\n"
      ],
      "text/plain": [
       "\u001b[1m Trainable params: \u001b[0m\u001b[38;5;34m125,569\u001b[0m (490.50 KB)\n"
      ]
     },
     "metadata": {},
     "output_type": "display_data"
    },
    {
     "data": {
      "text/html": [
       "<pre style=\"white-space:pre;overflow-x:auto;line-height:normal;font-family:Menlo,'DejaVu Sans Mono',consolas,'Courier New',monospace\"><span style=\"font-weight: bold\"> Non-trainable params: </span><span style=\"color: #00af00; text-decoration-color: #00af00\">0</span> (0.00 B)\n",
       "</pre>\n"
      ],
      "text/plain": [
       "\u001b[1m Non-trainable params: \u001b[0m\u001b[38;5;34m0\u001b[0m (0.00 B)\n"
      ]
     },
     "metadata": {},
     "output_type": "display_data"
    },
    {
     "data": {
      "text/html": [
       "<pre style=\"white-space:pre;overflow-x:auto;line-height:normal;font-family:Menlo,'DejaVu Sans Mono',consolas,'Courier New',monospace\"><span style=\"font-weight: bold\"> Optimizer params: </span><span style=\"color: #00af00; text-decoration-color: #00af00\">251,140</span> (981.02 KB)\n",
       "</pre>\n"
      ],
      "text/plain": [
       "\u001b[1m Optimizer params: \u001b[0m\u001b[38;5;34m251,140\u001b[0m (981.02 KB)\n"
      ]
     },
     "metadata": {},
     "output_type": "display_data"
    }
   ],
   "source": [
    "cnn_model.summary()\n"
   ]
  },
  {
   "cell_type": "code",
   "execution_count": 175,
   "id": "983d996a-c590-4208-b8a7-d125ba1fe53f",
   "metadata": {},
   "outputs": [
    {
     "name": "stdout",
     "output_type": "stream",
     "text": [
      "{0: 0.5649717514124294, 1: 4.3478260869565215}\n"
     ]
    }
   ],
   "source": [
    "print(class_weight_dict)  # Should be {0: weight1, 1: weight2}\n"
   ]
  },
  {
   "cell_type": "code",
   "execution_count": 177,
   "id": "b20ea307-bc79-498d-af16-073f86beac3c",
   "metadata": {},
   "outputs": [
    {
     "name": "stdout",
     "output_type": "stream",
     "text": [
      "Epoch 1/20\n",
      "\u001b[1m32/32\u001b[0m \u001b[32m━━━━━━━━━━━━━━━━━━━━\u001b[0m\u001b[37m\u001b[0m \u001b[1m1s\u001b[0m 38ms/step - accuracy: 0.6516 - loss: 0.5940 - val_accuracy: 0.8390 - val_loss: 0.4431\n",
      "Epoch 2/20\n",
      "\u001b[1m32/32\u001b[0m \u001b[32m━━━━━━━━━━━━━━━━━━━━\u001b[0m\u001b[37m\u001b[0m \u001b[1m1s\u001b[0m 17ms/step - accuracy: 0.7896 - loss: 0.5559 - val_accuracy: 0.6680 - val_loss: 0.5853\n",
      "Epoch 3/20\n",
      "\u001b[1m32/32\u001b[0m \u001b[32m━━━━━━━━━━━━━━━━━━━━\u001b[0m\u001b[37m\u001b[0m \u001b[1m1s\u001b[0m 17ms/step - accuracy: 0.6637 - loss: 0.5417 - val_accuracy: 0.6970 - val_loss: 0.5692\n",
      "Epoch 4/20\n",
      "\u001b[1m32/32\u001b[0m \u001b[32m━━━━━━━━━━━━━━━━━━━━\u001b[0m\u001b[37m\u001b[0m \u001b[1m1s\u001b[0m 17ms/step - accuracy: 0.6499 - loss: 0.5273 - val_accuracy: 0.6860 - val_loss: 0.5925\n",
      "Epoch 5/20\n",
      "\u001b[1m32/32\u001b[0m \u001b[32m━━━━━━━━━━━━━━━━━━━━\u001b[0m\u001b[37m\u001b[0m \u001b[1m1s\u001b[0m 16ms/step - accuracy: 0.7079 - loss: 0.5243 - val_accuracy: 0.7550 - val_loss: 0.5314\n",
      "Epoch 6/20\n",
      "\u001b[1m32/32\u001b[0m \u001b[32m━━━━━━━━━━━━━━━━━━━━\u001b[0m\u001b[37m\u001b[0m \u001b[1m1s\u001b[0m 17ms/step - accuracy: 0.7329 - loss: 0.4810 - val_accuracy: 0.7490 - val_loss: 0.5472\n",
      "Epoch 7/20\n",
      "\u001b[1m32/32\u001b[0m \u001b[32m━━━━━━━━━━━━━━━━━━━━\u001b[0m\u001b[37m\u001b[0m \u001b[1m1s\u001b[0m 16ms/step - accuracy: 0.7833 - loss: 0.4521 - val_accuracy: 0.7620 - val_loss: 0.5422\n",
      "Epoch 8/20\n",
      "\u001b[1m32/32\u001b[0m \u001b[32m━━━━━━━━━━━━━━━━━━━━\u001b[0m\u001b[37m\u001b[0m \u001b[1m0s\u001b[0m 9ms/step - accuracy: 0.7529 - loss: 0.4764 - val_accuracy: 0.6760 - val_loss: 0.6246\n",
      "Epoch 9/20\n",
      "\u001b[1m32/32\u001b[0m \u001b[32m━━━━━━━━━━━━━━━━━━━━\u001b[0m\u001b[37m\u001b[0m \u001b[1m0s\u001b[0m 11ms/step - accuracy: 0.7667 - loss: 0.4260 - val_accuracy: 0.8400 - val_loss: 0.5074\n",
      "Epoch 10/20\n",
      "\u001b[1m32/32\u001b[0m \u001b[32m━━━━━━━━━━━━━━━━━━━━\u001b[0m\u001b[37m\u001b[0m \u001b[1m0s\u001b[0m 13ms/step - accuracy: 0.8500 - loss: 0.4085 - val_accuracy: 0.7490 - val_loss: 0.5576\n",
      "Epoch 11/20\n",
      "\u001b[1m32/32\u001b[0m \u001b[32m━━━━━━━━━━━━━━━━━━━━\u001b[0m\u001b[37m\u001b[0m \u001b[1m1s\u001b[0m 15ms/step - accuracy: 0.8368 - loss: 0.3731 - val_accuracy: 0.6950 - val_loss: 0.6255\n",
      "Epoch 12/20\n",
      "\u001b[1m32/32\u001b[0m \u001b[32m━━━━━━━━━━━━━━━━━━━━\u001b[0m\u001b[37m\u001b[0m \u001b[1m0s\u001b[0m 10ms/step - accuracy: 0.7438 - loss: 0.3976 - val_accuracy: 0.7930 - val_loss: 0.5252\n",
      "Epoch 13/20\n",
      "\u001b[1m32/32\u001b[0m \u001b[32m━━━━━━━━━━━━━━━━━━━━\u001b[0m\u001b[37m\u001b[0m \u001b[1m0s\u001b[0m 13ms/step - accuracy: 0.8187 - loss: 0.4041 - val_accuracy: 0.8440 - val_loss: 0.5923\n",
      "Epoch 14/20\n",
      "\u001b[1m32/32\u001b[0m \u001b[32m━━━━━━━━━━━━━━━━━━━━\u001b[0m\u001b[37m\u001b[0m \u001b[1m0s\u001b[0m 12ms/step - accuracy: 0.8199 - loss: 0.4091 - val_accuracy: 0.7400 - val_loss: 0.6268\n",
      "Epoch 15/20\n",
      "\u001b[1m32/32\u001b[0m \u001b[32m━━━━━━━━━━━━━━━━━━━━\u001b[0m\u001b[37m\u001b[0m \u001b[1m1s\u001b[0m 15ms/step - accuracy: 0.8371 - loss: 0.3510 - val_accuracy: 0.8330 - val_loss: 0.5734\n",
      "Epoch 16/20\n",
      "\u001b[1m32/32\u001b[0m \u001b[32m━━━━━━━━━━━━━━━━━━━━\u001b[0m\u001b[37m\u001b[0m \u001b[1m0s\u001b[0m 9ms/step - accuracy: 0.8416 - loss: 0.3594 - val_accuracy: 0.7550 - val_loss: 0.6552\n",
      "Epoch 17/20\n",
      "\u001b[1m32/32\u001b[0m \u001b[32m━━━━━━━━━━━━━━━━━━━━\u001b[0m\u001b[37m\u001b[0m \u001b[1m0s\u001b[0m 9ms/step - accuracy: 0.8697 - loss: 0.3008 - val_accuracy: 0.8070 - val_loss: 0.6003\n",
      "Epoch 18/20\n",
      "\u001b[1m32/32\u001b[0m \u001b[32m━━━━━━━━━━━━━━━━━━━━\u001b[0m\u001b[37m\u001b[0m \u001b[1m0s\u001b[0m 11ms/step - accuracy: 0.8769 - loss: 0.2663 - val_accuracy: 0.7800 - val_loss: 0.6717\n",
      "Epoch 19/20\n",
      "\u001b[1m32/32\u001b[0m \u001b[32m━━━━━━━━━━━━━━━━━━━━\u001b[0m\u001b[37m\u001b[0m \u001b[1m0s\u001b[0m 10ms/step - accuracy: 0.8642 - loss: 0.2684 - val_accuracy: 0.8150 - val_loss: 0.6421\n",
      "Epoch 20/20\n",
      "\u001b[1m32/32\u001b[0m \u001b[32m━━━━━━━━━━━━━━━━━━━━\u001b[0m\u001b[37m\u001b[0m \u001b[1m0s\u001b[0m 15ms/step - accuracy: 0.8708 - loss: 0.2616 - val_accuracy: 0.8100 - val_loss: 0.6856\n"
     ]
    },
    {
     "data": {
      "text/plain": [
       "<keras.src.callbacks.history.History at 0x2b0d7deb110>"
      ]
     },
     "execution_count": 177,
     "metadata": {},
     "output_type": "execute_result"
    }
   ],
   "source": [
    "cnn_model.fit(np.array(X_train_cnn), np.array(y_train), epochs=20, batch_size=32, \n",
    "              validation_data=(np.array(X_test_cnn), np.array(y_test)), \n",
    "              class_weight=class_weight_dict)\n"
   ]
  },
  {
   "cell_type": "code",
   "execution_count": 179,
   "id": "409e34af-a4e8-45f5-89a7-5ca9b5b9f65e",
   "metadata": {},
   "outputs": [
    {
     "name": "stdout",
     "output_type": "stream",
     "text": [
      "Expected Input Shape: (None, 13, 1, 1)\n",
      "Actual Input Shape: (1000, 13, 1, 1)\n"
     ]
    }
   ],
   "source": [
    "print(f\"Expected Input Shape: {cnn_model.input_shape}\")  # Model's expected input shape\n",
    "print(f\"Actual Input Shape: {X_train_cnn.shape}\")        # Your training data shape\n"
   ]
  },
  {
   "cell_type": "code",
   "execution_count": 181,
   "id": "8c513747-770c-4e21-91d1-050aa2d38378",
   "metadata": {},
   "outputs": [
    {
     "name": "stdout",
     "output_type": "stream",
     "text": [
      "X_train_cnn dtype: float32\n",
      "y_train dtype: int32\n"
     ]
    }
   ],
   "source": [
    "print(f\"X_train_cnn dtype: {X_train_cnn.dtype}\")  \n",
    "print(f\"y_train dtype: {y_train.dtype}\")  \n"
   ]
  },
  {
   "cell_type": "code",
   "execution_count": 183,
   "id": "265929e6-255e-438b-bd39-4108e56ed6ed",
   "metadata": {},
   "outputs": [],
   "source": [
    "X_train_cnn = X_train_cnn.astype(np.float32)\n",
    "y_train = y_train.astype(np.int32)  # Ensure it's integer labels (not float)\n"
   ]
  },
  {
   "cell_type": "code",
   "execution_count": 185,
   "id": "6201a6b9-2e99-49c3-9dc3-5dd882457964",
   "metadata": {},
   "outputs": [
    {
     "name": "stdout",
     "output_type": "stream",
     "text": [
      "{0: 0.5649717514124294, 1: 4.3478260869565215}\n"
     ]
    }
   ],
   "source": [
    "print(class_weight_dict)  # Expected: {0: weight1, 1: weight2}\n"
   ]
  },
  {
   "cell_type": "code",
   "execution_count": 187,
   "id": "a76af8fc-6842-4979-9e9d-d70495362225",
   "metadata": {},
   "outputs": [
    {
     "name": "stdout",
     "output_type": "stream",
     "text": [
      "<class 'numpy.ndarray'> <class 'numpy.ndarray'>\n"
     ]
    }
   ],
   "source": [
    "print(type(X_train_cnn), type(y_train))  # Should both be <class 'numpy.ndarray'>\n"
   ]
  },
  {
   "cell_type": "code",
   "execution_count": 189,
   "id": "aa9912c9-a41c-442f-9427-9bae1e747cc7",
   "metadata": {},
   "outputs": [
    {
     "name": "stdout",
     "output_type": "stream",
     "text": [
      "\u001b[1m1/1\u001b[0m \u001b[32m━━━━━━━━━━━━━━━━━━━━\u001b[0m\u001b[37m\u001b[0m \u001b[1m0s\u001b[0m 166ms/step\n"
     ]
    },
    {
     "data": {
      "text/plain": [
       "array([[0.19259916],\n",
       "       [0.47873446],\n",
       "       [0.11882076],\n",
       "       [0.0160363 ],\n",
       "       [0.8380851 ]], dtype=float32)"
      ]
     },
     "execution_count": 189,
     "metadata": {},
     "output_type": "execute_result"
    }
   ],
   "source": [
    "cnn_model.predict(X_train_cnn[:5])  # Test with a small batch\n"
   ]
  },
  {
   "cell_type": "code",
   "execution_count": 191,
   "id": "4d4ca4c4-bd4b-43d5-a2bc-84f2c83288b3",
   "metadata": {},
   "outputs": [
    {
     "name": "stdout",
     "output_type": "stream",
     "text": [
      "\u001b[1m1/1\u001b[0m \u001b[32m━━━━━━━━━━━━━━━━━━━━\u001b[0m\u001b[37m\u001b[0m \u001b[1m0s\u001b[0m 275ms/step - accuracy: 0.8125 - loss: 0.2487 - val_accuracy: 0.8125 - val_loss: 0.3947\n"
     ]
    },
    {
     "data": {
      "text/plain": [
       "<keras.src.callbacks.history.History at 0x2b081b47a10>"
      ]
     },
     "execution_count": 191,
     "metadata": {},
     "output_type": "execute_result"
    }
   ],
   "source": [
    "cnn_model.fit(X_train_cnn[:32], y_train[:32], epochs=1, batch_size=32, \n",
    "              validation_data=(X_test_cnn[:32], y_test[:32]), \n",
    "              class_weight=class_weight_dict)\n"
   ]
  },
  {
   "cell_type": "code",
   "execution_count": 193,
   "id": "47b2ae2c-b6cd-43b0-9a4d-5e9939c93898",
   "metadata": {},
   "outputs": [
    {
     "name": "stdout",
     "output_type": "stream",
     "text": [
      "Epoch 1/20\n",
      "32/32 - 1s - 17ms/step - accuracy: 0.8840 - loss: 0.2423 - val_accuracy: 0.8340 - val_loss: 0.7145\n",
      "Epoch 2/20\n",
      "32/32 - 0s - 10ms/step - accuracy: 0.8980 - loss: 0.2142 - val_accuracy: 0.7790 - val_loss: 0.7592\n",
      "Epoch 3/20\n",
      "32/32 - 0s - 10ms/step - accuracy: 0.8870 - loss: 0.2147 - val_accuracy: 0.8320 - val_loss: 0.7847\n",
      "Epoch 4/20\n",
      "32/32 - 0s - 13ms/step - accuracy: 0.9090 - loss: 0.2066 - val_accuracy: 0.8210 - val_loss: 0.8033\n",
      "Epoch 5/20\n",
      "32/32 - 0s - 15ms/step - accuracy: 0.9080 - loss: 0.2180 - val_accuracy: 0.7750 - val_loss: 0.7697\n",
      "Epoch 6/20\n",
      "32/32 - 0s - 15ms/step - accuracy: 0.9110 - loss: 0.1910 - val_accuracy: 0.8090 - val_loss: 0.8134\n",
      "Epoch 7/20\n",
      "32/32 - 0s - 12ms/step - accuracy: 0.9210 - loss: 0.1864 - val_accuracy: 0.8110 - val_loss: 0.8559\n",
      "Epoch 8/20\n",
      "32/32 - 0s - 15ms/step - accuracy: 0.9140 - loss: 0.1813 - val_accuracy: 0.8250 - val_loss: 0.8739\n",
      "Epoch 9/20\n",
      "32/32 - 0s - 12ms/step - accuracy: 0.8910 - loss: 0.2300 - val_accuracy: 0.7990 - val_loss: 0.7993\n",
      "Epoch 10/20\n",
      "32/32 - 0s - 13ms/step - accuracy: 0.8900 - loss: 0.2035 - val_accuracy: 0.8240 - val_loss: 0.8462\n",
      "Epoch 11/20\n",
      "32/32 - 0s - 12ms/step - accuracy: 0.9230 - loss: 0.1739 - val_accuracy: 0.8130 - val_loss: 0.8590\n",
      "Epoch 12/20\n",
      "32/32 - 0s - 11ms/step - accuracy: 0.9310 - loss: 0.1857 - val_accuracy: 0.8110 - val_loss: 0.8877\n",
      "Epoch 13/20\n",
      "32/32 - 1s - 19ms/step - accuracy: 0.9230 - loss: 0.1812 - val_accuracy: 0.7610 - val_loss: 0.8680\n",
      "Epoch 14/20\n",
      "32/32 - 0s - 13ms/step - accuracy: 0.9230 - loss: 0.1677 - val_accuracy: 0.8220 - val_loss: 0.8714\n",
      "Epoch 15/20\n",
      "32/32 - 0s - 9ms/step - accuracy: 0.9490 - loss: 0.1259 - val_accuracy: 0.8310 - val_loss: 0.9408\n",
      "Epoch 16/20\n",
      "32/32 - 0s - 15ms/step - accuracy: 0.9340 - loss: 0.1445 - val_accuracy: 0.8620 - val_loss: 1.0152\n",
      "Epoch 17/20\n",
      "32/32 - 0s - 12ms/step - accuracy: 0.9520 - loss: 0.1410 - val_accuracy: 0.8290 - val_loss: 0.9529\n",
      "Epoch 18/20\n",
      "32/32 - 0s - 10ms/step - accuracy: 0.9390 - loss: 0.1490 - val_accuracy: 0.8130 - val_loss: 0.9793\n",
      "Epoch 19/20\n",
      "32/32 - 1s - 16ms/step - accuracy: 0.9410 - loss: 0.1428 - val_accuracy: 0.8250 - val_loss: 0.9961\n",
      "Epoch 20/20\n",
      "32/32 - 1s - 17ms/step - accuracy: 0.9410 - loss: 0.1390 - val_accuracy: 0.8350 - val_loss: 0.9990\n"
     ]
    },
    {
     "data": {
      "text/plain": [
       "<keras.src.callbacks.history.History at 0x2b0e858e480>"
      ]
     },
     "execution_count": 193,
     "metadata": {},
     "output_type": "execute_result"
    }
   ],
   "source": [
    "cnn_model.fit(X_train_cnn, y_train, epochs=20, batch_size=32, \n",
    "              validation_data=(X_test_cnn, y_test), \n",
    "              class_weight=class_weight_dict, verbose=2)\n"
   ]
  },
  {
   "cell_type": "code",
   "execution_count": 195,
   "id": "661546d1-9a10-4908-9a2b-084176bd01cb",
   "metadata": {},
   "outputs": [
    {
     "name": "stdout",
     "output_type": "stream",
     "text": [
      "\u001b[1m32/32\u001b[0m \u001b[32m━━━━━━━━━━━━━━━━━━━━\u001b[0m\u001b[37m\u001b[0m \u001b[1m0s\u001b[0m 3ms/step\n",
      "\n",
      "🔹 Model: CNN\n",
      "Accuracy: 0.8350\n",
      "Precision: 0.1739\n",
      "Recall: 0.1524\n",
      "F1 Score: 0.1624\n",
      "\n",
      "Classification Report:\n",
      "               precision    recall  f1-score   support\n",
      "\n",
      "         0.0       0.90      0.92      0.91       895\n",
      "         1.0       0.17      0.15      0.16       105\n",
      "\n",
      "    accuracy                           0.83      1000\n",
      "   macro avg       0.54      0.53      0.54      1000\n",
      "weighted avg       0.83      0.83      0.83      1000\n",
      "\n"
     ]
    },
    {
     "data": {
      "image/png": "[encoded data removed]",
      "text/plain": [
       "<Figure size 600x400 with 2 Axes>"
      ]
     },
     "metadata": {},
     "output_type": "display_data"
    },
    {
     "name": "stdout",
     "output_type": "stream",
     "text": [
      "\u001b[1m32/32\u001b[0m \u001b[32m━━━━━━━━━━━━━━━━━━━━\u001b[0m\u001b[37m\u001b[0m \u001b[1m1s\u001b[0m 22ms/step\n",
      "\n",
      "🔹 Model: LSTM\n",
      "Accuracy: 0.8950\n",
      "Precision: 0.0000\n",
      "Recall: 0.0000\n",
      "F1 Score: 0.0000\n",
      "\n",
      "Classification Report:\n",
      "               precision    recall  f1-score   support\n",
      "\n",
      "         0.0       0.90      1.00      0.94       895\n",
      "         1.0       0.00      0.00      0.00       105\n",
      "\n",
      "    accuracy                           0.90      1000\n",
      "   macro avg       0.45      0.50      0.47      1000\n",
      "weighted avg       0.80      0.90      0.85      1000\n",
      "\n"
     ]
    },
    {
     "name": "stderr",
     "output_type": "stream",
     "text": [
      "C:\\Users\\chint\\anaconda3\\Lib\\site-packages\\sklearn\\metrics\\_classification.py:1531: UndefinedMetricWarning: Precision is ill-defined and being set to 0.0 due to no predicted samples. Use `zero_division` parameter to control this behavior.\n",
      "  _warn_prf(average, modifier, f\"{metric.capitalize()} is\", len(result))\n",
      "C:\\Users\\chint\\anaconda3\\Lib\\site-packages\\sklearn\\metrics\\_classification.py:1531: UndefinedMetricWarning: Precision is ill-defined and being set to 0.0 in labels with no predicted samples. Use `zero_division` parameter to control this behavior.\n",
      "  _warn_prf(average, modifier, f\"{metric.capitalize()} is\", len(result))\n",
      "C:\\Users\\chint\\anaconda3\\Lib\\site-packages\\sklearn\\metrics\\_classification.py:1531: UndefinedMetricWarning: Precision is ill-defined and being set to 0.0 in labels with no predicted samples. Use `zero_division` parameter to control this behavior.\n",
      "  _warn_prf(average, modifier, f\"{metric.capitalize()} is\", len(result))\n",
      "C:\\Users\\chint\\anaconda3\\Lib\\site-packages\\sklearn\\metrics\\_classification.py:1531: UndefinedMetricWarning: Precision is ill-defined and being set to 0.0 in labels with no predicted samples. Use `zero_division` parameter to control this behavior.\n",
      "  _warn_prf(average, modifier, f\"{metric.capitalize()} is\", len(result))\n"
     ]
    },
    {
     "data": {
      "image/png": "[encoded data removed]",
      "text/plain": [
       "<Figure size 600x400 with 2 Axes>"
      ]
     },
     "metadata": {},
     "output_type": "display_data"
    },
    {
     "name": "stdout",
     "output_type": "stream",
     "text": [
      "\u001b[1m32/32\u001b[0m \u001b[32m━━━━━━━━━━━━━━━━━━━━\u001b[0m\u001b[37m\u001b[0m \u001b[1m2s\u001b[0m 32ms/step\n",
      "\n",
      "🔹 Model: CNN-LSTM\n",
      "Accuracy: 0.8950\n",
      "Precision: 0.0000\n",
      "Recall: 0.0000\n",
      "F1 Score: 0.0000\n",
      "\n",
      "Classification Report:\n",
      "               precision    recall  f1-score   support\n",
      "\n",
      "         0.0       0.90      1.00      0.94       895\n",
      "         1.0       0.00      0.00      0.00       105\n",
      "\n",
      "    accuracy                           0.90      1000\n",
      "   macro avg       0.45      0.50      0.47      1000\n",
      "weighted avg       0.80      0.90      0.85      1000\n",
      "\n"
     ]
    },
    {
     "name": "stderr",
     "output_type": "stream",
     "text": [
      "C:\\Users\\chint\\anaconda3\\Lib\\site-packages\\sklearn\\metrics\\_classification.py:1531: UndefinedMetricWarning: Precision is ill-defined and being set to 0.0 due to no predicted samples. Use `zero_division` parameter to control this behavior.\n",
      "  _warn_prf(average, modifier, f\"{metric.capitalize()} is\", len(result))\n",
      "C:\\Users\\chint\\anaconda3\\Lib\\site-packages\\sklearn\\metrics\\_classification.py:1531: UndefinedMetricWarning: Precision is ill-defined and being set to 0.0 in labels with no predicted samples. Use `zero_division` parameter to control this behavior.\n",
      "  _warn_prf(average, modifier, f\"{metric.capitalize()} is\", len(result))\n",
      "C:\\Users\\chint\\anaconda3\\Lib\\site-packages\\sklearn\\metrics\\_classification.py:1531: UndefinedMetricWarning: Precision is ill-defined and being set to 0.0 in labels with no predicted samples. Use `zero_division` parameter to control this behavior.\n",
      "  _warn_prf(average, modifier, f\"{metric.capitalize()} is\", len(result))\n",
      "C:\\Users\\chint\\anaconda3\\Lib\\site-packages\\sklearn\\metrics\\_classification.py:1531: UndefinedMetricWarning: Precision is ill-defined and being set to 0.0 in labels with no predicted samples. Use `zero_division` parameter to control this behavior.\n",
      "  _warn_prf(average, modifier, f\"{metric.capitalize()} is\", len(result))\n"
     ]
    },
    {
     "data": {
      "image/png": "[encoded data removed]",
      "text/plain": [
       "<Figure size 600x400 with 2 Axes>"
      ]
     },
     "metadata": {},
     "output_type": "display_data"
    },
    {
     "data": {
      "image/png": "[encoded data removed]",
      "text/plain": [
       "<Figure size 800x600 with 1 Axes>"
      ]
     },
     "metadata": {},
     "output_type": "display_data"
    }
   ],
   "source": [
    "from sklearn.metrics import accuracy_score, precision_score, recall_score, f1_score, confusion_matrix, classification_report\n",
    "import seaborn as sns\n",
    "import matplotlib.pyplot as plt\n",
    "\n",
    "# Function to evaluate model\n",
    "def evaluate_model(model, X_test, y_test, model_name):\n",
    "    y_pred = model.predict(X_test)\n",
    "    y_pred = (y_pred > 0.5).astype(int)  # Convert probabilities to class labels (0 or 1)\n",
    "\n",
    "    acc = accuracy_score(y_test, y_pred)\n",
    "    precision = precision_score(y_test, y_pred)\n",
    "    recall = recall_score(y_test, y_pred)\n",
    "    f1 = f1_score(y_test, y_pred)\n",
    "\n",
    "    print(f\"\\n🔹 Model: {model_name}\")\n",
    "    print(f\"Accuracy: {acc:.4f}\")\n",
    "    print(f\"Precision: {precision:.4f}\")\n",
    "    print(f\"Recall: {recall:.4f}\")\n",
    "    print(f\"F1 Score: {f1:.4f}\")\n",
    "    print(\"\\nClassification Report:\\n\", classification_report(y_test, y_pred))\n",
    "\n",
    "    # Plot confusion matrix\n",
    "    cm = confusion_matrix(y_test, y_pred)\n",
    "    plt.figure(figsize=(6, 4))\n",
    "    sns.heatmap(cm, annot=True, fmt='d', cmap='Blues', xticklabels=[\"Genuine\", \"Deepfake\"], yticklabels=[\"Genuine\", \"Deepfake\"])\n",
    "    plt.xlabel(\"Predicted Label\")\n",
    "    plt.ylabel(\"True Label\")\n",
    "    plt.title(f\"Confusion Matrix - {model_name}\")\n",
    "    plt.show()\n",
    "\n",
    "    return acc, precision, recall, f1\n",
    "\n",
    "# Evaluate CNN model\n",
    "cnn_metrics = evaluate_model(cnn_model, X_test_cnn, y_test, \"CNN\")\n",
    "\n",
    "# Evaluate LSTM model\n",
    "lstm_metrics = evaluate_model(lstm_model, X_test_lstm, y_test, \"LSTM\")\n",
    "\n",
    "# Evaluate CNN-LSTM model\n",
    "cnn_lstm_metrics = evaluate_model(cnn_lstm_model, X_test_cnn_lstm, y_test, \"CNN-LSTM\")\n",
    "\n",
    "# Compare Model Performance\n",
    "models = [\"CNN\", \"LSTM\", \"CNN-LSTM\"]\n",
    "metrics = [\"Accuracy\", \"Precision\", \"Recall\", \"F1 Score\"]\n",
    "values = [cnn_metrics, lstm_metrics, cnn_lstm_metrics]\n",
    "\n",
    "# Plot comparison bar chart\n",
    "plt.figure(figsize=(8, 6))\n",
    "for i, metric in enumerate(metrics):\n",
    "    plt.bar(models, [v[i] for v in values], label=metric)\n",
    "plt.xlabel(\"Models\")\n",
    "plt.ylabel(\"Score\")\n",
    "plt.title(\"Model Performance Comparison\")\n",
    "plt.legend()\n",
    "plt.show()\n"
   ]
  },
  {
   "cell_type": "code",
   "execution_count": 201,
   "id": "69e9961a-7984-4333-bacf-8d1fcefc5ab4",
   "metadata": {},
   "outputs": [
    {
     "name": "stdout",
     "output_type": "stream",
     "text": [
      "\u001b[1m32/32\u001b[0m \u001b[32m━━━━━━━━━━━━━━━━━━━━\u001b[0m\u001b[37m\u001b[0m \u001b[1m1s\u001b[0m 7ms/step\n",
      "Epoch 1/10\n",
      "\u001b[1m32/32\u001b[0m \u001b[32m━━━━━━━━━━━━━━━━━━━━\u001b[0m\u001b[37m\u001b[0m \u001b[1m2s\u001b[0m 22ms/step - accuracy: 0.9720 - loss: 0.0921 - val_accuracy: 0.8690 - val_loss: 1.0956\n",
      "Epoch 2/10\n",
      "\u001b[1m32/32\u001b[0m \u001b[32m━━━━━━━━━━━━━━━━━━━━\u001b[0m\u001b[37m\u001b[0m \u001b[1m1s\u001b[0m 17ms/step - accuracy: 0.9867 - loss: 0.0505 - val_accuracy: 0.8730 - val_loss: 1.1487\n",
      "Epoch 3/10\n",
      "\u001b[1m32/32\u001b[0m \u001b[32m━━━━━━━━━━━━━━━━━━━━\u001b[0m\u001b[37m\u001b[0m \u001b[1m1s\u001b[0m 16ms/step - accuracy: 0.9879 - loss: 0.0487 - val_accuracy: 0.8720 - val_loss: 1.1895\n",
      "Epoch 4/10\n",
      "\u001b[1m32/32\u001b[0m \u001b[32m━━━━━━━━━━━━━━━━━━━━\u001b[0m\u001b[37m\u001b[0m \u001b[1m0s\u001b[0m 10ms/step - accuracy: 0.9879 - loss: 0.0382 - val_accuracy: 0.8800 - val_loss: 1.2401\n",
      "Epoch 5/10\n",
      "\u001b[1m32/32\u001b[0m \u001b[32m━━━━━━━━━━━━━━━━━━━━\u001b[0m\u001b[37m\u001b[0m \u001b[1m0s\u001b[0m 9ms/step - accuracy: 0.9892 - loss: 0.0428 - val_accuracy: 0.8730 - val_loss: 1.1635\n",
      "Epoch 6/10\n",
      "\u001b[1m32/32\u001b[0m \u001b[32m━━━━━━━━━━━━━━━━━━━━\u001b[0m\u001b[37m\u001b[0m \u001b[1m0s\u001b[0m 10ms/step - accuracy: 0.9878 - loss: 0.0435 - val_accuracy: 0.8690 - val_loss: 1.2200\n",
      "Epoch 7/10\n",
      "\u001b[1m32/32\u001b[0m \u001b[32m━━━━━━━━━━━━━━━━━━━━\u001b[0m\u001b[37m\u001b[0m \u001b[1m0s\u001b[0m 13ms/step - accuracy: 0.9913 - loss: 0.0390 - val_accuracy: 0.8790 - val_loss: 1.3452\n",
      "Epoch 8/10\n",
      "\u001b[1m32/32\u001b[0m \u001b[32m━━━━━━━━━━━━━━━━━━━━\u001b[0m\u001b[37m\u001b[0m \u001b[1m0s\u001b[0m 11ms/step - accuracy: 0.9918 - loss: 0.0350 - val_accuracy: 0.8680 - val_loss: 1.2663\n",
      "Epoch 9/10\n",
      "\u001b[1m32/32\u001b[0m \u001b[32m━━━━━━━━━━━━━━━━━━━━\u001b[0m\u001b[37m\u001b[0m \u001b[1m0s\u001b[0m 11ms/step - accuracy: 0.9878 - loss: 0.0452 - val_accuracy: 0.8760 - val_loss: 1.2823\n",
      "Epoch 10/10\n",
      "\u001b[1m32/32\u001b[0m \u001b[32m━━━━━━━━━━━━━━━━━━━━\u001b[0m\u001b[37m\u001b[0m \u001b[1m0s\u001b[0m 10ms/step - accuracy: 0.9959 - loss: 0.0279 - val_accuracy: 0.8700 - val_loss: 1.2657\n",
      "\u001b[1m32/32\u001b[0m \u001b[32m━━━━━━━━━━━━━━━━━━━━\u001b[0m\u001b[37m\u001b[0m \u001b[1m0s\u001b[0m 5ms/step\n",
      "Accuracy before training: 0.8350\n",
      "Accuracy after training: 0.8700\n"
     ]
    }
   ],
   "source": [
    "# Before training\n",
    "pre_train_preds = cnn_model.predict(X_test_cnn)\n",
    "pre_train_acc = accuracy_score(y_test, (pre_train_preds > 0.5).astype(int))\n",
    "\n",
    "# Train the model (fine-tuning step)\n",
    "cnn_model.fit(X_train_cnn, y_train, epochs=10, batch_size=32, validation_data=(X_test_cnn, y_test))\n",
    "\n",
    "# After training\n",
    "post_train_preds = cnn_model.predict(X_test_cnn)\n",
    "post_train_acc = accuracy_score(y_test, (post_train_preds > 0.5).astype(int))\n",
    "\n",
    "print(f\"Accuracy before training: {pre_train_acc:.4f}\")\n",
    "print(f\"Accuracy after training: {post_train_acc:.4f}\")\n"
   ]
  },
  {
   "cell_type": "code",
   "execution_count": 203,
   "id": "84735728-5332-4e1e-b701-813f70e74db8",
   "metadata": {},
   "outputs": [
    {
     "name": "stderr",
     "output_type": "stream",
     "text": [
      "WARNING:absl:You are saving your model as an HDF5 file via `model.save()` or `keras.saving.save_model(model)`. This file format is considered legacy. We recommend using instead the native Keras format, e.g. `model.save('my_model.keras')` or `keras.saving.save_model(model, 'my_model.keras')`. \n",
      "WARNING:absl:You are saving your model as an HDF5 file via `model.save()` or `keras.saving.save_model(model)`. This file format is considered legacy. We recommend using instead the native Keras format, e.g. `model.save('my_model.keras')` or `keras.saving.save_model(model, 'my_model.keras')`. \n",
      "WARNING:absl:You are saving your model as an HDF5 file via `model.save()` or `keras.saving.save_model(model)`. This file format is considered legacy. We recommend using instead the native Keras format, e.g. `model.save('my_model.keras')` or `keras.saving.save_model(model, 'my_model.keras')`. \n"
     ]
    }
   ],
   "source": [
    "cnn_model.save(\"fine_tuned_cnn_model.h5\")\n",
    "lstm_model.save(\"fine_tuned_lstm_model.h5\")\n",
    "cnn_lstm_model.save(\"fine_tuned_cnn_lstm_model.h5\")\n"
   ]
  },
  {
   "cell_type": "code",
   "execution_count": null,
   "id": "e8b2579f-3661-4bfa-8a56-c3c0041d4855",
   "metadata": {},
   "outputs": [],
   "source": []
  }
 ],
 "metadata": {
  "kernelspec": {
   "display_name": "Python [conda env:base] *",
   "language": "python",
   "name": "conda-base-py"
  },
  "language_info": {
   "codemirror_mode": {
    "name": "ipython",
    "version": 3
   },
   "file_extension": ".py",
   "mimetype": "text/x-python",
   "name": "python",
   "nbconvert_exporter": "python",
   "pygments_lexer": "ipython3",
   "version": "3.12.7"
  }
 },
 "nbformat": 4,
 "nbformat_minor": 5
}
